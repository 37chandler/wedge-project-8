{
 "cells": [
  {
   "cell_type": "markdown",
   "metadata": {},
   "source": [
    "## Task 2: A Sample of Owners\n",
    "These files are not easy to use in their current chronological arrangement, though having them in a large system like GBQ will solve a lot of our problems. Nevertheless, it’ll be convenient to have a local sample of owners to do work.\n",
    "\n",
    "This task asks you to generate a file of owners where the file contains every record for each owner. There will be more than one owner in the file, and I do not want you to include card_no==3, which is the code for non-owners. The size of the sample is up to you, but I’d recommend shooting for a sample that’s around 250 MB. That’s big enough to be rich, but small enough to be fast. Ish.\n",
    "\n",
    "Deliverable\n",
    "A Python script that handles the following tasks:\n",
    "\n",
    "Connects to your GBQ instance.\n",
    "Builds a list of owners.\n",
    "Takes a sample of the owners.\n",
    "Extracts all records associated with those owners and writes them to a local text file.\n",
    "You’ll submit your code carrying out the steps."
   ]
  },
  {
   "cell_type": "code",
   "execution_count": 12,
   "metadata": {},
   "outputs": [],
   "source": [
    "from google.cloud import bigquery\n",
    "import os\n",
    "import pandas as pd\n"
   ]
  },
  {
   "cell_type": "code",
   "execution_count": 8,
   "metadata": {},
   "outputs": [],
   "source": [
    "# Set up a client\n",
    "client = bigquery.Client(project = \"umt-msba\")"
   ]
  },
  {
   "cell_type": "code",
   "execution_count": 9,
   "metadata": {},
   "outputs": [
    {
     "name": "stdout",
     "output_type": "stream",
     "text": [
      "   card_no\n",
      "0  46261.0\n",
      "1  46428.0\n",
      "2  47794.0\n",
      "3  47848.0\n",
      "4  48313.0\n"
     ]
    }
   ],
   "source": [
    "# Write your query\n",
    "query = \"\"\"\n",
    "    SELECT DISTINCT card_no\n",
    "    FROM `umt-msba.transactions.transArchive_*`\n",
    "    GROUP BY card_no;\n",
    "    \n",
    "\"\"\"\n",
    "# Execute the query\n",
    "try:\n",
    "    query_job = client.query(query)  # Start the query job\n",
    "    df = query_job.to_dataframe()  # Convert the result to a pandas DataFrame\n",
    "\n",
    "    # View the DataFrame\n",
    "    print(df.head())  # Show the first 5 rows of the DataFrame\n",
    "\n",
    "except Exception as e:\n",
    "    print(f\"Query failed: {e}\")"
   ]
  },
  {
   "cell_type": "markdown",
   "metadata": {},
   "source": [
    "### Sample the Owners"
   ]
  },
  {
   "cell_type": "code",
   "execution_count": null,
   "metadata": {},
   "outputs": [],
   "source": [
    "sampled_owners = df.sample(n=500, random_state=1)  # Sample 10 owners\n",
    "\n",
    "owners_list = sampled_owners['card_no'].tolist()\n",
    "\n",
    "# Write query to extract all records for the sampled owners\n",
    "query = f\"\"\"\n",
    "    SELECT *\n",
    "    FROM `umt-msba.transactions.transArchive_*`\n",
    "    WHERE card_no IN ({', '.join(map(str, owners_list))});\n",
    "\"\"\"\n",
    "\n",
    "# Step 3: Execute the query to get all associated records\n",
    "try:\n",
    "    query_job = client.query(query)  # Start the query job\n",
    "    records_df = query_job.to_dataframe()  # Convert the result to a pandas DataFrame\n",
    "\n",
    "    # Step 4: Write the records to a local text file\n",
    "    records_df.to_csv('sampled_owners_records.txt', index=False, sep='\\t')\n",
    "\n",
    "    print(\"Records successfully written to sampled_owners_records.txt\")\n",
    "\n",
    "except Exception as e:\n",
    "    print(f\"Query failed: {e}\")\n"
   ]
  },
  {
   "cell_type": "code",
   "execution_count": 16,
   "metadata": {},
   "outputs": [
    {
     "name": "stdout",
     "output_type": "stream",
     "text": [
      "Records successfully written to Data/sampled_owners_records.txt\n",
      "File size: 302.59 MB\n"
     ]
    }
   ],
   "source": [
    "# Write the records to a local text file\n",
    "file_path = 'Data/sampled_owners_records.txt'\n",
    "records_df.to_csv(file_path, index=False, sep='\\t')\n",
    "\n",
    "# Get and print the size of the file\n",
    "file_size = os.path.getsize(file_path)\n",
    "print(f\"Records successfully written to {file_path}\")\n",
    "print(f\"File size: {file_size / (1024 * 1024):.2f} MB\")  # Convert from bytes to MB"
   ]
  },
  {
   "cell_type": "markdown",
   "metadata": {},
   "source": [
    "#Careful!!!!\n",
    "--sample only from one set of data.\n",
    "-- not sample all records for card_no....and make sure have all records for that card no. not just one record--- don't sample by row\n"
   ]
  }
 ],
 "metadata": {
  "kernelspec": {
   "display_name": "Python 3",
   "language": "python",
   "name": "python3"
  },
  "language_info": {
   "codemirror_mode": {
    "name": "ipython",
    "version": 3
   },
   "file_extension": ".py",
   "mimetype": "text/x-python",
   "name": "python",
   "nbconvert_exporter": "python",
   "pygments_lexer": "ipython3",
   "version": "3.12.2"
  }
 },
 "nbformat": 4,
 "nbformat_minor": 2
}
