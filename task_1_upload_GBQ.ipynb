{
 "cells": [
  {
   "cell_type": "markdown",
   "metadata": {},
   "source": [
    "# Task 1 (Part 2): Upload to Big Query\n",
    "\n",
    "This second part of task 1 takes all the csv files in the `processed_files` folder and uploads them to Google Big Query. "
   ]
  },
  {
   "cell_type": "markdown",
   "metadata": {},
   "source": [
    "#### Import Libraries"
   ]
  },
  {
   "cell_type": "code",
   "execution_count": 1,
   "metadata": {},
   "outputs": [],
   "source": [
    "import os\n",
    "import pandas as pd\n",
    "from pandas_gbq import to_gbq\n",
    "from google.cloud import bigquery\n",
    "\n",
    "\n",
    "import re\n"
   ]
  },
  {
   "cell_type": "markdown",
   "metadata": {},
   "source": [
    "#### Configure Goggle Big Query Project"
   ]
  },
  {
   "cell_type": "code",
   "execution_count": 2,
   "metadata": {},
   "outputs": [],
   "source": [
    "gbq_project_ID = \"wedge-project-np\"\n",
    "gbq_dataset_ID = \"wedge\"\n",
    "\n",
    "client = bigquery.Client(project = gbq_project_ID)\n",
    "credentials = client._credentials"
   ]
  },
  {
   "cell_type": "markdown",
   "metadata": {},
   "source": [
    "#### Set Data Path"
   ]
  },
  {
   "cell_type": "code",
   "execution_count": 3,
   "metadata": {},
   "outputs": [],
   "source": [
    "data_directory = \"Data/processed_files/\""
   ]
  },
  {
   "cell_type": "markdown",
   "metadata": {},
   "source": [
    "#### Setup Big Query Schema"
   ]
  },
  {
   "cell_type": "code",
   "execution_count": 5,
   "metadata": {},
   "outputs": [],
   "source": [
    "# Define the Big Query schema\n",
    "schema = [\n",
    "    bigquery.SchemaField(\"datetime\", \"TIMESTAMP\", mode=\"NULLABLE\"),\n",
    "    bigquery.SchemaField(\"register_no\", \"FLOAT\", mode=\"NULLABLE\"),\n",
    "    bigquery.SchemaField(\"emp_no\", \"FLOAT\", mode=\"NULLABLE\"),\n",
    "    bigquery.SchemaField(\"trans_no\", \"FLOAT\", mode=\"NULLABLE\"),\n",
    "    bigquery.SchemaField(\"upc\", \"STRING\", mode=\"NULLABLE\"),\n",
    "    bigquery.SchemaField(\"description\", \"STRING\", mode=\"NULLABLE\"),\n",
    "    bigquery.SchemaField(\"trans_type\", \"STRING\", mode=\"NULLABLE\"),\n",
    "    bigquery.SchemaField(\"trans_subtype\", \"STRING\", mode=\"NULLABLE\"),\n",
    "    bigquery.SchemaField(\"trans_status\", \"STRING\", mode=\"NULLABLE\"),\n",
    "    bigquery.SchemaField(\"department\", \"FLOAT\", mode=\"NULLABLE\"),\n",
    "    bigquery.SchemaField(\"quantity\", \"FLOAT\", mode=\"NULLABLE\"),\n",
    "    bigquery.SchemaField(\"Scale\", \"FLOAT\", mode=\"NULLABLE\"),\n",
    "    bigquery.SchemaField(\"cost\", \"FLOAT\", mode=\"NULLABLE\"),\n",
    "    bigquery.SchemaField(\"unitPrice\", \"FLOAT\", mode=\"NULLABLE\"),\n",
    "    bigquery.SchemaField(\"total\", \"FLOAT\", mode=\"NULLABLE\"),\n",
    "    bigquery.SchemaField(\"regPrice\", \"FLOAT\", mode=\"NULLABLE\"),\n",
    "    bigquery.SchemaField(\"altPrice\", \"FLOAT\", mode=\"NULLABLE\"),\n",
    "    bigquery.SchemaField(\"tax\", \"FLOAT\", mode=\"NULLABLE\"),\n",
    "    bigquery.SchemaField(\"taxexempt\", \"FLOAT\", mode=\"NULLABLE\"),\n",
    "    bigquery.SchemaField(\"foodstamp\", \"FLOAT\", mode=\"NULLABLE\"),\n",
    "    bigquery.SchemaField(\"wicable\", \"FLOAT\", mode=\"NULLABLE\"),\n",
    "    bigquery.SchemaField(\"discount\", \"FLOAT\", mode=\"NULLABLE\"),\n",
    "    bigquery.SchemaField(\"memDiscount\", \"FLOAT\", mode=\"NULLABLE\"),\n",
    "    bigquery.SchemaField(\"discountable\", \"FLOAT\", mode=\"NULLABLE\"),\n",
    "    bigquery.SchemaField(\"discounttype\", \"FLOAT\", mode=\"NULLABLE\"),\n",
    "    bigquery.SchemaField(\"voided\", \"FLOAT\", mode=\"NULLABLE\"),\n",
    "    bigquery.SchemaField(\"percentDiscount\", \"FLOAT\", mode=\"NULLABLE\"),\n",
    "    bigquery.SchemaField(\"ItemQtty\", \"FLOAT\", mode=\"NULLABLE\"),\n",
    "    bigquery.SchemaField(\"volDiscType\", \"FLOAT\", mode=\"NULLABLE\"),\n",
    "    bigquery.SchemaField(\"volume\", \"FLOAT\", mode=\"NULLABLE\"),\n",
    "    bigquery.SchemaField(\"VolSpecial\", \"FLOAT\", mode=\"NULLABLE\"),\n",
    "    bigquery.SchemaField(\"mixMatch\", \"FLOAT\", mode=\"NULLABLE\"),\n",
    "    bigquery.SchemaField(\"matched\", \"FLOAT\", mode=\"NULLABLE\"),\n",
    "    bigquery.SchemaField(\"memType\", \"BOOLEAN\", mode=\"NULLABLE\"),\n",
    "    bigquery.SchemaField(\"staff\", \"BOOLEAN\", mode=\"NULLABLE\"),\n",
    "    bigquery.SchemaField(\"numflag\", \"FLOAT\", mode=\"NULLABLE\"),\n",
    "    bigquery.SchemaField(\"itemstatus\", \"FLOAT\", mode=\"NULLABLE\"),\n",
    "    bigquery.SchemaField(\"tenderstatus\", \"FLOAT\", mode=\"NULLABLE\"),\n",
    "    bigquery.SchemaField(\"charflag\", \"STRING\", mode=\"NULLABLE\"),\n",
    "    bigquery.SchemaField(\"varflag\", \"FLOAT\", mode=\"NULLABLE\"),\n",
    "    bigquery.SchemaField(\"batchHeaderID\", \"BOOLEAN\", mode=\"NULLABLE\"),\n",
    "    bigquery.SchemaField(\"local\", \"FLOAT\", mode=\"NULLABLE\"),\n",
    "    bigquery.SchemaField(\"organic\", \"FLOAT\", mode=\"NULLABLE\"),\n",
    "    bigquery.SchemaField(\"display\", \"BOOLEAN\", mode=\"NULLABLE\"),\n",
    "    bigquery.SchemaField(\"receipt\", \"FLOAT\", mode=\"NULLABLE\"),\n",
    "    bigquery.SchemaField(\"card_no\", \"FLOAT\", mode=\"NULLABLE\"),\n",
    "    bigquery.SchemaField(\"store\", \"FLOAT\", mode=\"NULLABLE\"),\n",
    "    bigquery.SchemaField(\"branch\", \"FLOAT\", mode=\"NULLABLE\"),\n",
    "    bigquery.SchemaField(\"match_id\", \"FLOAT\", mode=\"NULLABLE\"),\n",
    "    bigquery.SchemaField(\"trans_id\", \"FLOAT\", mode=\"NULLABLE\")\n",
    "]\n",
    "\n",
    "# Set the schema in the job config\n",
    "job_config = bigquery.LoadJobConfig(schema=schema)"
   ]
  },
  {
   "cell_type": "markdown",
   "metadata": {},
   "source": [
    "#### Configure Big Query"
   ]
  },
  {
   "cell_type": "code",
   "execution_count": 6,
   "metadata": {},
   "outputs": [],
   "source": [
    "job_config = bigquery.LoadJobConfig(\n",
    "    schema=schema,\n",
    "    source_format=bigquery.SourceFormat.CSV,\n",
    "    skip_leading_rows=1,  # Skip header row\n",
    "    write_disposition = bigquery.WriteDisposition.WRITE_APPEND,\n",
    "    schema_update_options = [bigquery.SchemaUpdateOption.ALLOW_FIELD_ADDITION]  \n",
    ")"
   ]
  },
  {
   "cell_type": "markdown",
   "metadata": {},
   "source": [
    "#### Setup Data Directories"
   ]
  },
  {
   "cell_type": "code",
   "execution_count": 7,
   "metadata": {},
   "outputs": [],
   "source": [
    "clean_files = os.listdir(data_directory)\n",
    "file_ending = \"_processed.csv\""
   ]
  },
  {
   "cell_type": "markdown",
   "metadata": {},
   "source": [
    "### Loop over to upload all Processed Files"
   ]
  },
  {
   "cell_type": "markdown",
   "metadata": {},
   "source": [
    "This loop takes each .csv file in the `processed_files` folder, removes the end of the file name, uploads it to Big Query using the configuration settings, and prints out a \"uploaded successfully\" statement. "
   ]
  },
  {
   "cell_type": "code",
   "execution_count": 8,
   "metadata": {},
   "outputs": [
    {
     "name": "stdout",
     "output_type": "stream",
     "text": [
      "Uploading transArchive_201001_201003_processed.csv to BigQuery...\n",
      "transArchive_201001_201003_processed.csv uploaded successfully to wedge.transArchive_201001_201003.\n",
      "Uploading transArchive_201004_201006_processed.csv to BigQuery...\n",
      "transArchive_201004_201006_processed.csv uploaded successfully to wedge.transArchive_201004_201006.\n",
      "Uploading transArchive_201007_201009_processed.csv to BigQuery...\n",
      "transArchive_201007_201009_processed.csv uploaded successfully to wedge.transArchive_201007_201009.\n",
      "Uploading transArchive_201010_201012_processed.csv to BigQuery...\n",
      "transArchive_201010_201012_processed.csv uploaded successfully to wedge.transArchive_201010_201012.\n",
      "Uploading transArchive_201101_201103_processed.csv to BigQuery...\n",
      "transArchive_201101_201103_processed.csv uploaded successfully to wedge.transArchive_201101_201103.\n",
      "Uploading transArchive_201104_processed.csv to BigQuery...\n",
      "transArchive_201104_processed.csv uploaded successfully to wedge.transArchive_201104.\n",
      "Uploading transArchive_201105_processed.csv to BigQuery...\n",
      "transArchive_201105_processed.csv uploaded successfully to wedge.transArchive_201105.\n",
      "Uploading transArchive_201106_processed.csv to BigQuery...\n",
      "transArchive_201106_processed.csv uploaded successfully to wedge.transArchive_201106.\n",
      "Uploading transArchive_201107_201109_processed.csv to BigQuery...\n",
      "transArchive_201107_201109_processed.csv uploaded successfully to wedge.transArchive_201107_201109.\n",
      "Uploading transArchive_201110_201112_processed.csv to BigQuery...\n",
      "transArchive_201110_201112_processed.csv uploaded successfully to wedge.transArchive_201110_201112.\n",
      "Uploading transArchive_201201_201203_inactive_processed.csv to BigQuery...\n",
      "transArchive_201201_201203_inactive_processed.csv uploaded successfully to wedge.transArchive_201201_201203_inactive.\n",
      "Uploading transArchive_201201_201203_processed.csv to BigQuery...\n",
      "transArchive_201201_201203_processed.csv uploaded successfully to wedge.transArchive_201201_201203.\n",
      "Uploading transArchive_201204_201206_inactive_processed.csv to BigQuery...\n",
      "transArchive_201204_201206_inactive_processed.csv uploaded successfully to wedge.transArchive_201204_201206_inactive.\n",
      "Uploading transArchive_201204_201206_processed.csv to BigQuery...\n",
      "transArchive_201204_201206_processed.csv uploaded successfully to wedge.transArchive_201204_201206.\n",
      "Uploading transArchive_201207_201209_inactive_processed.csv to BigQuery...\n",
      "transArchive_201207_201209_inactive_processed.csv uploaded successfully to wedge.transArchive_201207_201209_inactive.\n",
      "Uploading transArchive_201207_201209_processed.csv to BigQuery...\n",
      "transArchive_201207_201209_processed.csv uploaded successfully to wedge.transArchive_201207_201209.\n",
      "Uploading transArchive_201210_201212_inactive_processed.csv to BigQuery...\n",
      "transArchive_201210_201212_inactive_processed.csv uploaded successfully to wedge.transArchive_201210_201212_inactive.\n",
      "Uploading transArchive_201210_201212_processed.csv to BigQuery...\n",
      "transArchive_201210_201212_processed.csv uploaded successfully to wedge.transArchive_201210_201212.\n",
      "Uploading transArchive_201301_201303_inactive_processed.csv to BigQuery...\n",
      "transArchive_201301_201303_inactive_processed.csv uploaded successfully to wedge.transArchive_201301_201303_inactive.\n",
      "Uploading transArchive_201301_201303_processed.csv to BigQuery...\n",
      "transArchive_201301_201303_processed.csv uploaded successfully to wedge.transArchive_201301_201303.\n",
      "Uploading transArchive_201304_201306_inactive_processed.csv to BigQuery...\n",
      "transArchive_201304_201306_inactive_processed.csv uploaded successfully to wedge.transArchive_201304_201306_inactive.\n",
      "Uploading transArchive_201304_201306_processed.csv to BigQuery...\n",
      "transArchive_201304_201306_processed.csv uploaded successfully to wedge.transArchive_201304_201306.\n",
      "Uploading transArchive_201307_201309_inactive_processed.csv to BigQuery...\n",
      "transArchive_201307_201309_inactive_processed.csv uploaded successfully to wedge.transArchive_201307_201309_inactive.\n",
      "Uploading transArchive_201307_201309_processed.csv to BigQuery...\n",
      "transArchive_201307_201309_processed.csv uploaded successfully to wedge.transArchive_201307_201309.\n",
      "Uploading transArchive_201310_201312_inactive_processed.csv to BigQuery...\n",
      "transArchive_201310_201312_inactive_processed.csv uploaded successfully to wedge.transArchive_201310_201312_inactive.\n",
      "Uploading transArchive_201310_201312_processed.csv to BigQuery...\n",
      "transArchive_201310_201312_processed.csv uploaded successfully to wedge.transArchive_201310_201312.\n",
      "Uploading transArchive_201401_201403_inactive_processed.csv to BigQuery...\n",
      "transArchive_201401_201403_inactive_processed.csv uploaded successfully to wedge.transArchive_201401_201403_inactive.\n",
      "Uploading transArchive_201401_201403_processed.csv to BigQuery...\n",
      "transArchive_201401_201403_processed.csv uploaded successfully to wedge.transArchive_201401_201403.\n",
      "Uploading transArchive_201404_201406_inactive_processed.csv to BigQuery...\n",
      "transArchive_201404_201406_inactive_processed.csv uploaded successfully to wedge.transArchive_201404_201406_inactive.\n",
      "Uploading transArchive_201404_201406_processed.csv to BigQuery...\n",
      "transArchive_201404_201406_processed.csv uploaded successfully to wedge.transArchive_201404_201406.\n",
      "Uploading transArchive_201407_201409_inactive_processed.csv to BigQuery...\n",
      "transArchive_201407_201409_inactive_processed.csv uploaded successfully to wedge.transArchive_201407_201409_inactive.\n",
      "Uploading transArchive_201407_201409_processed.csv to BigQuery...\n",
      "transArchive_201407_201409_processed.csv uploaded successfully to wedge.transArchive_201407_201409.\n",
      "Uploading transArchive_201410_201412_inactive_processed.csv to BigQuery...\n",
      "transArchive_201410_201412_inactive_processed.csv uploaded successfully to wedge.transArchive_201410_201412_inactive.\n",
      "Uploading transArchive_201410_201412_processed.csv to BigQuery...\n",
      "transArchive_201410_201412_processed.csv uploaded successfully to wedge.transArchive_201410_201412.\n",
      "Uploading transArchive_201501_201503_processed.csv to BigQuery...\n",
      "transArchive_201501_201503_processed.csv uploaded successfully to wedge.transArchive_201501_201503.\n",
      "Uploading transArchive_201504_201506_processed.csv to BigQuery...\n",
      "transArchive_201504_201506_processed.csv uploaded successfully to wedge.transArchive_201504_201506.\n",
      "Uploading transArchive_201507_201509_processed.csv to BigQuery...\n",
      "transArchive_201507_201509_processed.csv uploaded successfully to wedge.transArchive_201507_201509.\n",
      "Uploading transArchive_201510_processed.csv to BigQuery...\n",
      "transArchive_201510_processed.csv uploaded successfully to wedge.transArchive_201510.\n",
      "Uploading transArchive_201511_processed.csv to BigQuery...\n",
      "transArchive_201511_processed.csv uploaded successfully to wedge.transArchive_201511.\n",
      "Uploading transArchive_201512_processed.csv to BigQuery...\n",
      "transArchive_201512_processed.csv uploaded successfully to wedge.transArchive_201512.\n",
      "Uploading transArchive_201601_processed.csv to BigQuery...\n",
      "transArchive_201601_processed.csv uploaded successfully to wedge.transArchive_201601.\n",
      "Uploading transArchive_201602_processed.csv to BigQuery...\n",
      "transArchive_201602_processed.csv uploaded successfully to wedge.transArchive_201602.\n",
      "Uploading transArchive_201603_processed.csv to BigQuery...\n",
      "transArchive_201603_processed.csv uploaded successfully to wedge.transArchive_201603.\n",
      "Uploading transArchive_201604_processed.csv to BigQuery...\n",
      "transArchive_201604_processed.csv uploaded successfully to wedge.transArchive_201604.\n",
      "Uploading transArchive_201605_processed.csv to BigQuery...\n",
      "transArchive_201605_processed.csv uploaded successfully to wedge.transArchive_201605.\n",
      "Uploading transArchive_201606_processed.csv to BigQuery...\n",
      "transArchive_201606_processed.csv uploaded successfully to wedge.transArchive_201606.\n",
      "Uploading transArchive_201607_processed.csv to BigQuery...\n",
      "transArchive_201607_processed.csv uploaded successfully to wedge.transArchive_201607.\n",
      "Uploading transArchive_201608_processed.csv to BigQuery...\n",
      "transArchive_201608_processed.csv uploaded successfully to wedge.transArchive_201608.\n",
      "Uploading transArchive_201609_processed.csv to BigQuery...\n",
      "transArchive_201609_processed.csv uploaded successfully to wedge.transArchive_201609.\n",
      "Uploading transArchive_201610_processed.csv to BigQuery...\n",
      "transArchive_201610_processed.csv uploaded successfully to wedge.transArchive_201610.\n",
      "Uploading transArchive_201611_processed.csv to BigQuery...\n",
      "transArchive_201611_processed.csv uploaded successfully to wedge.transArchive_201611.\n",
      "Uploading transArchive_201612_processed.csv to BigQuery...\n",
      "transArchive_201612_processed.csv uploaded successfully to wedge.transArchive_201612.\n",
      "Uploading transArchive_201701_processed.csv to BigQuery...\n",
      "transArchive_201701_processed.csv uploaded successfully to wedge.transArchive_201701.\n"
     ]
    }
   ],
   "source": [
    "for file_name in os.listdir(data_directory):\n",
    "    if file_name.endswith(\"_processed.csv\"):\n",
    "        # Construct full path and table name\n",
    "        full_path = os.path.join(data_directory, file_name)\n",
    "        table_name = file_name.replace(\"_processed.csv\", \"\")  # Remove suffix\n",
    "        full_table_name = f\"{gbq_dataset_ID}.{table_name}\"  # Full table name\n",
    "\n",
    "        # Check if the file exists\n",
    "        if os.path.exists(full_path):\n",
    "            print(f\"Uploading {file_name} to BigQuery...\")\n",
    "\n",
    "            # Open the CSV and upload to BigQuery\n",
    "            with open(full_path, 'rb') as source_file:\n",
    "                job = client.load_table_from_file(\n",
    "                    source_file,\n",
    "                    full_table_name,\n",
    "                    job_config=job_config,\n",
    "                )\n",
    "                job.result()  # Wait for the job to complete\n",
    "                print(f\"{file_name} uploaded successfully to {full_table_name}.\")\n",
    "        \n",
    "        else:\n",
    "            print(f\"File not found: {file_name}\")\n",
    "        "
   ]
  },
  {
   "cell_type": "markdown",
   "metadata": {},
   "source": [
    "#### Toolbox"
   ]
  },
  {
   "cell_type": "markdown",
   "metadata": {},
   "source": [
    "This tool is used to test just one file without setting the configuration. I used this multiple times when I could not get my configuration setup right and just want to test speed, etc. "
   ]
  },
  {
   "cell_type": "code",
   "execution_count": null,
   "metadata": {},
   "outputs": [],
   "source": [
    "###################################################################\n",
    "####### Tool to Test 1 Table  #####################################\n",
    "###################################################################\n",
    "\n",
    "for file_name in clean_files:\n",
    "    df= pd.read_csv(data_directory + file_name)\n",
    "    table_name = file_name.replace(file_ending, \"\")\n",
    "\n",
    "    full_table_name = f\"{gbq_dataset_ID}.{table_name}\"\n",
    "    to_gbq(df, full_table_name, project_id=gbq_project_ID, if_exists=\"replace\", credentials=credentials)\n",
    "    break"
   ]
  },
  {
   "cell_type": "markdown",
   "metadata": {},
   "source": [
    "This tool is used to delete all the existing tables on BigQuery. For some reason I could not get my configure with `.truncate` to work so anytime I had a matching table name, I had to delete it manually. "
   ]
  },
  {
   "cell_type": "code",
   "execution_count": null,
   "metadata": {},
   "outputs": [],
   "source": [
    "###################################################################\n",
    "####### Tool to Delete GBQ Tables   ###############################\n",
    "###################################################################\n",
    "\n",
    "gbq_project_ID = \"wedge-project-np\"\n",
    "gbq_dataset_ID = \"wedge\"\n",
    "\n",
    "client = bigquery.Client(project = gbq_project_ID)\n",
    "credentials = client._credentials\n",
    "\n",
    "def delete_tables(gbq_dataset_ID, table_names):\n",
    "    \"\"\"\n",
    "    Delete multiple tables from a BigQuery dataset.\n",
    "\n",
    "    Args:\n",
    "        dataset_id: The ID of the dataset containing the tables.\n",
    "        table_names: A list of table names to delete.\n",
    "    \"\"\"\n",
    "    for table_name in table_names:\n",
    "        table_id = f\"{gbq_project_ID}.{gbq_dataset_ID}.{table_name}\"\n",
    "        try:\n",
    "            print(f\"Deleting table: {table_id}...\")\n",
    "            client.delete_table(table_id, not_found_ok=True)\n",
    "            print(f\"Deleted table: {table_id}.\")\n",
    "        except Exception as e:\n",
    "            print(f\"Failed to delete {table_id}: {e}\")\n",
    "\n",
    "# Example usage\n",
    "\n",
    "table_names = [\n",
    "    \"transArchive_201001_201003\", \n",
    "    \"transArchive_201004_201006\", \n",
    "    \"transArchive_201007_201009\",\n",
    "    \"transArchive_201010_201012\",\n",
    "    \"transArchive_201101_201103\",\n",
    "    \"transArchive_201104\",\n",
    "    \"transArchive_201105\",\n",
    "    \"transArchive_201106\",\n",
    "    \"transArchive_201107_201109\",\n",
    "    \"transArchive_201110_201112\",\n",
    "    \"transArchive_201201_201203\",\n",
    "    \"transArchive_201201_201203_inactive\",\n",
    "    \"transArchive_201204_201206\",\n",
    "    \"transArchive_201204_201206_inactive\",\n",
    "    \"transArchive_201207_201209\",\n",
    "    \"transArchive_201207_201209_inactive\",\n",
    "    \"transArchive_201210_201212\",\n",
    "    \"transArchive_201210_201212_inactive\",\n",
    "    \"transArchive_201301_201303\",\n",
    "    \"transArchive_201301_201303_inactive\",\n",
    "    \"transArchive_201304_201306\",\n",
    "    \"transArchive_201304_201306_inactive\",\n",
    "    \"transArchive_201307_201309\",\n",
    "    \"transArchive_201307_201309_inactive\",\n",
    "    \"transArchive_201310_201312\",\n",
    "    \"transArchive_201310_201312_inactive\",\n",
    "    \"transArchive_201401_201403\",\n",
    "    \"transArchive_201401_201403_inactive\",\n",
    "    \"transArchive_201404_201406\",\n",
    "    \"transArchive_201404_201406_inactive\",\n",
    "    \"transArchive_201407_201409\",\n",
    "    \"transArchive_201407_201409_inactive\",\n",
    "    \"transArchive_201410_201412\",\n",
    "    \"transArchive_201410_201412_inactive\",\n",
    "    \"transArchive_201501_201503\",\n",
    "    \"transArchive_201504_201506\",\n",
    "    \"transArchive_201507_201509\",\n",
    "    \"transArchive_201510\",\n",
    "    \"transArchive_201511\",\n",
    "    \"transArchive_201512\",\n",
    "    \"transArchive_201601\",\n",
    "    \"transArchive_201602\",\n",
    "    \"transArchive_201603\",\n",
    "    \"transArchive_201604\",\n",
    "    \"transArchive_201605\",\n",
    "    \"transArchive_201606\",\n",
    "    \"transArchive_201607\",\n",
    "    \"transArchive_201608\",\n",
    "    \"transArchive_201609\",\n",
    "    \"transArchive_201610\",\n",
    "    \"transArchive_201611\",\n",
    "    \"transArchive_201612\",\n",
    "    \"transArchive_201701\"\n",
    "] \n",
    "\n",
    "# Call the function to delete tables\n",
    "delete_tables(gbq_dataset_ID, table_names)"
   ]
  }
 ],
 "metadata": {
  "kernelspec": {
   "display_name": "Python 3",
   "language": "python",
   "name": "python3"
  },
  "language_info": {
   "codemirror_mode": {
    "name": "ipython",
    "version": 3
   },
   "file_extension": ".py",
   "mimetype": "text/x-python",
   "name": "python",
   "nbconvert_exporter": "python",
   "pygments_lexer": "ipython3",
   "version": "3.12.2"
  }
 },
 "nbformat": 4,
 "nbformat_minor": 2
}
