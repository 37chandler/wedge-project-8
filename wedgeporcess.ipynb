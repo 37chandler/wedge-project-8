{
 "cells": [
  {
   "cell_type": "markdown",
   "metadata": {},
   "source": [
    "\n",
    "# ADA: Wedge Process\n",
    "\n",
    "This repository builds on our Wedge Exploration exercise. This exercise will help you carry out the Wedge project\n",
    "at an A level. \n",
    "\n",
    "You'll write code that carries out the following steps: \n",
    "\n",
    "1. Create an empty data frame called `wedge_summary` with the following columns: file_name, num_rows, num_cards, num_dates\n",
    "1. Iterate over the zip files that hold the Wedge transaction files\n",
    "2. Unzip each file one at a time (so this will be part of a `for` loop)\n",
    "3. Use the CSV sniffer to determine the delimiter and whether or not there is a header row. \n",
    "4. Read, or attempt to read, the file into a Pandas dataframe, using the delimiter and handling headers correctly. \n",
    "5. For each file, store a row in `wedge_summary` that holds the values listed above. `num_cards` should be the unique card numbers in the file and `num_dates` should be the number of dates.  \n"
   ]
  },
  {
   "cell_type": "markdown",
   "metadata": {},
   "source": [
    "import os"
   ]
  },
  {
   "cell_type": "code",
   "execution_count": 12,
   "metadata": {},
   "outputs": [],
   "source": [
    "import os\n",
    "import zipfile"
   ]
  },
  {
   "cell_type": "code",
   "execution_count": 5,
   "metadata": {},
   "outputs": [
    {
     "name": "stdout",
     "output_type": "stream",
     "text": [
      "transArchive_201001_201003_small.zip\n",
      "transArchive_201004_201006_small.zip\n",
      "transArchive_201007_201009_small.zip\n",
      "transArchive_201010_201012_small.zip\n",
      "transArchive_201101_201103_small.zip\n",
      "transArchive_201104_small.zip\n",
      "transArchive_201105_small.zip\n",
      "transArchive_201106_small.zip\n",
      "transArchive_201107_201109_small.zip\n",
      "transArchive_201110_201112_small.zip\n",
      "transArchive_201201_201203_inactive_small.zip\n",
      "transArchive_201201_201203_small.zip\n",
      "transArchive_201204_201206_inactive_small.zip\n",
      "transArchive_201204_201206_small.zip\n",
      "transArchive_201207_201209_inactive_small.zip\n",
      "transArchive_201207_201209_small.zip\n",
      "transArchive_201210_201212_inactive_small.zip\n",
      "transArchive_201210_201212_small.zip\n",
      "transArchive_201301_201303_inactive_small.zip\n",
      "transArchive_201301_201303_small.zip\n",
      "transArchive_201304_201306_inactive_small.zip\n",
      "transArchive_201304_201306_small.zip\n",
      "transArchive_201307_201309_inactive_small.zip\n",
      "transArchive_201307_201309_small.zip\n",
      "transArchive_201310_201312_inactive_small.zip\n",
      "transArchive_201310_201312_small.zip\n",
      "transArchive_201401_201403_inactive_small.zip\n",
      "transArchive_201401_201403_small.zip\n",
      "transArchive_201404_201406_inactive_small.zip\n",
      "transArchive_201404_201406_small.zip\n",
      "transArchive_201407_201409_inactive_small.zip\n",
      "transArchive_201407_201409_small.zip\n",
      "transArchive_201410_201412_inactive_small.zip\n",
      "transArchive_201410_201412_small.zip\n",
      "transArchive_201501_201503_small.zip\n",
      "transArchive_201504_201506_small.zip\n",
      "transArchive_201507_201509_small.zip\n",
      "transArchive_201510_small.zip\n",
      "transArchive_201511_small.zip\n",
      "transArchive_201512_small.zip\n",
      "transArchive_201601_small.zip\n",
      "transArchive_201602_small.zip\n",
      "transArchive_201603_small.zip\n",
      "transArchive_201604_small.zip\n",
      "transArchive_201605_small.zip\n",
      "transArchive_201606_small.zip\n",
      "transArchive_201607_small.zip\n",
      "transArchive_201608_small.zip\n",
      "transArchive_201609_small.zip\n",
      "transArchive_201610_small.zip\n",
      "transArchive_201611_small.zip\n",
      "transArchive_201612_small.zip\n",
      "transArchive_201701_small.zip\n"
     ]
    }
   ],
   "source": [
    "for file in os.listdir(\"data/SmallZip\"):\n",
    "    print(file)"
   ]
  },
  {
   "cell_type": "code",
   "execution_count": 10,
   "metadata": {},
   "outputs": [
    {
     "ename": "NameError",
     "evalue": "name 'zipfile' is not defined",
     "output_type": "error",
     "traceback": [
      "\u001b[1;31m---------------------------------------------------------------------------\u001b[0m",
      "\u001b[1;31mNameError\u001b[0m                                 Traceback (most recent call last)",
      "Cell \u001b[1;32mIn[10], line 1\u001b[0m\n\u001b[1;32m----> 1\u001b[0m \u001b[43mzipfile\u001b[49m\u001b[38;5;241m.\u001b[39mZipFile(file)\n",
      "\u001b[1;31mNameError\u001b[0m: name 'zipfile' is not defined"
     ]
    }
   ],
   "source": [
    "zipfile.ZipFile(file)"
   ]
  },
  {
   "cell_type": "code",
   "execution_count": 16,
   "metadata": {},
   "outputs": [],
   "source": [
    "data_directory = \"data/SmallZip/\""
   ]
  },
  {
   "cell_type": "code",
   "execution_count": 19,
   "metadata": {},
   "outputs": [
    {
     "ename": "AttributeError",
     "evalue": "'ZipFile' object has no attribute 'seek'",
     "output_type": "error",
     "traceback": [
      "\u001b[1;31m---------------------------------------------------------------------------\u001b[0m",
      "\u001b[1;31mAttributeError\u001b[0m                            Traceback (most recent call last)",
      "Cell \u001b[1;32mIn[19], line 1\u001b[0m\n\u001b[1;32m----> 1\u001b[0m \u001b[43mzipfile\u001b[49m\u001b[38;5;241;43m.\u001b[39;49m\u001b[43mis_zipfile\u001b[49m\u001b[43m(\u001b[49m\u001b[43mzipfile\u001b[49m\u001b[38;5;241;43m.\u001b[39;49m\u001b[43mZipFile\u001b[49m\u001b[43m(\u001b[49m\u001b[43mdata_directory\u001b[49m\u001b[38;5;241;43m+\u001b[39;49m\u001b[43mfile\u001b[49m\u001b[43m)\u001b[49m\u001b[43m)\u001b[49m\n",
      "File \u001b[1;32mc:\\Users\\npleg\\AppData\\Local\\Programs\\Python\\Python312\\Lib\\zipfile\\__init__.py:230\u001b[0m, in \u001b[0;36mis_zipfile\u001b[1;34m(filename)\u001b[0m\n\u001b[0;32m    228\u001b[0m \u001b[38;5;28;01mtry\u001b[39;00m:\n\u001b[0;32m    229\u001b[0m     \u001b[38;5;28;01mif\u001b[39;00m \u001b[38;5;28mhasattr\u001b[39m(filename, \u001b[38;5;124m\"\u001b[39m\u001b[38;5;124mread\u001b[39m\u001b[38;5;124m\"\u001b[39m):\n\u001b[1;32m--> 230\u001b[0m         result \u001b[38;5;241m=\u001b[39m \u001b[43m_check_zipfile\u001b[49m\u001b[43m(\u001b[49m\u001b[43mfp\u001b[49m\u001b[38;5;241;43m=\u001b[39;49m\u001b[43mfilename\u001b[49m\u001b[43m)\u001b[49m\n\u001b[0;32m    231\u001b[0m     \u001b[38;5;28;01melse\u001b[39;00m:\n\u001b[0;32m    232\u001b[0m         \u001b[38;5;28;01mwith\u001b[39;00m \u001b[38;5;28mopen\u001b[39m(filename, \u001b[38;5;124m\"\u001b[39m\u001b[38;5;124mrb\u001b[39m\u001b[38;5;124m\"\u001b[39m) \u001b[38;5;28;01mas\u001b[39;00m fp:\n",
      "File \u001b[1;32mc:\\Users\\npleg\\AppData\\Local\\Programs\\Python\\Python312\\Lib\\zipfile\\__init__.py:216\u001b[0m, in \u001b[0;36m_check_zipfile\u001b[1;34m(fp)\u001b[0m\n\u001b[0;32m    214\u001b[0m \u001b[38;5;28;01mdef\u001b[39;00m \u001b[38;5;21m_check_zipfile\u001b[39m(fp):\n\u001b[0;32m    215\u001b[0m     \u001b[38;5;28;01mtry\u001b[39;00m:\n\u001b[1;32m--> 216\u001b[0m         \u001b[38;5;28;01mif\u001b[39;00m \u001b[43m_EndRecData\u001b[49m\u001b[43m(\u001b[49m\u001b[43mfp\u001b[49m\u001b[43m)\u001b[49m:\n\u001b[0;32m    217\u001b[0m             \u001b[38;5;28;01mreturn\u001b[39;00m \u001b[38;5;28;01mTrue\u001b[39;00m         \u001b[38;5;66;03m# file has correct magic number\u001b[39;00m\n\u001b[0;32m    218\u001b[0m     \u001b[38;5;28;01mexcept\u001b[39;00m \u001b[38;5;167;01mOSError\u001b[39;00m:\n",
      "File \u001b[1;32mc:\\Users\\npleg\\AppData\\Local\\Programs\\Python\\Python312\\Lib\\zipfile\\__init__.py:288\u001b[0m, in \u001b[0;36m_EndRecData\u001b[1;34m(fpin)\u001b[0m\n\u001b[0;32m    282\u001b[0m \u001b[38;5;250m\u001b[39m\u001b[38;5;124;03m\"\"\"Return data from the \"End of Central Directory\" record, or None.\u001b[39;00m\n\u001b[0;32m    283\u001b[0m \n\u001b[0;32m    284\u001b[0m \u001b[38;5;124;03mThe data is a list of the nine items in the ZIP \"End of central dir\"\u001b[39;00m\n\u001b[0;32m    285\u001b[0m \u001b[38;5;124;03mrecord followed by a tenth item, the file seek offset of this record.\"\"\"\u001b[39;00m\n\u001b[0;32m    287\u001b[0m \u001b[38;5;66;03m# Determine file size\u001b[39;00m\n\u001b[1;32m--> 288\u001b[0m \u001b[43mfpin\u001b[49m\u001b[38;5;241;43m.\u001b[39;49m\u001b[43mseek\u001b[49m(\u001b[38;5;241m0\u001b[39m, \u001b[38;5;241m2\u001b[39m)\n\u001b[0;32m    289\u001b[0m filesize \u001b[38;5;241m=\u001b[39m fpin\u001b[38;5;241m.\u001b[39mtell()\n\u001b[0;32m    291\u001b[0m \u001b[38;5;66;03m# Check to see if this is ZIP file with no archive comment (the\u001b[39;00m\n\u001b[0;32m    292\u001b[0m \u001b[38;5;66;03m# \"end of central directory\" structure should be the last item in the\u001b[39;00m\n\u001b[0;32m    293\u001b[0m \u001b[38;5;66;03m# file if this is the case).\u001b[39;00m\n",
      "\u001b[1;31mAttributeError\u001b[0m: 'ZipFile' object has no attribute 'seek'"
     ]
    }
   ],
   "source": [
    "zipfile.is_zipfile(zipfile.ZipFile(data_directory+file))"
   ]
  },
  {
   "cell_type": "code",
   "execution_count": null,
   "metadata": {},
   "outputs": [],
   "source": []
  }
 ],
 "metadata": {
  "kernelspec": {
   "display_name": "Python 3",
   "language": "python",
   "name": "python3"
  },
  "language_info": {
   "codemirror_mode": {
    "name": "ipython",
    "version": 3
   },
   "file_extension": ".py",
   "mimetype": "text/x-python",
   "name": "python",
   "nbconvert_exporter": "python",
   "pygments_lexer": "ipython3",
   "version": "3.12.2"
  }
 },
 "nbformat": 4,
 "nbformat_minor": 2
}
