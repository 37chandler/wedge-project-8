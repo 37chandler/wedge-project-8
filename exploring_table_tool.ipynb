{
 "cells": [
  {
   "cell_type": "code",
   "execution_count": 4,
   "metadata": {},
   "outputs": [],
   "source": [
    "from zipfile import ZipFile\n",
    "import pandas as pd\n",
    "import os\n",
    "#import ace_tools as tools\n",
    "#from prettytable import PrettyTable"
   ]
  },
  {
   "cell_type": "markdown",
   "metadata": {},
   "source": [
    "### Add a table to explore"
   ]
  },
  {
   "cell_type": "code",
   "execution_count": 14,
   "metadata": {},
   "outputs": [],
   "source": [
    "data_directory_raw = \"Data/LargeZips/\"\n",
    "zip_file_raw = \"transArchive_201001_201003.zip\"  # Single zip file"
   ]
  },
  {
   "cell_type": "code",
   "execution_count": 15,
   "metadata": {},
   "outputs": [
    {
     "name": "stdout",
     "output_type": "stream",
     "text": [
      "Reading file: transArchive_201001_201003.csv\n",
      "Shape of the data: (2998330, 50)\n"
     ]
    }
   ],
   "source": [
    "with ZipFile(data_directory_raw + zip_file_raw, 'r') as zf:\n",
    "    # Get the list of files in the zip and assign the desired file to a variable\n",
    "    file_name = zf.namelist()[0]  # Use variable to store the first file name (or choose the desired one)\n",
    "    print(f\"Reading file: {file_name}\")\n",
    "    \n",
    "    # Open the file using the variable\n",
    "    with zf.open(file_name) as f:\n",
    "        df_raw = pd.read_csv(f, sep=',')\n",
    "\n",
    "# Step 5: Print the shape of the DataFrame\n",
    "print(\"Shape of the data:\", df_raw.shape)\n",
    "\n",
    "# Step 6: Get and print descriptive statistics\n",
    "#print(\"Descriptive statistics:\")\n",
    "#print(df_raw.describe())"
   ]
  },
  {
   "cell_type": "code",
   "execution_count": 12,
   "metadata": {},
   "outputs": [],
   "source": [
    "data_directory_clean = \"Data/processed_files/\"\n",
    "zip_file_clean = \"transArchive_201701_processed.csv\"  # Single zip file"
   ]
  },
  {
   "cell_type": "code",
   "execution_count": 13,
   "metadata": {},
   "outputs": [
    {
     "name": "stdout",
     "output_type": "stream",
     "text": [
      "Shape of the data: (936741, 50)\n"
     ]
    }
   ],
   "source": [
    "with open(data_directory_clean + zip_file_clean, 'r') as f:\n",
    "    df_clean = pd.read_csv(f, sep=',')\n",
    "\n",
    "# Step 5: Print the shape of the DataFrame\n",
    "print(\"Shape of the data:\", df_clean.shape)\n",
    "\n",
    "# Step 6: Get and print descriptive statistics\n",
    "#print(\"Descriptive statistics:\")\n",
    "#print(df_clean.describe())"
   ]
  },
  {
   "cell_type": "code",
   "execution_count": 5,
   "metadata": {},
   "outputs": [
    {
     "data": {
      "text/plain": [
       "datetime            object\n",
       "register_no          int64\n",
       "emp_no               int64\n",
       "trans_no             int64\n",
       "upc                 object\n",
       "description         object\n",
       "trans_type          object\n",
       "trans_subtype       object\n",
       "trans_status        object\n",
       "department           int64\n",
       "quantity           float64\n",
       "Scale                int64\n",
       "cost               float64\n",
       "unitPrice          float64\n",
       "total              float64\n",
       "regPrice           float64\n",
       "altPrice           float64\n",
       "tax                  int64\n",
       "taxexempt            int64\n",
       "foodstamp            int64\n",
       "wicable              int64\n",
       "discount           float64\n",
       "memDiscount        float64\n",
       "discountable         int64\n",
       "discounttype         int64\n",
       "voided               int64\n",
       "percentDiscount    float64\n",
       "ItemQtty           float64\n",
       "volDiscType          int64\n",
       "volume               int64\n",
       "VolSpecial         float64\n",
       "mixMatch             int64\n",
       "matched              int64\n",
       "memType            float64\n",
       "staff                int64\n",
       "numflag              int64\n",
       "itemstatus           int64\n",
       "tenderstatus         int64\n",
       "charflag            object\n",
       "varflag              int64\n",
       "batchHeaderID      float64\n",
       "local                int64\n",
       "organic            float64\n",
       "display            float64\n",
       "receipt              int64\n",
       "card_no              int64\n",
       "store                int64\n",
       "branch               int64\n",
       "match_id             int64\n",
       "trans_id             int64\n",
       "dtype: object"
      ]
     },
     "execution_count": 5,
     "metadata": {},
     "output_type": "execute_result"
    }
   ],
   "source": [
    "df_raw.dtypes"
   ]
  },
  {
   "cell_type": "code",
   "execution_count": 6,
   "metadata": {},
   "outputs": [
    {
     "name": "stdout",
     "output_type": "stream",
     "text": [
      "                          Column DataType  UniqueValues    Nulls\n",
      "datetime                datetime   object       1866515        0\n",
      "register_no          register_no    int64            10        0\n",
      "emp_no                    emp_no    int64            58        0\n",
      "trans_no                trans_no    int64           199        0\n",
      "upc                          upc   object         21600        0\n",
      "description          description   object         15052        0\n",
      "trans_type            trans_type   object             5        0\n",
      "trans_subtype      trans_subtype   object            12   389327\n",
      "trans_status        trans_status   object             8   673703\n",
      "department            department    int64            19        0\n",
      "quantity                quantity  float64          2761        0\n",
      "Scale                      Scale    int64             2        0\n",
      "cost                        cost  float64          2828        0\n",
      "unitPrice              unitPrice  float64          4538        0\n",
      "total                      total  float64         23325        0\n",
      "regPrice                regPrice  float64          2021        0\n",
      "altPrice                altPrice  float64             1        0\n",
      "tax                          tax    int64             2        0\n",
      "taxexempt              taxexempt    int64             1        0\n",
      "foodstamp              foodstamp    int64             2        0\n",
      "wicable                  wicable    int64             1        0\n",
      "discount                discount  float64          2007        0\n",
      "memDiscount          memDiscount  float64           610        0\n",
      "discountable        discountable    int64             5        0\n",
      "discounttype        discounttype    int64             7        0\n",
      "voided                    voided    int64             5        0\n",
      "percentDiscount  percentDiscount  float64             2  1094857\n",
      "ItemQtty                ItemQtty  float64          2312        0\n",
      "volDiscType          volDiscType    int64             2        0\n",
      "volume                    volume    int64             7        0\n",
      "VolSpecial            VolSpecial  float64            25        0\n",
      "mixMatch                mixMatch    int64             3        0\n",
      "matched                  matched    int64            20        0\n",
      "memType                  memType  float64             0  2998330\n",
      "staff                      staff    int64             1        0\n",
      "numflag                  numflag    int64            15        0\n",
      "itemstatus            itemstatus    int64             1        0\n",
      "tenderstatus        tenderstatus    int64             1        0\n",
      "charflag                charflag   object             6  2321518\n",
      "varflag                  varflag    int64             1        0\n",
      "batchHeaderID      batchHeaderID  float64             0  2998330\n",
      "local                      local    int64             1        0\n",
      "organic                  organic  float64             0  2998330\n",
      "display                  display  float64             0  2998330\n",
      "receipt                  receipt    int64             1        0\n",
      "card_no                  card_no    int64         11612        0\n",
      "store                      store    int64             1        0\n",
      "branch                    branch    int64             1        0\n",
      "match_id                match_id    int64             1        0\n",
      "trans_id                trans_id    int64           194        0\n"
     ]
    }
   ],
   "source": [
    "unique_counts = pd.DataFrame({\n",
    "    'Column': df_raw.columns,\n",
    "    'DataType': df_raw.dtypes,\n",
    "    'UniqueValues': df_raw.nunique(),\n",
    "    'Nulls': df_raw.isnull().sum()\n",
    "})\n",
    "\n",
    "print(unique_counts)"
   ]
  },
  {
   "cell_type": "code",
   "execution_count": 16,
   "metadata": {},
   "outputs": [
    {
     "name": "stdout",
     "output_type": "stream",
     "text": [
      "                          Column DataType  UniqueValues   Nulls\n",
      "datetime                datetime   object        599514       0\n",
      "register_no          register_no    int64            12       0\n",
      "emp_no                    emp_no    int64            38       0\n",
      "trans_no                trans_no    int64           583       0\n",
      "upc                          upc   object         12997       0\n",
      "description          description   object         11525       0\n",
      "trans_type            trans_type   object             5       0\n",
      "trans_subtype      trans_subtype   object            12  774773\n",
      "trans_status        trans_status   object             5  918178\n",
      "department            department    int64            20       0\n",
      "quantity                quantity  float64         10920       0\n",
      "Scale                      Scale    int64             2       0\n",
      "cost                        cost  float64          2710       0\n",
      "unitPrice              unitPrice  float64          2353       0\n",
      "total                      total  float64         14527       0\n",
      "regPrice                regPrice  float64          1327       0\n",
      "altPrice                altPrice  float64             0  936741\n",
      "tax                          tax    int64             2       0\n",
      "taxexempt              taxexempt  float64             1    2828\n",
      "foodstamp              foodstamp    int64             2       0\n",
      "wicable                  wicable  float64             2    6789\n",
      "discount                discount  float64           905       0\n",
      "memDiscount          memDiscount  float64           347       0\n",
      "discountable        discountable    int64             5       0\n",
      "discounttype        discounttype    int64             4       0\n",
      "voided                    voided    int64             8       0\n",
      "percentDiscount  percentDiscount  float64          4731  357691\n",
      "ItemQtty                ItemQtty  float64          1547       0\n",
      "volDiscType          volDiscType    int64             2       0\n",
      "volume                    volume    int64             7       0\n",
      "VolSpecial            VolSpecial  float64            41       0\n",
      "mixMatch                mixMatch    int64             4       0\n",
      "matched                  matched    int64            13       0\n",
      "memType                  memType     bool             1       0\n",
      "staff                      staff     bool             1       0\n",
      "numflag                  numflag    int64            33       0\n",
      "itemstatus            itemstatus  float64            33    2828\n",
      "tenderstatus        tenderstatus  float64             8    2828\n",
      "charflag                charflag   object             3  878709\n",
      "varflag                  varflag  float64             0  936741\n",
      "batchHeaderID      batchHeaderID     bool             1       0\n",
      "local                      local  float64             1    2828\n",
      "organic                  organic  float64             5  316447\n",
      "display                  display     bool             1       0\n",
      "receipt                  receipt  float64             1    2828\n",
      "card_no                  card_no    int64          9208       0\n",
      "store                      store    int64             2       0\n",
      "branch                    branch    int64             2       0\n",
      "match_id                match_id  float64             1    2818\n",
      "trans_id                trans_id    int64           186       0\n"
     ]
    }
   ],
   "source": [
    "unique_counts = pd.DataFrame({\n",
    "    'Column': df_clean.columns,\n",
    "    'DataType': df_clean.dtypes,\n",
    "    'UniqueValues': df_clean.nunique(),\n",
    "    'Nulls': df_clean.isnull().sum()\n",
    "})\n",
    "\n",
    "print(unique_counts)"
   ]
  },
  {
   "cell_type": "code",
   "execution_count": 7,
   "metadata": {},
   "outputs": [
    {
     "name": "stdout",
     "output_type": "stream",
     "text": [
      "[<class 'float'>]\n"
     ]
    }
   ],
   "source": [
    "print(df_raw['batchHeaderID'].apply(type).unique())"
   ]
  },
  {
   "cell_type": "code",
   "execution_count": 8,
   "metadata": {},
   "outputs": [
    {
     "name": "stdout",
     "output_type": "stream",
     "text": [
      "0    0005385200400\n",
      "1    0020631400000\n",
      "2    0002433551303\n",
      "3    0004850000139\n",
      "4    0004850000139\n",
      "5    0082704802560\n",
      "6    0009396681120\n",
      "7    0000000000051\n",
      "8             0001\n",
      "9                0\n",
      "Name: upc, dtype: object\n",
      "0             Medium Salsa 16oz GMG\n",
      "1     ChickenBreastSkinlessBoneless\n",
      "2         Taco Seasoning 1.4oz Bear\n",
      "3    Orange Juice/Some Pulp 64oz Tr\n",
      "4    Orange Juice/Some Pulp 64oz Tr\n",
      "5       Shredded Mexican Cheese 8oz\n",
      "6             Eggs O.Large dozen OV\n",
      "7                    BANANA Organic\n",
      "8                       Credit Card\n",
      "9                            Change\n",
      "Name: description, dtype: object\n"
     ]
    }
   ],
   "source": [
    "print(df_raw['upc'].head(10))\n",
    "print(df_raw['description'].head(10))"
   ]
  },
  {
   "cell_type": "code",
   "execution_count": 18,
   "metadata": {},
   "outputs": [
    {
     "name": "stdout",
     "output_type": "stream",
     "text": [
      "                    datetime  register_no  emp_no  trans_no       upc  \\\n",
      "0  2017-01-01 09:00:31+00:00           51      94        12         0   \n",
      "1  2017-01-01 09:24:18+00:00           51      94        14  DISCOUNT   \n",
      "2  2017-01-01 09:33:30+00:00           51      94        16         0   \n",
      "3  2017-01-01 08:36:52+00:00           51      94         9         0   \n",
      "4  2017-01-01 09:34:51+00:00           51      94        17  DISCOUNT   \n",
      "\n",
      "  description trans_type trans_subtype trans_status  department  ...  \\\n",
      "0      Change          T            CA          NaN           0  ...   \n",
      "1    Discount          I           NaN          NaN           0  ...   \n",
      "2        Cash          T            CA          NaN           0  ...   \n",
      "3      Change          T            CA          NaN           0  ...   \n",
      "4    Discount          I           NaN          NaN           0  ...   \n",
      "\n",
      "   batchHeaderID  local  organic  display  receipt  card_no  store  branch  \\\n",
      "0           True    0.0      NaN     True      0.0    24528      1       3   \n",
      "1           True    0.0      NaN     True      0.0    14140      1       3   \n",
      "2           True    0.0      NaN     True      0.0        3      1       3   \n",
      "3           True    0.0      NaN     True      0.0    19341      1       3   \n",
      "4           True    0.0      NaN     True      0.0        3      1       3   \n",
      "\n",
      "   match_id  trans_id  \n",
      "0       0.0        12  \n",
      "1       0.0        16  \n",
      "2       0.0        11  \n",
      "3       0.0        13  \n",
      "4       0.0         8  \n",
      "\n",
      "[5 rows x 50 columns]\n",
      "0          Change\n",
      "1        Discount\n",
      "2            Cash\n",
      "3          Change\n",
      "4        Discount\n",
      "5    Gingerbread \n",
      "6          Change\n",
      "7             Tax\n",
      "8            Cash\n",
      "9        Discount\n",
      "Name: description, dtype: object\n"
     ]
    }
   ],
   "source": [
    "print(df_clean.head(5))\n",
    "#print(df_clean['description'].head(10))"
   ]
  },
  {
   "cell_type": "code",
   "execution_count": 9,
   "metadata": {},
   "outputs": [],
   "source": [
    "df_raw['batchHeaderID'] = df_raw['batchHeaderID'].apply(lambda x: np.nan if isinstance(x, list) and len(x) == 0 else x)\n",
    "df_raw['organic'] = df_raw['organic'].apply(lambda x: np.nan if isinstance(x, list) and len(x) == 0 else x)\n",
    "df_raw['display'] = df_raw['display'].apply(lambda x: np.nan if isinstance(x, list) and len(x) == 0 else x)\n",
    "df_raw['memType'] = df_raw['memType'].apply(lambda x: np.nan if isinstance(x, list) and len(x) == 0 else x)\n",
    "\n"
   ]
  },
  {
   "cell_type": "code",
   "execution_count": 10,
   "metadata": {},
   "outputs": [
    {
     "name": "stdout",
     "output_type": "stream",
     "text": [
      "batchHeaderID    2998330\n",
      "organic          2998330\n",
      "display          2998330\n",
      "memType          2998330\n",
      "dtype: int64\n"
     ]
    }
   ],
   "source": [
    "print(df_raw[['batchHeaderID', 'organic', 'display', 'memType']].isna().sum())"
   ]
  },
  {
   "cell_type": "code",
   "execution_count": 10,
   "metadata": {},
   "outputs": [
    {
     "name": "stdout",
     "output_type": "stream",
     "text": [
      "Unique values for 'trans_subtype':\n",
      "[' ' 'CC' 'CA' '0' 'CK' 'WC' 'CP' 'GD' 'IC' 'EF' 'EC' 'TC']\n",
      "\n",
      "Unique values for 'trans_status':\n",
      "[' ' '0' 'M' 'V' 'C' 'R' 'J' 'S']\n",
      "\n",
      "Unique values for 'percentDiscount':\n",
      "[ 0. 10.]\n",
      "\n",
      "Unique values for 'memType':\n",
      "[]\n",
      "\n",
      "Unique values for 'charflag':\n",
      "['0' 'M' 'I' 'W' 'F' 'X']\n",
      "\n",
      "Unique values for 'batchHeaderID':\n",
      "[]\n",
      "\n",
      "Unique values for 'organic':\n",
      "[]\n",
      "\n",
      "Unique values for 'display':\n",
      "[]\n",
      "\n"
     ]
    }
   ],
   "source": [
    "# Filter columns that have null values\n",
    "null_columns = df_raw.columns[df_raw.isnull().sum() > 0]\n",
    "\n",
    "# Print unique values for each column with nulls\n",
    "for col in null_columns:\n",
    "    print(f\"Unique values for '{col}':\")\n",
    "    print(df_raw[col].dropna().unique(), end=\"\\n\\n\")"
   ]
  }
 ],
 "metadata": {
  "kernelspec": {
   "display_name": "Python 3",
   "language": "python",
   "name": "python3"
  },
  "language_info": {
   "codemirror_mode": {
    "name": "ipython",
    "version": 3
   },
   "file_extension": ".py",
   "mimetype": "text/x-python",
   "name": "python",
   "nbconvert_exporter": "python",
   "pygments_lexer": "ipython3",
   "version": "3.12.2"
  }
 },
 "nbformat": 4,
 "nbformat_minor": 2
}
