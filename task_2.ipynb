{
 "cells": [
  {
   "cell_type": "markdown",
   "metadata": {},
   "source": [
    "## Task 2: A Sample of Owners\n",
    "\n",
    "In order to create a more convenient local sample of owners to work with, this task generates a file of owners where the file contains every record for each owner. It starts by taking the full list of card numbers and sampling from that list to  extract all records associated with those owners. It then writes the extracted data to a local text file, making it easier to work with and analyze further.\n"
   ]
  },
  {
   "cell_type": "markdown",
   "metadata": {},
   "source": [
    "#### Import Required Libraries"
   ]
  },
  {
   "cell_type": "code",
   "execution_count": 1,
   "metadata": {},
   "outputs": [],
   "source": [
    "from google.cloud import bigquery\n",
    "import os\n",
    "import pandas as pd\n"
   ]
  },
  {
   "cell_type": "markdown",
   "metadata": {},
   "source": [
    "#### Configure Goggle Big Query Project"
   ]
  },
  {
   "cell_type": "code",
   "execution_count": 2,
   "metadata": {},
   "outputs": [],
   "source": [
    "# Set up a client\n",
    "client = bigquery.Client(project = \"wedge-project-np\")\n"
   ]
  },
  {
   "cell_type": "markdown",
   "metadata": {},
   "source": [
    "#### Query for Card Numbers\n",
    "\n",
    "This query finds all the card numbers from the `card_no` column and excludes `card_no` 3."
   ]
  },
  {
   "cell_type": "code",
   "execution_count": 4,
   "metadata": {},
   "outputs": [
    {
     "name": "stdout",
     "output_type": "stream",
     "text": [
      "   card_no\n",
      "0  11769.0\n",
      "1  21003.0\n",
      "2  19750.0\n",
      "3  22112.0\n",
      "4  14258.0\n"
     ]
    }
   ],
   "source": [
    "query = \"\"\"\n",
    "    SELECT DISTINCT card_no\n",
    "    FROM `umt-msba.transactions.transArchive_*`\n",
    "    WHERE card_no != 3\n",
    "    GROUP BY card_no;\n",
    "\"\"\"\n",
    "# Execute the query\n",
    "try:\n",
    "    query_job = client.query(query)  # Start the query job\n",
    "    df = query_job.to_dataframe()  # Convert the result to a pandas DataFrame\n",
    "\n",
    "    # View the DataFrame\n",
    "    print(df.head())  # Show the first 5 rows of the DataFrame\n",
    "\n",
    "except Exception as e:\n",
    "    print(f\"Query failed: {e}\")"
   ]
  },
  {
   "cell_type": "markdown",
   "metadata": {},
   "source": [
    "### Sample the Owners\n",
    "This code block takes a sample of the owner's `card_no`s from the full `card_no` list and pulls all the rows that are associated with those card numbers found in the sample. It then saves it to a txt file. "
   ]
  },
  {
   "cell_type": "code",
   "execution_count": 6,
   "metadata": {},
   "outputs": [
    {
     "name": "stdout",
     "output_type": "stream",
     "text": [
      "Records successfully written to sampled_owners_records.txt\n"
     ]
    }
   ],
   "source": [
    "sampled_owners = df.sample(n=500, random_state=1)  \n",
    "\n",
    "owners_list = sampled_owners['card_no'].tolist()\n",
    "\n",
    "file_path = 'Data/sampled_owners_records.txt'\n",
    "\n",
    "# Write query to extract all records for the sampled owners\n",
    "query = f\"\"\"\n",
    "    SELECT *\n",
    "    FROM `umt-msba.transactions.transArchive_*`\n",
    "    WHERE card_no IN ({', '.join(map(str, owners_list))});\n",
    "\"\"\"\n",
    "\n",
    "# Step 3: Execute the query to get all associated records\n",
    "try:\n",
    "    query_job = client.query(query)  # Start the query job\n",
    "    records_df = query_job.to_dataframe()  # Convert the result to a pandas DataFrame\n",
    "\n",
    "    # Step 4: Write the records to a local text file\n",
    "    #records_df.to_csv('sampled_owners_records.txt', index=False, sep='\\t')\n",
    "    \n",
    "    records_df.to_csv(file_path, index=False, sep='\\t')\n",
    "\n",
    "    print(\"Records successfully written to sampled_owners_records.txt\")\n",
    "\n",
    "except Exception as e:\n",
    "    print(f\"Query failed: {e}\")"
   ]
  },
  {
   "cell_type": "markdown",
   "metadata": {},
   "source": [
    "#### Toolbox"
   ]
  },
  {
   "cell_type": "code",
   "execution_count": 7,
   "metadata": {},
   "outputs": [
    {
     "name": "stdout",
     "output_type": "stream",
     "text": [
      "Records successfully written to Data/sampled_owners_records.txt\n",
      "File size: 219.72 MB\n"
     ]
    }
   ],
   "source": [
    "###################################################################\n",
    "####### Tool to Check File Size  ##################################\n",
    "###################################################################\n",
    "\n",
    "# Write the records to a local text file\n",
    "#file_path = 'Data/sampled_owners_records.txt'\n",
    "#records_df.to_csv(file_path, index=False, sep='\\t')\n",
    "\n",
    "# Get and print the size of the file\n",
    "file_size = os.path.getsize(file_path)\n",
    "print(f\"Records successfully written to {file_path}\")\n",
    "print(f\"File size: {file_size / (1024 * 1024):.2f} MB\")  # Convert from bytes to MB"
   ]
  },
  {
   "cell_type": "code",
   "execution_count": null,
   "metadata": {},
   "outputs": [],
   "source": [
    "###################################################################\n",
    "####### Tool to Test a Card_no  ###################################\n",
    "###################################################################\n",
    "\n",
    "card_no_to_filter = 13062\n",
    "\n",
    "# Filter the DataFrame to include only rows with the specified card_no\n",
    "filtered_df = records_df[records_df['card_no'] == card_no_to_filter]\n",
    "\n",
    "# Display the shape and head of the filtered DataFrame\n",
    "print(filtered_df.shape)\n",
    "print(filtered_df.head())"
   ]
  }
 ],
 "metadata": {
  "kernelspec": {
   "display_name": "Python 3",
   "language": "python",
   "name": "python3"
  },
  "language_info": {
   "codemirror_mode": {
    "name": "ipython",
    "version": 3
   },
   "file_extension": ".py",
   "mimetype": "text/x-python",
   "name": "python",
   "nbconvert_exporter": "python",
   "pygments_lexer": "ipython3",
   "version": "3.12.2"
  }
 },
 "nbformat": 4,
 "nbformat_minor": 2
}
