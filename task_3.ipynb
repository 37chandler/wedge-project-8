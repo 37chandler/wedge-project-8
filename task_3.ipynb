{
 "cells": [
  {
   "cell_type": "markdown",
   "metadata": {},
   "source": [
    "#  Task 3: Building Summary Tables\n",
    "This task creates a relational database that contains summary files that allows a user to qucikly answer business questions. "
   ]
  },
  {
   "cell_type": "markdown",
   "metadata": {},
   "source": [
    "# Building Summary Tables"
   ]
  },
  {
   "cell_type": "markdown",
   "metadata": {},
   "source": [
    "How have our sales-by-day changed over the last few months?  \n",
    "What is our most popular item in each department?  \n",
    "Which owners spend the most per month in each department?"
   ]
  },
  {
   "cell_type": "markdown",
   "metadata": {},
   "source": [
    "#### Import Required Libraries"
   ]
  },
  {
   "cell_type": "code",
   "execution_count": 1,
   "metadata": {},
   "outputs": [],
   "source": [
    "import os\n",
    "import sqlite3\n",
    "import pandas as pd\n",
    "import numpy as np\n",
    "\n",
    "# Do our imports for the code\n",
    "from google.cloud import bigquery\n",
    "from google.oauth2 import service_account"
   ]
  },
  {
   "cell_type": "markdown",
   "metadata": {},
   "source": [
    "#### Configure Big Query Client"
   ]
  },
  {
   "cell_type": "code",
   "execution_count": 4,
   "metadata": {},
   "outputs": [],
   "source": [
    "client = bigquery.Client(project = \"wedge-project-np\")"
   ]
  },
  {
   "cell_type": "markdown",
   "metadata": {},
   "source": [
    "### Summary Table 1\n",
    "This code block creates a table of sales by date by hour. Using calendar date (YYYY-MM-DD) and hour of the day, the total spend in the store, the number of transactions, and a count of the number of items is determined and saved to a pandas dataframe\n"
   ]
  },
  {
   "cell_type": "code",
   "execution_count": 3,
   "metadata": {},
   "outputs": [
    {
     "name": "stdout",
     "output_type": "stream",
     "text": [
      "     sales        date  hour  transactioins  items\n",
      "0  1006.28  2010-01-01     9             36    245\n",
      "1  3128.55  2010-01-01    10             82    913\n",
      "2  4001.66  2010-01-01    11            118   1108\n",
      "3  3886.51  2010-01-01    12            124   1143\n",
      "4  4654.52  2010-01-01    13            154   1365\n"
     ]
    }
   ],
   "source": [
    "query_1 = \"\"\"\n",
    "    SELECT ROUND(SUM(total), 2) as sales\n",
    "        , EXTRACT(DATE FROM datetime) AS date\n",
    "        , EXTRACT(HOUR FROM datetime) AS hour\n",
    "        , COUNT(DISTINCT CONCAT(\n",
    "            CAST(EXTRACT(DATE FROM datetime) AS STRING), \n",
    "            CAST(register_no AS STRING), \n",
    "            CAST(emp_no AS STRING), \n",
    "            CAST(trans_no AS STRING)\n",
    "            )) AS transactioins\n",
    "\n",
    "        ,SUM(\n",
    "            CASE\n",
    "            WHEN trans_status IN ('V', 'R') THEN -1\n",
    "            ELSE 1\n",
    "        END\n",
    "        ) AS items\n",
    "\n",
    "        FROM `umt-msba.wedge_transactions.transArchive*`\n",
    "        WHERE department NOT IN (0, 15)\n",
    "        AND (trans_status IS NULL \n",
    "        OR trans_status IN ('V', 'R', '', ' '))\n",
    "        GROUP BY date, hour\n",
    "        ORDER BY date, hour;\n",
    "\"\"\"\n",
    "\n",
    "# Execute the query\n",
    "try:\n",
    "    query_job = client.query(query_1)  # Start the query job\n",
    "    df1 = query_job.to_dataframe()  # Convert the result to a pandas DataFrame\n",
    "\n",
    "    # View the DataFrame\n",
    "    print(df1.head())  # Show the first 5 rows of the DataFrame\n",
    "\n",
    "except Exception as e:\n",
    "    print(f\"Query failed: {e}\")"
   ]
  },
  {
   "cell_type": "markdown",
   "metadata": {},
   "source": [
    "### Summary Table 2\n",
    "This code block creates a summary table of sales by owner by year by month. The output file has the following columns: card_no, year, month, sales, transactions, and itemsn and is saved into a pandas dataframe.\n"
   ]
  },
  {
   "cell_type": "code",
   "execution_count": 5,
   "metadata": {},
   "outputs": [
    {
     "name": "stdout",
     "output_type": "stream",
     "text": [
      "     owner  year  month  sales  transactions  items\n",
      "0  10000.0  2010     10  65.87             4     21\n",
      "1  10000.0  2010     11  53.12             2     20\n",
      "2  10000.0  2010     12  17.34             1      6\n",
      "3  10000.0  2011      1  60.40             4     23\n",
      "4  10000.0  2011      2  19.65             1      4\n"
     ]
    }
   ],
   "source": [
    "query_2 = \"\"\"\n",
    "    SELECT DISTINCT card_no as owner\n",
    "        , EXTRACT(YEAR FROM datetime) AS year\n",
    "        , EXTRACT(MONTH FROM datetime) AS month\n",
    "        , ROUND(SUM(total), 2) as sales\n",
    "        , COUNT(DISTINCT CONCAT(\n",
    "            CAST(EXTRACT(DATE FROM datetime) AS STRING), \n",
    "            CAST(register_no AS STRING), \n",
    "            CAST(emp_no AS STRING), \n",
    "            CAST(trans_no AS STRING)\n",
    "            )) AS transactions\n",
    "        ,SUM(\n",
    "            CASE\n",
    "            WHEN trans_status IN ('V', 'R') THEN -1\n",
    "            ELSE 1\n",
    "        END\n",
    "        ) AS items\n",
    "\n",
    "    FROM `umt-msba.wedge_transactions.transArchive*`\n",
    "    WHERE department NOT IN (0, 15)\n",
    "    AND card_no != 3\n",
    "    AND (trans_status IS NULL \n",
    "    OR trans_status IN ('V', 'R', '', ' '))\n",
    "    GROUP BY owner, year, month\n",
    "    ORDER BY owner, year, month;\n",
    "\"\"\"\n",
    "\n",
    "# Execute the query\n",
    "try:\n",
    "    query_job = client.query(query_2)  # Start the query job\n",
    "    df2 = query_job.to_dataframe()  # Convert the result to a pandas DataFrame\n",
    "\n",
    "    # View the DataFrame\n",
    "    print(df2.head())  # Show the first 5 rows of the DataFrame\n",
    "\n",
    "except Exception as e:\n",
    "    print(f\"Query failed: {e}\")"
   ]
  },
  {
   "cell_type": "markdown",
   "metadata": {},
   "source": [
    "### Summary Table 3\n",
    "This block of code creates a table of sales by product description by year by month. The output is a pandas datafram that has the following columns: upc, description, department number, department name, year, month, sales, transactions, and items.\n"
   ]
  },
  {
   "cell_type": "code",
   "execution_count": 6,
   "metadata": {},
   "outputs": [
    {
     "name": "stdout",
     "output_type": "stream",
     "text": [
      "  upc              description  department number   department name  year  \\\n",
      "0   0              BULK Coupon                3.0              BULK  2010   \n",
      "1   0              BULK Coupon                3.0              BULK  2010   \n",
      "2   0            FROZEN Coupon                6.0            FROZEN  2010   \n",
      "3   0  PACKAGED GROCERY Coupon                1.0  PACKAGED GROCERY  2010   \n",
      "4   0  PACKAGED GROCERY Coupon                1.0  PACKAGED GROCERY  2010   \n",
      "\n",
      "   month  sales  transactions  items  \n",
      "0      1   2.00             1     -1  \n",
      "1      2   1.00             1     -1  \n",
      "2      2   2.00             1     -1  \n",
      "3      1  14.48             2     -4  \n",
      "4      2  15.49             5     -5  \n"
     ]
    }
   ],
   "source": [
    "query_3 = \"\"\"\n",
    "    SELECT DISTINCT upc\n",
    "    , description\n",
    "    , trans.department AS `department number`\n",
    "    , depts.dept_name AS `department name`\n",
    "    , EXTRACT(YEAR FROM datetime) AS year\n",
    "    , EXTRACT(MONTH FROM datetime) AS month\n",
    "    , ROUND(SUM(total), 2) as sales\n",
    "    , COUNT(DISTINCT CONCAT(\n",
    "        CAST(EXTRACT(DATE FROM datetime) AS STRING), \n",
    "        CAST(register_no AS STRING), \n",
    "        CAST(emp_no AS STRING), \n",
    "        CAST(trans_no AS STRING)\n",
    "        )) AS transactions\n",
    "    ,SUM(\n",
    "        CASE\n",
    "        WHEN trans_status IN ('V', 'R') THEN -1\n",
    "        ELSE 1\n",
    "    END\n",
    "    ) AS items\n",
    "\n",
    "    FROM `umt-msba.wedge_transactions.transArchive*` as trans\n",
    "    JOIN `umt-msba.wedge_transactions.department_lookup` as depts\n",
    "    ON trans.department = depts.department\n",
    "    WHERE trans.department NOT IN (0, 15)\n",
    "    AND card_no != 3\n",
    "    AND (trans_status IS NULL \n",
    "    OR trans_status IN ('V', 'R', '', ' '))\n",
    "    GROUP BY upc, description, `department number`, `department name`, year, month\n",
    "    ORDER BY upc, description, `department number`, `department name`, year, month;\n",
    "    \"\"\"\n",
    "# Execute the query\n",
    "try:\n",
    "    query_job = client.query(query_3)  # Start the query job\n",
    "    df3 = query_job.to_dataframe()  # Convert the result to a pandas DataFrame\n",
    "\n",
    "    # View the DataFrame\n",
    "    print(df3.head())  # Show the first 5 rows of the DataFrame\n",
    "\n",
    "except Exception as e:\n",
    "    print(f\"Query failed: {e}\")"
   ]
  },
  {
   "cell_type": "markdown",
   "metadata": {},
   "source": [
    "### Create a SQLite Database and Add Summary Tables"
   ]
  },
  {
   "cell_type": "code",
   "execution_count": 9,
   "metadata": {},
   "outputs": [
    {
     "data": {
      "text/plain": [
       "1130901"
      ]
     },
     "execution_count": 9,
     "metadata": {},
     "output_type": "execute_result"
    }
   ],
   "source": [
    "# Connect to the SQLite database (or create it)\n",
    "conn = sqlite3.connect('data/summary_database.db')\n",
    "\n",
    "# Create a cursor object\n",
    "cursor = conn.cursor()\n",
    "\n",
    "# Create table summary table 1\n",
    "df1.to_sql('summary_table_1', conn, if_exists='replace', index=False)\n",
    "\n",
    "# Create table summary table 2\n",
    "df2.to_sql('summary_table_2', conn, if_exists='replace', index=False)\n",
    "\n",
    "# Create table summary table 3\n",
    "df3.to_sql('summary_table_3', conn, if_exists='replace', index=False)"
   ]
  },
  {
   "cell_type": "markdown",
   "metadata": {},
   "source": [
    "### Check to Make Sure Data is In Database"
   ]
  },
  {
   "cell_type": "code",
   "execution_count": 10,
   "metadata": {},
   "outputs": [
    {
     "name": "stdout",
     "output_type": "stream",
     "text": [
      "[(1006.28, '2010-01-01', 9, 36, 245), (3128.55, '2010-01-01', 10, 82, 913), (4001.66, '2010-01-01', 11, 118, 1108), (3886.51, '2010-01-01', 12, 124, 1143), (4654.52, '2010-01-01', 13, 154, 1365)]\n",
      "[(10000.0, 2010, 10, 65.87, 4, 21), (10000.0, 2010, 11, 53.12, 2, 20), (10000.0, 2010, 12, 17.34, 1, 6), (10000.0, 2011, 1, 60.4, 4, 23), (10000.0, 2011, 2, 19.65, 1, 4)]\n",
      "[('0', 'BULK Coupon', 3.0, 'BULK', 2010, 1, 2.0, 1, -1), ('0', 'BULK Coupon', 3.0, 'BULK', 2010, 2, 1.0, 1, -1), ('0', 'FROZEN Coupon', 6.0, 'FROZEN', 2010, 2, 2.0, 1, -1), ('0', 'PACKAGED GROCERY Coupon', 1.0, 'PACKAGED GROCERY', 2010, 1, 14.48, 2, -4), ('0', 'PACKAGED GROCERY Coupon', 1.0, 'PACKAGED GROCERY', 2010, 2, 15.49, 5, -5)]\n"
     ]
    }
   ],
   "source": [
    "conn = sqlite3.connect('data/summary_database.db')\n",
    "\n",
    "cursor = conn.cursor()\n",
    "\n",
    "# Query to check the first summary table\n",
    "cursor.execute(\"SELECT * FROM summary_table_1 LIMIT 5\")\n",
    "print(cursor.fetchall())\n",
    "\n",
    "cursor.execute(\"SELECT * FROM summary_table_2 LIMIT 5\")\n",
    "print(cursor.fetchall())\n",
    "\n",
    "cursor.execute(\"SELECT * FROM summary_table_3 LIMIT 5\")\n",
    "print(cursor.fetchall())\n",
    "\n",
    "# Commit and close the connection when done\n",
    "conn.commit()\n",
    "conn.close()"
   ]
  },
  {
   "cell_type": "code",
   "execution_count": 12,
   "metadata": {},
   "outputs": [
    {
     "ename": "PermissionError",
     "evalue": "[WinError 32] The process cannot access the file because it is being used by another process: 'summary_database.db'",
     "output_type": "error",
     "traceback": [
      "\u001b[1;31m---------------------------------------------------------------------------\u001b[0m",
      "\u001b[1;31mPermissionError\u001b[0m                           Traceback (most recent call last)",
      "Cell \u001b[1;32mIn[12], line 4\u001b[0m\n\u001b[0;32m      1\u001b[0m db_path \u001b[38;5;241m=\u001b[39m \u001b[38;5;124m'\u001b[39m\u001b[38;5;124msummary_database.db\u001b[39m\u001b[38;5;124m'\u001b[39m\n\u001b[0;32m      3\u001b[0m \u001b[38;5;28;01mif\u001b[39;00m os\u001b[38;5;241m.\u001b[39mpath\u001b[38;5;241m.\u001b[39mexists(db_path):\n\u001b[1;32m----> 4\u001b[0m     \u001b[43mos\u001b[49m\u001b[38;5;241;43m.\u001b[39;49m\u001b[43mremove\u001b[49m\u001b[43m(\u001b[49m\u001b[43mdb_path\u001b[49m\u001b[43m)\u001b[49m\n\u001b[0;32m      5\u001b[0m     \u001b[38;5;28mprint\u001b[39m(\u001b[38;5;124mf\u001b[39m\u001b[38;5;124m\"\u001b[39m\u001b[38;5;124mDatabase at \u001b[39m\u001b[38;5;132;01m{\u001b[39;00mdb_path\u001b[38;5;132;01m}\u001b[39;00m\u001b[38;5;124m has been deleted.\u001b[39m\u001b[38;5;124m\"\u001b[39m)\n\u001b[0;32m      6\u001b[0m \u001b[38;5;28;01melse\u001b[39;00m:\n",
      "\u001b[1;31mPermissionError\u001b[0m: [WinError 32] The process cannot access the file because it is being used by another process: 'summary_database.db'"
     ]
    }
   ],
   "source": [
    "\n",
    "db_path = 'summary_database.db'\n",
    "\n",
    "if os.path.exists(db_path):\n",
    "    os.remove(db_path)\n",
    "    print(f\"Database at {db_path} has been deleted.\")\n",
    "else:\n",
    "    print(\"The database file does not exist.\")"
   ]
  }
 ],
 "metadata": {
  "kernelspec": {
   "display_name": "Python 3",
   "language": "python",
   "name": "python3"
  },
  "language_info": {
   "codemirror_mode": {
    "name": "ipython",
    "version": 3
   },
   "file_extension": ".py",
   "mimetype": "text/x-python",
   "name": "python",
   "nbconvert_exporter": "python",
   "pygments_lexer": "ipython3",
   "version": "3.12.2"
  }
 },
 "nbformat": 4,
 "nbformat_minor": 2
}
