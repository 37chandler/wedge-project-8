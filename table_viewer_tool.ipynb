{
 "cells": [
  {
   "cell_type": "code",
   "execution_count": 6,
   "metadata": {},
   "outputs": [],
   "source": [
    "from zipfile import ZipFile\n",
    "import pandas as pd\n",
    "import os\n"
   ]
  },
  {
   "cell_type": "markdown",
   "metadata": {},
   "source": [
    "### Add tables to compare"
   ]
  },
  {
   "cell_type": "code",
   "execution_count": 35,
   "metadata": {},
   "outputs": [],
   "source": [
    "data_directory_raw = \"Data/SmallZip/\"\n",
    "zip_file_raw = \"transArchive_201001_201003_small.zip\"  # Single zip file\n",
    "\n",
    "data_directory_clean = \"Data/clean-files/\"\n",
    "zip_file_clean = \"transArchive_201001_201003_clean.csv\"  # Single zip file\n"
   ]
  },
  {
   "cell_type": "markdown",
   "metadata": {},
   "source": [
    "### Read in raw file\n"
   ]
  },
  {
   "cell_type": "code",
   "execution_count": 39,
   "metadata": {},
   "outputs": [
    {
     "name": "stdout",
     "output_type": "stream",
     "text": [
      "Reading file: transArchive_201001_201003_small.csv\n",
      "Shape of the data: (10000, 50)\n",
      "Descriptive statistics:\n",
      "        register_no        emp_no     trans_no    department      quantity  \\\n",
      "count  10000.000000  10000.000000  10000.00000  10000.000000  10000.000000   \n",
      "mean       6.058700     37.324600     43.14150      3.235700      1.140507   \n",
      "std        2.788697     15.094218     31.11601      4.094194     52.391723   \n",
      "min        2.000000     17.000000      1.00000      0.000000  -2729.000000   \n",
      "25%        5.000000     25.000000     19.00000      0.000000      0.310000   \n",
      "50%        6.000000     32.000000     37.00000      2.000000      1.000000   \n",
      "75%        7.000000     43.000000     61.00000      4.000000      1.000000   \n",
      "max       16.000000     68.000000    130.00000     18.000000   4000.000000   \n",
      "\n",
      "              Scale          cost     unitPrice         total      regPrice  \\\n",
      "count  10000.000000  10000.000000  10000.000000  10000.000000  10000.000000   \n",
      "mean       0.142900      1.409904      2.658645      0.003758      3.182887   \n",
      "std        0.349988      2.379339      4.078629     14.977978     10.931030   \n",
      "min        0.000000      0.000000    -18.950000   -266.530000     -7.200000   \n",
      "25%        0.000000      0.000000      0.000000      0.000000      0.000000   \n",
      "50%        0.000000      0.000000      1.990000      1.980000      1.990000   \n",
      "75%        0.000000      2.229000      3.615000      3.590000      3.990000   \n",
      "max        1.000000     39.750000     84.600000     93.830000    710.990000   \n",
      "\n",
      "       ...  batchHeaderID    local  organic  display  receipt       card_no  \\\n",
      "count  ...            0.0  10000.0      0.0      0.0  10000.0  10000.000000   \n",
      "mean   ...            NaN      0.0      NaN      NaN      0.0  16132.217400   \n",
      "std    ...            NaN      0.0      NaN      NaN      0.0  14327.777985   \n",
      "min    ...            NaN      0.0      NaN      NaN      0.0      3.000000   \n",
      "25%    ...            NaN      0.0      NaN      NaN      0.0      3.000000   \n",
      "50%    ...            NaN      0.0      NaN      NaN      0.0  14293.000000   \n",
      "75%    ...            NaN      0.0      NaN      NaN      0.0  21707.000000   \n",
      "max    ...            NaN      0.0      NaN      NaN      0.0  51099.000000   \n",
      "\n",
      "         store   branch  match_id      trans_id  \n",
      "count  10000.0  10000.0   10000.0  10000.000000  \n",
      "mean       1.0      0.0       0.0     16.049000  \n",
      "std        0.0      0.0       0.0     16.551586  \n",
      "min        1.0      0.0       0.0      1.000000  \n",
      "25%        1.0      0.0       0.0      5.000000  \n",
      "50%        1.0      0.0       0.0     11.000000  \n",
      "75%        1.0      0.0       0.0     21.000000  \n",
      "max        1.0      0.0       0.0    132.000000  \n",
      "\n",
      "[8 rows x 43 columns]\n"
     ]
    }
   ],
   "source": [
    "with ZipFile(data_directory_raw + zip_file_raw, 'r') as zf:\n",
    "    # Get the list of files in the zip and assign the desired file to a variable\n",
    "    file_name = zf.namelist()[0]  # Use variable to store the first file name (or choose the desired one)\n",
    "    print(f\"Reading file: {file_name}\")\n",
    "    \n",
    "    # Open the file using the variable\n",
    "    with zf.open(file_name) as f:\n",
    "        df_raw = pd.read_csv(f, sep=',')\n",
    "\n",
    "# Step 5: Print the shape of the DataFrame\n",
    "print(\"Shape of the data:\", df_raw.shape)\n",
    "\n",
    "# Step 6: Get and print descriptive statistics\n",
    "print(\"Descriptive statistics:\")\n",
    "print(df_raw.describe())"
   ]
  },
  {
   "cell_type": "markdown",
   "metadata": {},
   "source": [
    "### Read in Clean File"
   ]
  },
  {
   "cell_type": "code",
   "execution_count": 38,
   "metadata": {},
   "outputs": [
    {
     "name": "stdout",
     "output_type": "stream",
     "text": [
      "Shape of the data: (2998330, 50)\n",
      "Descriptive statistics:\n",
      "        register_no        emp_no      trans_no    department      quantity  \\\n",
      "count  2.998330e+06  2.998330e+06  2.998330e+06  2.998330e+06  2.998330e+06   \n",
      "mean   5.574053e+00  3.978740e+01  3.862387e+01  3.139185e+00  3.064414e+00   \n",
      "std    2.492215e+00  2.877672e+01  2.775048e+01  3.988538e+00  7.586930e+02   \n",
      "min    1.000000e+00  2.000000e+00  1.000000e+00  0.000000e+00 -7.432250e+05   \n",
      "25%    4.000000e+00  1.400000e+01  1.700000e+01  0.000000e+00  3.200000e-01   \n",
      "50%    5.000000e+00  3.300000e+01  3.400000e+01  2.000000e+00  1.000000e+00   \n",
      "75%    7.000000e+00  6.300000e+01  5.500000e+01  4.000000e+00  1.000000e+00   \n",
      "max    1.600000e+01  9.800000e+01  1.990000e+02  1.800000e+01  7.432250e+05   \n",
      "\n",
      "              Scale          cost     unitPrice         total      regPrice  \\\n",
      "count  2.998330e+06  2.998330e+06  2.998330e+06  2.998330e+06  2.998330e+06   \n",
      "mean   1.695114e-01  1.411510e+00  2.707832e+00  2.094129e-16  3.106711e+00   \n",
      "std    3.752030e-01  2.557178e+00  4.523590e+00  3.617299e+03  6.150183e+00   \n",
      "min    0.000000e+00  0.000000e+00 -7.200000e+01 -4.080305e+06 -7.200000e+01   \n",
      "25%    0.000000e+00  0.000000e+00  0.000000e+00  0.000000e+00  0.000000e+00   \n",
      "50%    0.000000e+00  0.000000e+00  1.990000e+00  1.990000e+00  1.990000e+00   \n",
      "75%    0.000000e+00  2.190000e+00  3.690000e+00  3.570000e+00  4.190000e+00   \n",
      "max    1.000000e+00  7.490000e+02  9.991500e+02  4.080305e+06  7.357700e+02   \n",
      "\n",
      "       ...  batchHeaderID      local  organic  display    receipt  \\\n",
      "count  ...            0.0  2998330.0      0.0      0.0  2998330.0   \n",
      "mean   ...            NaN        0.0      NaN      NaN        0.0   \n",
      "std    ...            NaN        0.0      NaN      NaN        0.0   \n",
      "min    ...            NaN        0.0      NaN      NaN        0.0   \n",
      "25%    ...            NaN        0.0      NaN      NaN        0.0   \n",
      "50%    ...            NaN        0.0      NaN      NaN        0.0   \n",
      "75%    ...            NaN        0.0      NaN      NaN        0.0   \n",
      "max    ...            NaN        0.0      NaN      NaN        0.0   \n",
      "\n",
      "            card_no      store     branch   match_id      trans_id  \n",
      "count  2.998330e+06  2998330.0  2998330.0  2998330.0  2.998330e+06  \n",
      "mean   1.587771e+04        1.0        0.0        0.0  1.730586e+01  \n",
      "std    1.313716e+04        0.0        0.0        0.0  1.653153e+01  \n",
      "min    3.000000e+00        1.0        0.0        0.0  1.000000e+00  \n",
      "25%    3.000000e+00        1.0        0.0        0.0  6.000000e+00  \n",
      "50%    1.503700e+04        1.0        0.0        0.0  1.200000e+01  \n",
      "75%    2.133700e+04        1.0        0.0        0.0  2.300000e+01  \n",
      "max    5.118300e+04        1.0        0.0        0.0  1.960000e+02  \n",
      "\n",
      "[8 rows x 43 columns]\n"
     ]
    }
   ],
   "source": [
    "with open(data_directory_clean + zip_file_clean, 'r') as f:\n",
    "    df_clean = pd.read_csv(f, sep=',')\n",
    "\n",
    "# Step 5: Print the shape of the DataFrame\n",
    "print(\"Shape of the data:\", df_clean.shape)\n",
    "\n",
    "# Step 6: Get and print descriptive statistics\n",
    "print(\"Descriptive statistics:\")\n",
    "print(df_clean.describe())"
   ]
  },
  {
   "cell_type": "markdown",
   "metadata": {},
   "source": []
  },
  {
   "cell_type": "code",
   "execution_count": null,
   "metadata": {},
   "outputs": [],
   "source": []
  }
 ],
 "metadata": {
  "kernelspec": {
   "display_name": "Python 3",
   "language": "python",
   "name": "python3"
  },
  "language_info": {
   "codemirror_mode": {
    "name": "ipython",
    "version": 3
   },
   "file_extension": ".py",
   "mimetype": "text/x-python",
   "name": "python",
   "nbconvert_exporter": "python",
   "pygments_lexer": "ipython3",
   "version": "3.12.2"
  }
 },
 "nbformat": 4,
 "nbformat_minor": 2
}
