{
 "cells": [
  {
   "cell_type": "markdown",
   "metadata": {},
   "source": [
    "## Task 1"
   ]
  },
  {
   "cell_type": "code",
   "execution_count": 1,
   "metadata": {},
   "outputs": [],
   "source": [
    "import os\n",
    "from google.cloud import bigquery"
   ]
  },
  {
   "cell_type": "code",
   "execution_count": 2,
   "metadata": {},
   "outputs": [
    {
     "data": {
      "text/plain": [
       "'c:\\\\Users\\\\npleg\\\\OneDrive\\\\Documents\\\\GitHub\\\\ADA\\\\wedge\\\\wedge-project'"
      ]
     },
     "execution_count": 2,
     "metadata": {},
     "output_type": "execute_result"
    }
   ],
   "source": [
    "os.getcwd()"
   ]
  },
  {
   "cell_type": "code",
   "execution_count": 6,
   "metadata": {},
   "outputs": [
    {
     "name": "stdout",
     "output_type": "stream",
     "text": [
      "transArchive_201001_201003_small.zip\n",
      "transArchive_201004_201006_small.zip\n",
      "transArchive_201007_201009_small.zip\n",
      "transArchive_201010_201012_small.zip\n",
      "transArchive_201101_201103_small.zip\n",
      "transArchive_201104_small.zip\n",
      "transArchive_201105_small.zip\n",
      "transArchive_201106_small.zip\n",
      "transArchive_201107_201109_small.zip\n",
      "transArchive_201110_201112_small.zip\n",
      "transArchive_201201_201203_inactive_small.zip\n",
      "transArchive_201201_201203_small.zip\n",
      "transArchive_201204_201206_inactive_small.zip\n",
      "transArchive_201204_201206_small.zip\n",
      "transArchive_201207_201209_inactive_small.zip\n",
      "transArchive_201207_201209_small.zip\n",
      "transArchive_201210_201212_inactive_small.zip\n",
      "transArchive_201210_201212_small.zip\n",
      "transArchive_201301_201303_inactive_small.zip\n",
      "transArchive_201301_201303_small.zip\n",
      "transArchive_201304_201306_inactive_small.zip\n",
      "transArchive_201304_201306_small.zip\n",
      "transArchive_201307_201309_inactive_small.zip\n",
      "transArchive_201307_201309_small.zip\n",
      "transArchive_201310_201312_inactive_small.zip\n",
      "transArchive_201310_201312_small.zip\n",
      "transArchive_201401_201403_inactive_small.zip\n",
      "transArchive_201401_201403_small.zip\n",
      "transArchive_201404_201406_inactive_small.zip\n",
      "transArchive_201404_201406_small.zip\n",
      "transArchive_201407_201409_inactive_small.zip\n",
      "transArchive_201407_201409_small.zip\n",
      "transArchive_201410_201412_inactive_small.zip\n",
      "transArchive_201410_201412_small.zip\n",
      "transArchive_201501_201503_small.zip\n",
      "transArchive_201504_201506_small.zip\n",
      "transArchive_201507_201509_small.zip\n",
      "transArchive_201510_small.zip\n",
      "transArchive_201511_small.zip\n",
      "transArchive_201512_small.zip\n",
      "transArchive_201601_small.zip\n",
      "transArchive_201602_small.zip\n",
      "transArchive_201603_small.zip\n",
      "transArchive_201604_small.zip\n",
      "transArchive_201605_small.zip\n",
      "transArchive_201606_small.zip\n",
      "transArchive_201607_small.zip\n",
      "transArchive_201608_small.zip\n",
      "transArchive_201609_small.zip\n",
      "transArchive_201610_small.zip\n",
      "transArchive_201611_small.zip\n",
      "transArchive_201612_small.zip\n",
      "transArchive_201701_small.zip\n"
     ]
    }
   ],
   "source": [
    "data_directory = \"Data\\\\SmallZip\"\n",
    "for filename in os.listdir(data_directory):\n",
    "    print(filename)\n",
    "  "
   ]
  },
  {
   "cell_type": "code",
   "execution_count": null,
   "metadata": {},
   "outputs": [],
   "source": [
    "gbq_path = \"\"\n",
    "gpq_project_id = \"wedge_project_np\"\n",
    "gbq_dataset_id = \"wedge_dataset\""
   ]
  }
 ],
 "metadata": {
  "kernelspec": {
   "display_name": "Python 3",
   "language": "python",
   "name": "python3"
  },
  "language_info": {
   "codemirror_mode": {
    "name": "ipython",
    "version": 3
   },
   "file_extension": ".py",
   "mimetype": "text/x-python",
   "name": "python",
   "nbconvert_exporter": "python",
   "pygments_lexer": "ipython3",
   "version": "3.12.2"
  }
 },
 "nbformat": 4,
 "nbformat_minor": 2
}
