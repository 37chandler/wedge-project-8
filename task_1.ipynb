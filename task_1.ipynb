{
 "cells": [
  {
   "cell_type": "markdown",
   "metadata": {},
   "source": [
    "\n",
    "# Task 1 Clean and Upload Data\n"
   ]
  },
  {
   "cell_type": "code",
   "execution_count": 1,
   "metadata": {},
   "outputs": [],
   "source": [
    "import os \n",
    "import io\n",
    "from zipfile import ZipFile\n",
    "import pandas as pd\n",
    "import csv\n",
    "#from google.cloud import bigquery\n",
    "#from pandas_gbq import to_gbq\n",
    "#from google.oauth2 import service_account"
   ]
  },
  {
   "cell_type": "markdown",
   "metadata": {},
   "source": [
    "### Questions:\n",
    "1. Extra quotes on some headers???  \n",
    "1. Loading with or without a header???\n",
    "1. I did not find any duplicates or didn't remove any null values\n",
    "1. When importing to GBQ I cannot get datetime to come in as TIMESTAMP vs string."
   ]
  },
  {
   "cell_type": "markdown",
   "metadata": {},
   "source": [
    "#### Data Source Setup"
   ]
  },
  {
   "cell_type": "code",
   "execution_count": 2,
   "metadata": {},
   "outputs": [],
   "source": [
    "data_directory = \"Data/LargeZips/\"\n",
    "zip_files = os.listdir(\"Data/LargeZips\")"
   ]
  },
  {
   "cell_type": "markdown",
   "metadata": {},
   "source": [
    "### Iterate Over Zip Files and Save to Pandas Dataframe"
   ]
  },
  {
   "cell_type": "code",
   "execution_count": null,
   "metadata": {},
   "outputs": [],
   "source": [
    "# Iterate over all zip files in the directory\n",
    "for current_zf in zip_files:\n",
    "    with ZipFile(data_directory + current_zf, 'r') as zf:\n",
    "        zipped_files = zf.namelist()\n",
    "\n",
    "        # Iterate over each file in the zip\n",
    "        for file_name in zipped_files:\n",
    "            # Assuming the file is a CSV, we will load it into a DataFrame\n",
    "            with zf.open(file_name) as file:\n",
    "                # Read file as CSV\n",
    "                try:\n",
    "                    df = pd.read_csv(file, quotechar='\"') \n",
    "                    print(f\"Loaded {file_name} into DataFrame.\")\n",
    "                    print(df.head())  # Check the first few rows of the DataFrame\n",
    "                except Exception as e:\n",
    "                    print(f\"Error reading {file_name}: {e}\")\n",
    "                # Ensure datetime column is properly formatted\n",
    "                df['datetime'] = pd.to_datetime(df['datetime'], errors='coerce')\n",
    "\n",
    "                # Convert integer columns to float where needed\n",
    "                float_columns = [\n",
    "                    'register_no', 'emp_no', 'trans_no', 'department', 'Scale', 'tax', \n",
    "                    'taxexempt', 'foodstamp', 'wicable', 'discountable', 'discounttype', \n",
    "                    'voided', 'local', 'receipt', 'card_no', 'store', 'branch', 'match_id', \n",
    "                    'trans_id'\n",
    "                ]\n",
    "                df[float_columns] = df[float_columns].astype(float)\n",
    "\n",
    "                # Convert specific columns to boolean\n",
    "                bool_columns = ['memType', 'staff', 'batchHeaderID', 'display']\n",
    "                df[bool_columns] = df[bool_columns].astype(bool)\n",
    "\n",
    "                # Convert columns to string if needed\n",
    "                df['volDiscType'] = df['volDiscType'].astype(str)\n",
    "\n",
    "                # Verify the new schema\n",
    "                print(df.dtypes)\n",
    "                    \n",
    "        print(\"\\n\")"
   ]
  },
  {
   "cell_type": "code",
   "execution_count": null,
   "metadata": {},
   "outputs": [],
   "source": [
    "# Iterate over all zip files in the directory\n",
    "for current_zf in zip_files:\n",
    "    with ZipFile(data_directory + current_zf, 'r') as zf:\n",
    "        zipped_files = zf.namelist()\n",
    "\n",
    "        # Iterate over each file in the zip\n",
    "        for file_name in zipped_files:\n",
    "            # Assuming the file is a CSV, we will load it into a DataFrame\n",
    "            with zf.open(file_name) as file:\n",
    "                try:\n",
    "                    # Read file as CSV\n",
    "                    df = pd.read_csv(file, quotechar='\"')\n",
    "                    print(f\"Loaded {file_name} into DataFrame.\")\n",
    "                    print(df.head())  # Check the first few rows\n",
    "                except Exception as e:\n",
    "                    print(f\"Error reading {file_name}: {e}\")\n",
    "                    continue  # Skip to the next file on error\n",
    "\n",
    "                # Handle 'datetime' column if it exists\n",
    "                if 'datetime' in df.columns:\n",
    "                    df['datetime'] = pd.to_datetime(df['datetime'], errors='coerce')\n",
    "                else:\n",
    "                    print(f\"Warning: 'datetime' column not found in {file_name}.\")\n",
    "\n",
    "                # Convert integer columns to float where needed (only if they exist)\n",
    "                float_columns = [\n",
    "                    'register_no', 'emp_no', 'trans_no', 'department', 'Scale', 'tax', \n",
    "                    'taxexempt', 'foodstamp', 'wicable', 'discountable', 'discounttype', \n",
    "                    'voided', 'local', 'receipt', 'card_no', 'store', 'branch', 'match_id', \n",
    "                    'trans_id'\n",
    "                ]\n",
    "                for col in float_columns:\n",
    "                    if col in df.columns:\n",
    "                        df[col] = df[col].astype(float, errors='ignore')\n",
    "\n",
    "                # Convert specific columns to boolean (only if they exist)\n",
    "                bool_columns = ['memType', 'staff', 'batchHeaderID', 'display']\n",
    "                for col in bool_columns:\n",
    "                    if col in df.columns:\n",
    "                        df[col] = df[col].astype(bool, errors='ignore')\n",
    "\n",
    "                # Convert 'volDiscType' to string if it exists\n",
    "                if 'volDiscType' in df.columns:\n",
    "                    df['volDiscType'] = df['volDiscType'].astype(str)\n",
    "\n",
    "                # Verify the new schema\n",
    "                print(\"Updated DataFrame types:\")\n",
    "                print(df.dtypes)\n",
    "\n",
    "        print(\"\\n\")"
   ]
  },
  {
   "cell_type": "code",
   "execution_count": null,
   "metadata": {},
   "outputs": [],
   "source": [
    "\"\"\"#current_zf = zip_files[0]\n",
    "for current_zf in zip_files :\n",
    "# Open the current zipfile\n",
    "    with ZipFile(data_directory + current_zf,'r') as zf :\n",
    "        zipped_files = zf.namelist()\n",
    "        \n",
    "        # Iteraate over each file inside the current zip file\n",
    "        for file_name in zipped_files :\n",
    "            # Open and wrap it to read as text\n",
    "            input_file = io.TextIOWrapper(zf.open(file_name, 'r'), encoding=\"utf-8\")\n",
    "\n",
    "            for idx, line in enumerate(input_file) :\n",
    "                print(line)\n",
    "                if idx > 4 :\n",
    "                    break\n",
    "            input_file.close()\n",
    "        print(\"\\n\")\"\"\"\n"
   ]
  },
  {
   "cell_type": "markdown",
   "metadata": {},
   "source": [
    "### Sniffing out the Delimiter \n",
    "This section identifies the delimiter for each csv file and stores it in a dictionary called **delimiters** with the file_name as the key. "
   ]
  },
  {
   "cell_type": "code",
   "execution_count": 3,
   "metadata": {},
   "outputs": [
    {
     "name": "stdout",
     "output_type": "stream",
     "text": [
      "For transArchive_201001_201003.csv the delimiter is ,\n",
      "For transArchive_201004_201006.csv the delimiter is ,\n",
      "For transArchive_201007_201009.csv the delimiter is ,\n",
      "For transArchive_201010_201012.csv the delimiter is ,\n",
      "For transArchive_201101_201103.csv the delimiter is ,\n",
      "For transArchive_201104.csv the delimiter is ,\n",
      "For transArchive_201105.csv the delimiter is ,\n",
      "For transArchive_201106.csv the delimiter is ,\n",
      "For transArchive_201107_201109.csv the delimiter is ,\n",
      "For transArchive_201110_201112.csv the delimiter is ,\n",
      "For transArchive_201201_201203.csv the delimiter is ,\n",
      "For transArchive_201201_201203_inactive.csv the delimiter is ;\n",
      "For transArchive_201204_201206.csv the delimiter is ,\n",
      "For transArchive_201204_201206_inactive.csv the delimiter is ;\n",
      "For transArchive_201207_201209.csv the delimiter is ,\n",
      "For transArchive_201207_201209_inactive.csv the delimiter is ;\n",
      "For transArchive_201210_201212.csv the delimiter is ,\n",
      "For transArchive_201210_201212_inactive.csv the delimiter is ;\n",
      "For transArchive_201301_201303.csv the delimiter is ,\n",
      "For transArchive_201301_201303_inactive.csv the delimiter is ;\n",
      "For transArchive_201304_201306.csv the delimiter is ,\n",
      "For transArchive_201304_201306_inactive.csv the delimiter is ;\n",
      "For transArchive_201307_201309.csv the delimiter is ,\n",
      "For transArchive_201307_201309_inactive.csv the delimiter is ;\n",
      "For transArchive_201310_201312.csv the delimiter is ,\n",
      "For transArchive_201310_201312_inactive.csv the delimiter is ;\n",
      "For transArchive_201401_201403.csv the delimiter is ,\n",
      "For transArchive_201401_201403_inactive.csv the delimiter is ;\n",
      "For transArchive_201404_201406.csv the delimiter is ,\n",
      "For transArchive_201404_201406_inactive.csv the delimiter is ;\n",
      "For transArchive_201407_201409.csv the delimiter is ,\n",
      "For transArchive_201407_201409_inactive.csv the delimiter is ;\n",
      "For transArchive_201410_201412.csv the delimiter is ,\n",
      "For transArchive_201410_201412_inactive.csv the delimiter is ;\n",
      "For transArchive_201501_201503.csv the delimiter is ,\n",
      "For transArchive_201504_201506.csv the delimiter is ,\n",
      "For transArchive_201507_201509.csv the delimiter is ,\n",
      "For transArchive_201510.csv the delimiter is ,\n",
      "For transArchive_201511.csv the delimiter is ,\n",
      "For transArchive_201512.csv the delimiter is ,\n",
      "For transArchive_201601.csv the delimiter is ,\n",
      "For transArchive_201602.csv the delimiter is ,\n",
      "For transArchive_201603.csv the delimiter is ,\n",
      "For transArchive_201604.csv the delimiter is ,\n",
      "For transArchive_201605.csv the delimiter is ,\n",
      "For transArchive_201606.csv the delimiter is ,\n",
      "For transArchive_201607.csv the delimiter is ,\n",
      "For transArchive_201608.csv the delimiter is ,\n",
      "For transArchive_201609.csv the delimiter is ,\n",
      "For transArchive_201610.csv the delimiter is ,\n",
      "For transArchive_201611.csv the delimiter is ,\n",
      "For transArchive_201612.csv the delimiter is ,\n",
      "For transArchive_201701.csv the delimiter is ,\n"
     ]
    }
   ],
   "source": [
    "delimiters = dict() \n",
    "\n",
    "# Start by reading in all the files again.\n",
    "\n",
    "#current_zf = zip_files[0]\n",
    "for current_zf in zip_files :\n",
    "# Open the current zf\n",
    "    with ZipFile(data_directory + current_zf,'r') as zf :\n",
    "        zipped_files = zf.namelist()\n",
    "        \n",
    "        # Iteraate over each file inside the current zip file\n",
    "        for file_name in zipped_files :\n",
    "            # Open and wrap it to read as text\n",
    "            input_file = io.TextIOWrapper(zf.open(file_name, 'r'), encoding=\"utf-8\")\n",
    "            \n",
    "            dialect = csv.Sniffer().sniff(sample=input_file.readline(),\n",
    "                                      delimiters=[\",\",\";\",\"\\t\"])\n",
    "            \n",
    "            delimiters[file_name] = dialect.delimiter\n",
    "            \n",
    "            print(\" \".join([\"For\",\n",
    "                           file_name,\n",
    "                           \"the delimiter is\",\n",
    "                           dialect.delimiter\n",
    "                           ]))\n",
    "\n",
    "            input_file.close() # tidy up"
   ]
  },
  {
   "cell_type": "markdown",
   "metadata": {},
   "source": [
    "#### Print out first line test (to be removed)"
   ]
  },
  {
   "cell_type": "code",
   "execution_count": 4,
   "metadata": {},
   "outputs": [
    {
     "name": "stdout",
     "output_type": "stream",
     "text": [
      "['datetime', 'register_no', 'emp_no', 'trans_no', 'upc', 'description', 'trans_type', 'trans_subtype', 'trans_status', 'department', 'quantity', 'Scale', 'cost', 'unitPrice', 'total', 'regPrice', 'altPrice', 'tax', 'taxexempt', 'foodstamp', 'wicable', 'discount', 'memDiscount', 'discountable', 'discounttype', 'voided', 'percentDiscount', 'ItemQtty', 'volDiscType', 'volume', 'VolSpecial', 'mixMatch', 'matched', 'memType', 'staff', 'numflag', 'itemstatus', 'tenderstatus', 'charflag', 'varflag', 'batchHeaderID', 'local', 'organic', 'display', 'receipt', 'card_no', 'store', 'branch', 'match_id', 'trans_id']\n",
      "['datetime', 'register_no', 'emp_no', 'trans_no', 'upc', 'description', 'trans_type', 'trans_subtype', 'trans_status', 'department', 'quantity', 'Scale', 'cost', 'unitPrice', 'total', 'regPrice', 'altPrice', 'tax', 'taxexempt', 'foodstamp', 'wicable', 'discount', 'memDiscount', 'discountable', 'discounttype', 'voided', 'percentDiscount', 'ItemQtty', 'volDiscType', 'volume', 'VolSpecial', 'mixMatch', 'matched', 'memType', 'staff', 'numflag', 'itemstatus', 'tenderstatus', 'charflag', 'varflag', 'batchHeaderID', 'local', 'organic', 'display', 'receipt', 'card_no', 'store', 'branch', 'match_id', 'trans_id']\n",
      "['datetime', 'register_no', 'emp_no', 'trans_no', 'upc', 'description', 'trans_type', 'trans_subtype', 'trans_status', 'department', 'quantity', 'Scale', 'cost', 'unitPrice', 'total', 'regPrice', 'altPrice', 'tax', 'taxexempt', 'foodstamp', 'wicable', 'discount', 'memDiscount', 'discountable', 'discounttype', 'voided', 'percentDiscount', 'ItemQtty', 'volDiscType', 'volume', 'VolSpecial', 'mixMatch', 'matched', 'memType', 'staff', 'numflag', 'itemstatus', 'tenderstatus', 'charflag', 'varflag', 'batchHeaderID', 'local', 'organic', 'display', 'receipt', 'card_no', 'store', 'branch', 'match_id', 'trans_id']\n",
      "['datetime', 'register_no', 'emp_no', 'trans_no', 'upc', 'description', 'trans_type', 'trans_subtype', 'trans_status', 'department', 'quantity', 'Scale', 'cost', 'unitPrice', 'total', 'regPrice', 'altPrice', 'tax', 'taxexempt', 'foodstamp', 'wicable', 'discount', 'memDiscount', 'discountable', 'discounttype', 'voided', 'percentDiscount', 'ItemQtty', 'volDiscType', 'volume', 'VolSpecial', 'mixMatch', 'matched', 'memType', 'staff', 'numflag', 'itemstatus', 'tenderstatus', 'charflag', 'varflag', 'batchHeaderID', 'local', 'organic', 'display', 'receipt', 'card_no', 'store', 'branch', 'match_id', 'trans_id']\n",
      "['datetime', 'register_no', 'emp_no', 'trans_no', 'upc', 'description', 'trans_type', 'trans_subtype', 'trans_status', 'department', 'quantity', 'Scale', 'cost', 'unitPrice', 'total', 'regPrice', 'altPrice', 'tax', 'taxexempt', 'foodstamp', 'wicable', 'discount', 'memDiscount', 'discountable', 'discounttype', 'voided', 'percentDiscount', 'ItemQtty', 'volDiscType', 'volume', 'VolSpecial', 'mixMatch', 'matched', 'memType', 'staff', 'numflag', 'itemstatus', 'tenderstatus', 'charflag', 'varflag', 'batchHeaderID', 'local', 'organic', 'display', 'receipt', 'card_no', 'store', 'branch', 'match_id', 'trans_id']\n",
      "['datetime', 'register_no', 'emp_no', 'trans_no', 'upc', 'description', 'trans_type', 'trans_subtype', 'trans_status', 'department', 'quantity', 'Scale', 'cost', 'unitPrice', 'total', 'regPrice', 'altPrice', 'tax', 'taxexempt', 'foodstamp', 'wicable', 'discount', 'memDiscount', 'discountable', 'discounttype', 'voided', 'percentDiscount', 'ItemQtty', 'volDiscType', 'volume', 'VolSpecial', 'mixMatch', 'matched', 'memType', 'staff', 'numflag', 'itemstatus', 'tenderstatus', 'charflag', 'varflag', 'batchHeaderID', 'local', 'organic', 'display', 'receipt', 'card_no', 'store', 'branch', 'match_id', 'trans_id']\n",
      "['datetime', 'register_no', 'emp_no', 'trans_no', 'upc', 'description', 'trans_type', 'trans_subtype', 'trans_status', 'department', 'quantity', 'Scale', 'cost', 'unitPrice', 'total', 'regPrice', 'altPrice', 'tax', 'taxexempt', 'foodstamp', 'wicable', 'discount', 'memDiscount', 'discountable', 'discounttype', 'voided', 'percentDiscount', 'ItemQtty', 'volDiscType', 'volume', 'VolSpecial', 'mixMatch', 'matched', 'memType', 'staff', 'numflag', 'itemstatus', 'tenderstatus', 'charflag', 'varflag', 'batchHeaderID', 'local', 'organic', 'display', 'receipt', 'card_no', 'store', 'branch', 'match_id', 'trans_id']\n",
      "['datetime', 'register_no', 'emp_no', 'trans_no', 'upc', 'description', 'trans_type', 'trans_subtype', 'trans_status', 'department', 'quantity', 'Scale', 'cost', 'unitPrice', 'total', 'regPrice', 'altPrice', 'tax', 'taxexempt', 'foodstamp', 'wicable', 'discount', 'memDiscount', 'discountable', 'discounttype', 'voided', 'percentDiscount', 'ItemQtty', 'volDiscType', 'volume', 'VolSpecial', 'mixMatch', 'matched', 'memType', 'staff', 'numflag', 'itemstatus', 'tenderstatus', 'charflag', 'varflag', 'batchHeaderID', 'local', 'organic', 'display', 'receipt', 'card_no', 'store', 'branch', 'match_id', 'trans_id']\n",
      "['datetime', 'register_no', 'emp_no', 'trans_no', 'upc', 'description', 'trans_type', 'trans_subtype', 'trans_status', 'department', 'quantity', 'Scale', 'cost', 'unitPrice', 'total', 'regPrice', 'altPrice', 'tax', 'taxexempt', 'foodstamp', 'wicable', 'discount', 'memDiscount', 'discountable', 'discounttype', 'voided', 'percentDiscount', 'ItemQtty', 'volDiscType', 'volume', 'VolSpecial', 'mixMatch', 'matched', 'memType', 'staff', 'numflag', 'itemstatus', 'tenderstatus', 'charflag', 'varflag', 'batchHeaderID', 'local', 'organic', 'display', 'receipt', 'card_no', 'store', 'branch', 'match_id', 'trans_id']\n",
      "['datetime', 'register_no', 'emp_no', 'trans_no', 'upc', 'description', 'trans_type', 'trans_subtype', 'trans_status', 'department', 'quantity', 'Scale', 'cost', 'unitPrice', 'total', 'regPrice', 'altPrice', 'tax', 'taxexempt', 'foodstamp', 'wicable', 'discount', 'memDiscount', 'discountable', 'discounttype', 'voided', 'percentDiscount', 'ItemQtty', 'volDiscType', 'volume', 'VolSpecial', 'mixMatch', 'matched', 'memType', 'staff', 'numflag', 'itemstatus', 'tenderstatus', 'charflag', 'varflag', 'batchHeaderID', 'local', 'organic', 'display', 'receipt', 'card_no', 'store', 'branch', 'match_id', 'trans_id']\n",
      "['datetime', 'register_no', 'emp_no', 'trans_no', 'upc', 'description', 'trans_type', 'trans_subtype', 'trans_status', 'department', 'quantity', 'Scale', 'cost', 'unitPrice', 'total', 'regPrice', 'altPrice', 'tax', 'taxexempt', 'foodstamp', 'wicable', 'discount', 'memDiscount', 'discountable', 'discounttype', 'voided', 'percentDiscount', 'ItemQtty', 'volDiscType', 'volume', 'VolSpecial', 'mixMatch', 'matched', 'memType', 'staff', 'numflag', 'itemstatus', 'tenderstatus', 'charflag', 'varflag', 'batchHeaderID', 'local', 'organic', 'display', 'receipt', 'card_no', 'store', 'branch', 'match_id', 'trans_id']\n",
      "['datetime', 'register_no', 'emp_no', 'trans_no', 'upc', 'description', 'trans_type', 'trans_subtype', 'trans_status', 'department', 'quantity', 'Scale', 'cost', 'unitPrice', 'total', 'regPrice', 'altPrice', 'tax', 'taxexempt', 'foodstamp', 'wicable', 'discount', 'memDiscount', 'discountable', 'discounttype', 'voided', 'percentDiscount', 'ItemQtty', 'volDiscType', 'volume', 'VolSpecial', 'mixMatch', 'matched', 'memType', 'staff', 'numflag', 'itemstatus', 'tenderstatus', 'charflag', 'varflag', 'batchHeaderID', 'local', 'organic', 'display', 'receipt', 'card_no', 'store', 'branch', 'match_id', 'trans_id']\n",
      "['datetime', 'register_no', 'emp_no', 'trans_no', 'upc', 'description', 'trans_type', 'trans_subtype', 'trans_status', 'department', 'quantity', 'Scale', 'cost', 'unitPrice', 'total', 'regPrice', 'altPrice', 'tax', 'taxexempt', 'foodstamp', 'wicable', 'discount', 'memDiscount', 'discountable', 'discounttype', 'voided', 'percentDiscount', 'ItemQtty', 'volDiscType', 'volume', 'VolSpecial', 'mixMatch', 'matched', 'memType', 'staff', 'numflag', 'itemstatus', 'tenderstatus', 'charflag', 'varflag', 'batchHeaderID', 'local', 'organic', 'display', 'receipt', 'card_no', 'store', 'branch', 'match_id', 'trans_id']\n",
      "['datetime', 'register_no', 'emp_no', 'trans_no', 'upc', 'description', 'trans_type', 'trans_subtype', 'trans_status', 'department', 'quantity', 'Scale', 'cost', 'unitPrice', 'total', 'regPrice', 'altPrice', 'tax', 'taxexempt', 'foodstamp', 'wicable', 'discount', 'memDiscount', 'discountable', 'discounttype', 'voided', 'percentDiscount', 'ItemQtty', 'volDiscType', 'volume', 'VolSpecial', 'mixMatch', 'matched', 'memType', 'staff', 'numflag', 'itemstatus', 'tenderstatus', 'charflag', 'varflag', 'batchHeaderID', 'local', 'organic', 'display', 'receipt', 'card_no', 'store', 'branch', 'match_id', 'trans_id']\n",
      "['datetime', 'register_no', 'emp_no', 'trans_no', 'upc', 'description', 'trans_type', 'trans_subtype', 'trans_status', 'department', 'quantity', 'Scale', 'cost', 'unitPrice', 'total', 'regPrice', 'altPrice', 'tax', 'taxexempt', 'foodstamp', 'wicable', 'discount', 'memDiscount', 'discountable', 'discounttype', 'voided', 'percentDiscount', 'ItemQtty', 'volDiscType', 'volume', 'VolSpecial', 'mixMatch', 'matched', 'memType', 'staff', 'numflag', 'itemstatus', 'tenderstatus', 'charflag', 'varflag', 'batchHeaderID', 'local', 'organic', 'display', 'receipt', 'card_no', 'store', 'branch', 'match_id', 'trans_id']\n",
      "['datetime', 'register_no', 'emp_no', 'trans_no', 'upc', 'description', 'trans_type', 'trans_subtype', 'trans_status', 'department', 'quantity', 'Scale', 'cost', 'unitPrice', 'total', 'regPrice', 'altPrice', 'tax', 'taxexempt', 'foodstamp', 'wicable', 'discount', 'memDiscount', 'discountable', 'discounttype', 'voided', 'percentDiscount', 'ItemQtty', 'volDiscType', 'volume', 'VolSpecial', 'mixMatch', 'matched', 'memType', 'staff', 'numflag', 'itemstatus', 'tenderstatus', 'charflag', 'varflag', 'batchHeaderID', 'local', 'organic', 'display', 'receipt', 'card_no', 'store', 'branch', 'match_id', 'trans_id']\n",
      "['datetime', 'register_no', 'emp_no', 'trans_no', 'upc', 'description', 'trans_type', 'trans_subtype', 'trans_status', 'department', 'quantity', 'Scale', 'cost', 'unitPrice', 'total', 'regPrice', 'altPrice', 'tax', 'taxexempt', 'foodstamp', 'wicable', 'discount', 'memDiscount', 'discountable', 'discounttype', 'voided', 'percentDiscount', 'ItemQtty', 'volDiscType', 'volume', 'VolSpecial', 'mixMatch', 'matched', 'memType', 'staff', 'numflag', 'itemstatus', 'tenderstatus', 'charflag', 'varflag', 'batchHeaderID', 'local', 'organic', 'display', 'receipt', 'card_no', 'store', 'branch', 'match_id', 'trans_id']\n",
      "['datetime', 'register_no', 'emp_no', 'trans_no', 'upc', 'description', 'trans_type', 'trans_subtype', 'trans_status', 'department', 'quantity', 'Scale', 'cost', 'unitPrice', 'total', 'regPrice', 'altPrice', 'tax', 'taxexempt', 'foodstamp', 'wicable', 'discount', 'memDiscount', 'discountable', 'discounttype', 'voided', 'percentDiscount', 'ItemQtty', 'volDiscType', 'volume', 'VolSpecial', 'mixMatch', 'matched', 'memType', 'staff', 'numflag', 'itemstatus', 'tenderstatus', 'charflag', 'varflag', 'batchHeaderID', 'local', 'organic', 'display', 'receipt', 'card_no', 'store', 'branch', 'match_id', 'trans_id']\n",
      "['datetime', 'register_no', 'emp_no', 'trans_no', 'upc', 'description', 'trans_type', 'trans_subtype', 'trans_status', 'department', 'quantity', 'Scale', 'cost', 'unitPrice', 'total', 'regPrice', 'altPrice', 'tax', 'taxexempt', 'foodstamp', 'wicable', 'discount', 'memDiscount', 'discountable', 'discounttype', 'voided', 'percentDiscount', 'ItemQtty', 'volDiscType', 'volume', 'VolSpecial', 'mixMatch', 'matched', 'memType', 'staff', 'numflag', 'itemstatus', 'tenderstatus', 'charflag', 'varflag', 'batchHeaderID', 'local', 'organic', 'display', 'receipt', 'card_no', 'store', 'branch', 'match_id', 'trans_id']\n",
      "['datetime', 'register_no', 'emp_no', 'trans_no', 'upc', 'description', 'trans_type', 'trans_subtype', 'trans_status', 'department', 'quantity', 'Scale', 'cost', 'unitPrice', 'total', 'regPrice', 'altPrice', 'tax', 'taxexempt', 'foodstamp', 'wicable', 'discount', 'memDiscount', 'discountable', 'discounttype', 'voided', 'percentDiscount', 'ItemQtty', 'volDiscType', 'volume', 'VolSpecial', 'mixMatch', 'matched', 'memType', 'staff', 'numflag', 'itemstatus', 'tenderstatus', 'charflag', 'varflag', 'batchHeaderID', 'local', 'organic', 'display', 'receipt', 'card_no', 'store', 'branch', 'match_id', 'trans_id']\n",
      "['datetime', 'register_no', 'emp_no', 'trans_no', 'upc', 'description', 'trans_type', 'trans_subtype', 'trans_status', 'department', 'quantity', 'Scale', 'cost', 'unitPrice', 'total', 'regPrice', 'altPrice', 'tax', 'taxexempt', 'foodstamp', 'wicable', 'discount', 'memDiscount', 'discountable', 'discounttype', 'voided', 'percentDiscount', 'ItemQtty', 'volDiscType', 'volume', 'VolSpecial', 'mixMatch', 'matched', 'memType', 'staff', 'numflag', 'itemstatus', 'tenderstatus', 'charflag', 'varflag', 'batchHeaderID', 'local', 'organic', 'display', 'receipt', 'card_no', 'store', 'branch', 'match_id', 'trans_id']\n",
      "['datetime', 'register_no', 'emp_no', 'trans_no', 'upc', 'description', 'trans_type', 'trans_subtype', 'trans_status', 'department', 'quantity', 'Scale', 'cost', 'unitPrice', 'total', 'regPrice', 'altPrice', 'tax', 'taxexempt', 'foodstamp', 'wicable', 'discount', 'memDiscount', 'discountable', 'discounttype', 'voided', 'percentDiscount', 'ItemQtty', 'volDiscType', 'volume', 'VolSpecial', 'mixMatch', 'matched', 'memType', 'staff', 'numflag', 'itemstatus', 'tenderstatus', 'charflag', 'varflag', 'batchHeaderID', 'local', 'organic', 'display', 'receipt', 'card_no', 'store', 'branch', 'match_id', 'trans_id']\n",
      "['datetime', 'register_no', 'emp_no', 'trans_no', 'upc', 'description', 'trans_type', 'trans_subtype', 'trans_status', 'department', 'quantity', 'Scale', 'cost', 'unitPrice', 'total', 'regPrice', 'altPrice', 'tax', 'taxexempt', 'foodstamp', 'wicable', 'discount', 'memDiscount', 'discountable', 'discounttype', 'voided', 'percentDiscount', 'ItemQtty', 'volDiscType', 'volume', 'VolSpecial', 'mixMatch', 'matched', 'memType', 'staff', 'numflag', 'itemstatus', 'tenderstatus', 'charflag', 'varflag', 'batchHeaderID', 'local', 'organic', 'display', 'receipt', 'card_no', 'store', 'branch', 'match_id', 'trans_id']\n",
      "['datetime', 'register_no', 'emp_no', 'trans_no', 'upc', 'description', 'trans_type', 'trans_subtype', 'trans_status', 'department', 'quantity', 'Scale', 'cost', 'unitPrice', 'total', 'regPrice', 'altPrice', 'tax', 'taxexempt', 'foodstamp', 'wicable', 'discount', 'memDiscount', 'discountable', 'discounttype', 'voided', 'percentDiscount', 'ItemQtty', 'volDiscType', 'volume', 'VolSpecial', 'mixMatch', 'matched', 'memType', 'staff', 'numflag', 'itemstatus', 'tenderstatus', 'charflag', 'varflag', 'batchHeaderID', 'local', 'organic', 'display', 'receipt', 'card_no', 'store', 'branch', 'match_id', 'trans_id']\n",
      "['datetime', 'register_no', 'emp_no', 'trans_no', 'upc', 'description', 'trans_type', 'trans_subtype', 'trans_status', 'department', 'quantity', 'Scale', 'cost', 'unitPrice', 'total', 'regPrice', 'altPrice', 'tax', 'taxexempt', 'foodstamp', 'wicable', 'discount', 'memDiscount', 'discountable', 'discounttype', 'voided', 'percentDiscount', 'ItemQtty', 'volDiscType', 'volume', 'VolSpecial', 'mixMatch', 'matched', 'memType', 'staff', 'numflag', 'itemstatus', 'tenderstatus', 'charflag', 'varflag', 'batchHeaderID', 'local', 'organic', 'display', 'receipt', 'card_no', 'store', 'branch', 'match_id', 'trans_id']\n",
      "['datetime', 'register_no', 'emp_no', 'trans_no', 'upc', 'description', 'trans_type', 'trans_subtype', 'trans_status', 'department', 'quantity', 'Scale', 'cost', 'unitPrice', 'total', 'regPrice', 'altPrice', 'tax', 'taxexempt', 'foodstamp', 'wicable', 'discount', 'memDiscount', 'discountable', 'discounttype', 'voided', 'percentDiscount', 'ItemQtty', 'volDiscType', 'volume', 'VolSpecial', 'mixMatch', 'matched', 'memType', 'staff', 'numflag', 'itemstatus', 'tenderstatus', 'charflag', 'varflag', 'batchHeaderID', 'local', 'organic', 'display', 'receipt', 'card_no', 'store', 'branch', 'match_id', 'trans_id']\n",
      "['datetime', 'register_no', 'emp_no', 'trans_no', 'upc', 'description', 'trans_type', 'trans_subtype', 'trans_status', 'department', 'quantity', 'Scale', 'cost', 'unitPrice', 'total', 'regPrice', 'altPrice', 'tax', 'taxexempt', 'foodstamp', 'wicable', 'discount', 'memDiscount', 'discountable', 'discounttype', 'voided', 'percentDiscount', 'ItemQtty', 'volDiscType', 'volume', 'VolSpecial', 'mixMatch', 'matched', 'memType', 'staff', 'numflag', 'itemstatus', 'tenderstatus', 'charflag', 'varflag', 'batchHeaderID', 'local', 'organic', 'display', 'receipt', 'card_no', 'store', 'branch', 'match_id', 'trans_id']\n",
      "['datetime', 'register_no', 'emp_no', 'trans_no', 'upc', 'description', 'trans_type', 'trans_subtype', 'trans_status', 'department', 'quantity', 'Scale', 'cost', 'unitPrice', 'total', 'regPrice', 'altPrice', 'tax', 'taxexempt', 'foodstamp', 'wicable', 'discount', 'memDiscount', 'discountable', 'discounttype', 'voided', 'percentDiscount', 'ItemQtty', 'volDiscType', 'volume', 'VolSpecial', 'mixMatch', 'matched', 'memType', 'staff', 'numflag', 'itemstatus', 'tenderstatus', 'charflag', 'varflag', 'batchHeaderID', 'local', 'organic', 'display', 'receipt', 'card_no', 'store', 'branch', 'match_id', 'trans_id']\n",
      "['datetime', 'register_no', 'emp_no', 'trans_no', 'upc', 'description', 'trans_type', 'trans_subtype', 'trans_status', 'department', 'quantity', 'Scale', 'cost', 'unitPrice', 'total', 'regPrice', 'altPrice', 'tax', 'taxexempt', 'foodstamp', 'wicable', 'discount', 'memDiscount', 'discountable', 'discounttype', 'voided', 'percentDiscount', 'ItemQtty', 'volDiscType', 'volume', 'VolSpecial', 'mixMatch', 'matched', 'memType', 'staff', 'numflag', 'itemstatus', 'tenderstatus', 'charflag', 'varflag', 'batchHeaderID', 'local', 'organic', 'display', 'receipt', 'card_no', 'store', 'branch', 'match_id', 'trans_id']\n",
      "['datetime', 'register_no', 'emp_no', 'trans_no', 'upc', 'description', 'trans_type', 'trans_subtype', 'trans_status', 'department', 'quantity', 'Scale', 'cost', 'unitPrice', 'total', 'regPrice', 'altPrice', 'tax', 'taxexempt', 'foodstamp', 'wicable', 'discount', 'memDiscount', 'discountable', 'discounttype', 'voided', 'percentDiscount', 'ItemQtty', 'volDiscType', 'volume', 'VolSpecial', 'mixMatch', 'matched', 'memType', 'staff', 'numflag', 'itemstatus', 'tenderstatus', 'charflag', 'varflag', 'batchHeaderID', 'local', 'organic', 'display', 'receipt', 'card_no', 'store', 'branch', 'match_id', 'trans_id']\n",
      "['datetime', 'register_no', 'emp_no', 'trans_no', 'upc', 'description', 'trans_type', 'trans_subtype', 'trans_status', 'department', 'quantity', 'Scale', 'cost', 'unitPrice', 'total', 'regPrice', 'altPrice', 'tax', 'taxexempt', 'foodstamp', 'wicable', 'discount', 'memDiscount', 'discountable', 'discounttype', 'voided', 'percentDiscount', 'ItemQtty', 'volDiscType', 'volume', 'VolSpecial', 'mixMatch', 'matched', 'memType', 'staff', 'numflag', 'itemstatus', 'tenderstatus', 'charflag', 'varflag', 'batchHeaderID', 'local', 'organic', 'display', 'receipt', 'card_no', 'store', 'branch', 'match_id', 'trans_id']\n",
      "['datetime', 'register_no', 'emp_no', 'trans_no', 'upc', 'description', 'trans_type', 'trans_subtype', 'trans_status', 'department', 'quantity', 'Scale', 'cost', 'unitPrice', 'total', 'regPrice', 'altPrice', 'tax', 'taxexempt', 'foodstamp', 'wicable', 'discount', 'memDiscount', 'discountable', 'discounttype', 'voided', 'percentDiscount', 'ItemQtty', 'volDiscType', 'volume', 'VolSpecial', 'mixMatch', 'matched', 'memType', 'staff', 'numflag', 'itemstatus', 'tenderstatus', 'charflag', 'varflag', 'batchHeaderID', 'local', 'organic', 'display', 'receipt', 'card_no', 'store', 'branch', 'match_id', 'trans_id']\n",
      "['datetime', 'register_no', 'emp_no', 'trans_no', 'upc', 'description', 'trans_type', 'trans_subtype', 'trans_status', 'department', 'quantity', 'Scale', 'cost', 'unitPrice', 'total', 'regPrice', 'altPrice', 'tax', 'taxexempt', 'foodstamp', 'wicable', 'discount', 'memDiscount', 'discountable', 'discounttype', 'voided', 'percentDiscount', 'ItemQtty', 'volDiscType', 'volume', 'VolSpecial', 'mixMatch', 'matched', 'memType', 'staff', 'numflag', 'itemstatus', 'tenderstatus', 'charflag', 'varflag', 'batchHeaderID', 'local', 'organic', 'display', 'receipt', 'card_no', 'store', 'branch', 'match_id', 'trans_id']\n",
      "['datetime', 'register_no', 'emp_no', 'trans_no', 'upc', 'description', 'trans_type', 'trans_subtype', 'trans_status', 'department', 'quantity', 'Scale', 'cost', 'unitPrice', 'total', 'regPrice', 'altPrice', 'tax', 'taxexempt', 'foodstamp', 'wicable', 'discount', 'memDiscount', 'discountable', 'discounttype', 'voided', 'percentDiscount', 'ItemQtty', 'volDiscType', 'volume', 'VolSpecial', 'mixMatch', 'matched', 'memType', 'staff', 'numflag', 'itemstatus', 'tenderstatus', 'charflag', 'varflag', 'batchHeaderID', 'local', 'organic', 'display', 'receipt', 'card_no', 'store', 'branch', 'match_id', 'trans_id']\n",
      "['datetime', 'register_no', 'emp_no', 'trans_no', 'upc', 'description', 'trans_type', 'trans_subtype', 'trans_status', 'department', 'quantity', 'Scale', 'cost', 'unitPrice', 'total', 'regPrice', 'altPrice', 'tax', 'taxexempt', 'foodstamp', 'wicable', 'discount', 'memDiscount', 'discountable', 'discounttype', 'voided', 'percentDiscount', 'ItemQtty', 'volDiscType', 'volume', 'VolSpecial', 'mixMatch', 'matched', 'memType', 'staff', 'numflag', 'itemstatus', 'tenderstatus', 'charflag', 'varflag', 'batchHeaderID', 'local', 'organic', 'display', 'receipt', 'card_no', 'store', 'branch', 'match_id', 'trans_id']\n",
      "['datetime', 'register_no', 'emp_no', 'trans_no', 'upc', 'description', 'trans_type', 'trans_subtype', 'trans_status', 'department', 'quantity', 'Scale', 'cost', 'unitPrice', 'total', 'regPrice', 'altPrice', 'tax', 'taxexempt', 'foodstamp', 'wicable', 'discount', 'memDiscount', 'discountable', 'discounttype', 'voided', 'percentDiscount', 'ItemQtty', 'volDiscType', 'volume', 'VolSpecial', 'mixMatch', 'matched', 'memType', 'staff', 'numflag', 'itemstatus', 'tenderstatus', 'charflag', 'varflag', 'batchHeaderID', 'local', 'organic', 'display', 'receipt', 'card_no', 'store', 'branch', 'match_id', 'trans_id']\n",
      "['datetime', 'register_no', 'emp_no', 'trans_no', 'upc', 'description', 'trans_type', 'trans_subtype', 'trans_status', 'department', 'quantity', 'Scale', 'cost', 'unitPrice', 'total', 'regPrice', 'altPrice', 'tax', 'taxexempt', 'foodstamp', 'wicable', 'discount', 'memDiscount', 'discountable', 'discounttype', 'voided', 'percentDiscount', 'ItemQtty', 'volDiscType', 'volume', 'VolSpecial', 'mixMatch', 'matched', 'memType', 'staff', 'numflag', 'itemstatus', 'tenderstatus', 'charflag', 'varflag', 'batchHeaderID', 'local', 'organic', 'display', 'receipt', 'card_no', 'store', 'branch', 'match_id', 'trans_id']\n",
      "['datetime', 'register_no', 'emp_no', 'trans_no', 'upc', 'description', 'trans_type', 'trans_subtype', 'trans_status', 'department', 'quantity', 'Scale', 'cost', 'unitPrice', 'total', 'regPrice', 'altPrice', 'tax', 'taxexempt', 'foodstamp', 'wicable', 'discount', 'memDiscount', 'discountable', 'discounttype', 'voided', 'percentDiscount', 'ItemQtty', 'volDiscType', 'volume', 'VolSpecial', 'mixMatch', 'matched', 'memType', 'staff', 'numflag', 'itemstatus', 'tenderstatus', 'charflag', 'varflag', 'batchHeaderID', 'local', 'organic', 'display', 'receipt', 'card_no', 'store', 'branch', 'match_id', 'trans_id']\n",
      "['2015-11-01 07:21:50', '51', '94', '4', 'TAX', 'Tax', 'A', '', '', '0', '0', '0', '0.0000', '0.0000', '0.4800', '0.0000', '\\\\N', '0', '0', '0', '\\\\N', '0.0000', '0.0000', '0', '0', '0', '\\\\N', '0', '0', '0', '0.0000', '0', '0', '0', '\\\\N', '0', '0', '0', '', '\\\\N', '\\\\N', '0', '\\\\N', '', '0', '52595', '1', '3', '0', '12']\n",
      "['2015-12-01 07:03:06', '51', '94', '2', 'TAX', 'Tax', 'A', '', '', '0', '0', '0', '0.0000', '0.0000', '0.0000', '0.0000', '', '0', '0', '0', '', '0.0000', '0.0000', '0', '0', '0', '', '0', '0', '0', '0.0000', '0', '0', '0', '', '0', '0', '0', '', '', '', '0', '', '', '0', '3', '1', '3', '0', '7']\n",
      "['2016-01-01 09:12:14', '51', '94', '3', '0000000000039', 'Wedge Scone', 'I', '', '', '8', '3', '0', '0.5160', '2.4900', '7.4700', '2.4900', '\\\\N', '0', '0', '1', '\\\\N', '0.0000', '0.0000', '1', '0', '0', '\\\\N', '3', '0', '0', '0.0000', '0', '0', '0', '\\\\N', '5', '0', '0', '', '\\\\N', '\\\\N', '0', '0', '', '0', '3', '1', '3', '0', '10']\n",
      "['2016-02-01 07:16:56', '51', '94', '3', 'TAX', 'Tax', 'A', '', '', '0', '0', '0', '0.0000', '0.0000', '0.2700', '0.0000', '\\\\N', '0', '0', '0', '\\\\N', '0.0000', '0.0000', '0', '0', '0', '\\\\N', '0', '0', '0', '0.0000', '0', '0', '0', '\\\\N', '0', '0', '0', '', '\\\\N', '\\\\N', '0', '\\\\N', '', '0', '3', '1', '3', '0', '10']\n",
      "['2016-03-01 07:04:38', '51', '94', '2', 'TAX', 'Tax', 'A', '', '', '0', '0', '0', '0.0000', '0.0000', '0.0000', '0.0000', '\\\\N', '0', '0', '0', '\\\\N', '0.0000', '0.0000', '0', '0', '0', '\\\\N', '0', '0', '0', '0.0000', '0', '0', '0', '\\\\N', '0', '0', '0', '', '\\\\N', '\\\\N', '0', '\\\\N', '', '0', '3', '1', '3', '0', '10']\n",
      "['2016-04-01 07:34:35', '51', '94', '18', '0', 'Cash', 'T', 'CA', '', '0', '0', '0', '0.0000', '0.0000', '-5.0000', '0.0000', '\\\\N', '0', '0', '0', '\\\\N', '0.0000', '0.0000', '0', '0', '0', '\\\\N', '0', '0', '0', '0.0000', '0', '0', '0', '\\\\N', '0', '0', '0', '', '\\\\N', '\\\\N', '0', '\\\\N', '', '0', '49019', '1', '3', '0', '9']\n",
      "['2016-05-01 11:23:35', '51', '94', '113', '0000000004365', 'BBOWL SuperSoba Chicken/Seitan', 'I', '', '', '8', '1', '0', '0.0000', '10.0000', '10.0000', '10.0000', '\\\\N', '1', '0', '0', '0', '0.0000', '0.0000', '7', '0', '0', '0.00000000', '1', '0', '0', '0.0000', '0', '0', '0', '\\\\N', '1', '0', '0', '', '\\\\N', '\\\\N', '0', '0', '', '0', '12539', '1', '3', '0', '4']\n",
      "['2016-06-01 08:04:44', '51', '94', '41', '0000000000151', 'Banana Organic', 'I', '', '', '2', '1.45', '1', '0.8900', '1.1900', '1.7300', '1.1900', '\\\\N', '0', '0', '1', '1', '0.0000', '0.0000', '1', '0', '0', '10.00000000', '1.45', '0', '0', '0.0000', '0', '0', '0', '\\\\N', '0', '0', '0', '', '\\\\N', '\\\\N', '0', '1', '', '0', '12367', '1', '3', '0', '2']\n",
      "['2016-07-01 07:06:15', '51', '94', '1', '0065722700050', 'Electrolyte Water 1.5L Essenti', 'I', '', '', '1', '3', '0', '1.5800', '2.6900', '8.0700', '2.6900', '\\\\N', '0', '0', '1', '0', '0.0000', '0.0000', '1', '0', '0', '0.00000000', '3', '0', '0', '0.0000', '0', '0', '0', '\\\\N', '0', '0', '0', '', '\\\\N', '\\\\N', '0', '0', '', '0', '3', '1', '3', '0', '1']\n",
      "['2016-08-01 07:34:16', '51', '94', '7', '0000000000151', 'Banana Organic', 'I', '', '', '2', '0.52', '1', '0.8900', '1.1900', '0.6200', '1.1900', '\\\\N', '0', '0', '1', '1', '0.0000', '0.0000', '1', '0', '0', '0.00000000', '0.52', '0', '0', '0.0000', '0', '0', '0', '\\\\N', '0', '0', '0', '', '\\\\N', '\\\\N', '0', '1', '', '0', '21998', '1', '3', '0', '2']\n",
      "['2016-09-01 07:13:09', '51', '94', '6', '0', 'Change', 'T', 'CA', '', '0', '0', '0', '0.0000', '0.0000', '0.0000', '0.0000', '\\\\N', '0', '0', '0', '0', '0.0000', '0.0000', '0', '0', '8', '\\\\N', '0', '0', '0', '0.0000', '0', '0', '0', '\\\\N', '0', '0', '0', '', '\\\\N', '\\\\N', '0', '\\\\N', '', '0', '20074', '1', '3', '0', '7']\n",
      "['2016-10-01 07:04:40', '51', '94', '1', 'DISCOUNT', 'Discount', 'I', '', '', '0', '1', '0', '0.0000', '0.0000', '0.0000', '0.0000', '\\\\N', '0', '0', '0', '0', '0.0000', '0.0000', '0', '0', '0', '\\\\N', '1', '0', '0', '0.0000', '0', '0', '0', '\\\\N', '0', '0', '0', '', '\\\\N', '\\\\N', '0', '\\\\N', '', '0', '49355', '1', '3', '0', '10']\n",
      "['2016-11-01 07:18:44', '51', '94', '11', '0000000001014', 'Green Patch Redemption', 'I', '', '', '1', '1', '0', '0.0000', '-0.1000', '-0.1000', '-0.1000', '\\\\N', '0', '0', '0', '0', '0.0000', '0.0000', '0', '0', '0', '10.00000000', '1', '0', '0', '0.0000', '0', '0', '0', '\\\\N', '4', '0', '0', '', '\\\\N', '\\\\N', '0', '-1', '', '0', '16646', '1', '3', '0', '13']\n",
      "['2016-12-01 07:43:01', '51', '94', '23', '0000000000049', 'Wedge Muffin', 'I', '', '', '8', '1', '0', '0.6350', '2.4900', '2.4900', '2.4900', '\\\\N', '0', '0', '1', '0', '0.0000', '0.0000', '7', '0', '0', '10.00000000', '1', '0', '0', '0.0000', '0', '0', '0', '\\\\N', '5', '0', '0', '', '\\\\N', '\\\\N', '0', '0', '', '0', '13863', '1', '3', '0', '2']\n",
      "['2017-01-01 09:00:31', '51', '94', '12', '0', 'Change', 'T', 'CA', '', '0', '0', '0', '0.0000', '0.0000', '0.0000', '0.0000', '\\\\N', '0', '0', '0', '0', '0.0000', '0.0000', '0', '0', '8', '\\\\N', '0', '0', '0', '0.0000', '0', '0', '0', '\\\\N', '0', '0', '0', '', '\\\\N', '\\\\N', '0', '\\\\N', '', '0', '24528', '1', '3', '0', '12']\n"
     ]
    }
   ],
   "source": [
    "for this_zf in zip_files :\n",
    "    with ZipFile(data_directory + this_zf,'r') as zf :\n",
    "        zipped_files = zf.namelist()\n",
    "\n",
    "        for file_name in zipped_files :\n",
    "            input_file = zf.open(file_name,'r')\n",
    "            input_file = io.TextIOWrapper(input_file,encoding=\"utf-8\")\n",
    "            \n",
    "            this_delimiter = delimiters[file_name]\n",
    "            \n",
    "            #for line in input_file :\n",
    "                #print(line.strip().split(this_delimiter))\n",
    "                #break\n",
    "\n",
    "\n",
    "            for line in input_file:\n",
    "                #Split the line using the delimiter and remove quotes\n",
    "                cleaned_line = [item.replace('\"', '').strip() for item in line.strip().split(this_delimiter)]\n",
    "                \n",
    "                # Print the cleaned line\n",
    "                print(cleaned_line)\n",
    "                break      \n",
    "            input_file.close() # tidy up"
   ]
  },
  {
   "cell_type": "markdown",
   "metadata": {},
   "source": [
    "### Checking for Headers\n",
    "\n",
    "This sections iterates over each csv file to determine if the file contains a header row. The results are stored in a dictionary titled **Headers** with file_name as the key."
   ]
  },
  {
   "cell_type": "code",
   "execution_count": 5,
   "metadata": {},
   "outputs": [
    {
     "name": "stdout",
     "output_type": "stream",
     "text": [
      "File 'transArchive_201001_201003.csv' has header: True\n",
      "First line: ['\"datetime\"', '\"register_no\"', '\"emp_no\"', '\"trans_no\"', '\"upc\"', '\"description\"', '\"trans_type\"', '\"trans_subtype\"', '\"trans_status\"', '\"department\"', '\"quantity\"', '\"Scale\"', '\"cost\"', '\"unitPrice\"', '\"total\"', '\"regPrice\"', '\"altPrice\"', '\"tax\"', '\"taxexempt\"', '\"foodstamp\"', '\"wicable\"', '\"discount\"', '\"memDiscount\"', '\"discountable\"', '\"discounttype\"', '\"voided\"', '\"percentDiscount\"', '\"ItemQtty\"', '\"volDiscType\"', '\"volume\"', '\"VolSpecial\"', '\"mixMatch\"', '\"matched\"', '\"memType\"', '\"staff\"', '\"numflag\"', '\"itemstatus\"', '\"tenderstatus\"', '\"charflag\"', '\"varflag\"', '\"batchHeaderID\"', '\"local\"', '\"organic\"', '\"display\"', '\"receipt\"', '\"card_no\"', '\"store\"', '\"branch\"', '\"match_id\"', '\"trans_id\"']\n",
      "Second line: ['\"2010-01-01 09:04:09\"', '\"5\"', '\"17\"', '\"2\"', '\"0005385200400\"', '\"Medium Salsa 16oz GMG\"', '\"I\"', '\" \"', '\" \"', '\"1\"', '\"1\"', '\"0\"', '\"2.6480\"', '\"2.9900\"', '\"2.9900\"', '\"3.9900\"', '\"0.0000\"', '\"0\"', '\"0\"', '\"1\"', '\"0\"', '\"1.0000\"', '\"0.0000\"', '\"1\"', '\"1\"', '\"0\"', '\"0.00000000\"', '\"1\"', '\"0\"', '\"0\"', '\"0.0000\"', '\"0\"', '\"0\"', '', '\"0\"', '\"2\"', '\"0\"', '\"0\"', '\"0\"', '\"0\"', 'NULL', '\"0\"', 'NULL', '', '\"0\"', '\"3\"', '\"1\"', '\"0\"', '\"0\"', '\"1\"']\n",
      "File 'transArchive_201004_201006.csv' has header: True\n",
      "First line: ['\"datetime\"', '\"register_no\"', '\"emp_no\"', '\"trans_no\"', '\"upc\"', '\"description\"', '\"trans_type\"', '\"trans_subtype\"', '\"trans_status\"', '\"department\"', '\"quantity\"', '\"Scale\"', '\"cost\"', '\"unitPrice\"', '\"total\"', '\"regPrice\"', '\"altPrice\"', '\"tax\"', '\"taxexempt\"', '\"foodstamp\"', '\"wicable\"', '\"discount\"', '\"memDiscount\"', '\"discountable\"', '\"discounttype\"', '\"voided\"', '\"percentDiscount\"', '\"ItemQtty\"', '\"volDiscType\"', '\"volume\"', '\"VolSpecial\"', '\"mixMatch\"', '\"matched\"', '\"memType\"', '\"staff\"', '\"numflag\"', '\"itemstatus\"', '\"tenderstatus\"', '\"charflag\"', '\"varflag\"', '\"batchHeaderID\"', '\"local\"', '\"organic\"', '\"display\"', '\"receipt\"', '\"card_no\"', '\"store\"', '\"branch\"', '\"match_id\"', '\"trans_id\"']\n",
      "Second line: ['\"2010-04-01 08:56:36\"', '\"7\"', '\"72\"', '\"3\"', '\"0000827488333\"', '\"Crystallized Ginger 16oz Reed\"', '\"I\"', '\" \"', '\" \"', '\"1\"', '\"1\"', '\"0\"', '\"3.4250\"', '\"5.9900\"', '\"5.9900\"', '\"5.9900\"', '\"0.0000\"', '\"1\"', '\"0\"', '\"1\"', '\"0\"', '\"0.0000\"', '\"0.0000\"', '\"1\"', '\"0\"', '\"0\"', '\"0.00000000\"', '\"1\"', '\"0\"', '\"0\"', '\"0.0000\"', '\"0\"', '\"0\"', '', '\"0\"', '\"0\"', '\"0\"', '\"0\"', '', '\"0\"', 'NULL', '\"0\"', 'NULL', '', '\"0\"', '\"3\"', '\"1\"', '\"0\"', '\"0\"', '\"1\"']\n",
      "File 'transArchive_201007_201009.csv' has header: True\n",
      "First line: ['\"datetime\"', '\"register_no\"', '\"emp_no\"', '\"trans_no\"', '\"upc\"', '\"description\"', '\"trans_type\"', '\"trans_subtype\"', '\"trans_status\"', '\"department\"', '\"quantity\"', '\"Scale\"', '\"cost\"', '\"unitPrice\"', '\"total\"', '\"regPrice\"', '\"altPrice\"', '\"tax\"', '\"taxexempt\"', '\"foodstamp\"', '\"wicable\"', '\"discount\"', '\"memDiscount\"', '\"discountable\"', '\"discounttype\"', '\"voided\"', '\"percentDiscount\"', '\"ItemQtty\"', '\"volDiscType\"', '\"volume\"', '\"VolSpecial\"', '\"mixMatch\"', '\"matched\"', '\"memType\"', '\"staff\"', '\"numflag\"', '\"itemstatus\"', '\"tenderstatus\"', '\"charflag\"', '\"varflag\"', '\"batchHeaderID\"', '\"local\"', '\"organic\"', '\"display\"', '\"receipt\"', '\"card_no\"', '\"store\"', '\"branch\"', '\"match_id\"', '\"trans_id\"']\n",
      "Second line: ['\"2010-07-01 08:57:37\"', '\"8\"', '\"3\"', '\"1\"', '\"0000000000049\"', '\"WEDGE MUFFIN\"', '\"I\"', '\" \"', '\" \"', '\"8\"', '\"1\"', '\"0\"', '\"0.4503\"', '\"2.2900\"', '\"2.2900\"', '\"2.2900\"', '\"0.0000\"', '\"0\"', '\"0\"', '\"1\"', '\"0\"', '\"0.0000\"', '\"0.0000\"', '\"1\"', '\"0\"', '\"0\"', '\"0.00000000\"', '\"1\"', '\"0\"', '\"0\"', '\"0.0000\"', '\"0\"', '\"0\"', '', '\"0\"', '\"5\"', '\"0\"', '\"0\"', '', '\"0\"', 'NULL', '\"0\"', 'NULL', '', '\"0\"', '\"12539\"', '\"1\"', '\"0\"', '\"0\"', '\"1\"']\n",
      "File 'transArchive_201010_201012.csv' has header: True\n",
      "First line: ['\"datetime\"', '\"register_no\"', '\"emp_no\"', '\"trans_no\"', '\"upc\"', '\"description\"', '\"trans_type\"', '\"trans_subtype\"', '\"trans_status\"', '\"department\"', '\"quantity\"', '\"Scale\"', '\"cost\"', '\"unitPrice\"', '\"total\"', '\"regPrice\"', '\"altPrice\"', '\"tax\"', '\"taxexempt\"', '\"foodstamp\"', '\"wicable\"', '\"discount\"', '\"memDiscount\"', '\"discountable\"', '\"discounttype\"', '\"voided\"', '\"percentDiscount\"', '\"ItemQtty\"', '\"volDiscType\"', '\"volume\"', '\"VolSpecial\"', '\"mixMatch\"', '\"matched\"', '\"memType\"', '\"staff\"', '\"numflag\"', '\"itemstatus\"', '\"tenderstatus\"', '\"charflag\"', '\"varflag\"', '\"batchHeaderID\"', '\"local\"', '\"organic\"', '\"display\"', '\"receipt\"', '\"card_no\"', '\"store\"', '\"branch\"', '\"match_id\"', '\"trans_id\"']\n",
      "Second line: ['\"2010-10-01 08:50:39\"', '\"9\"', '\"50\"', '\"13\"', '\"0000000008011\"', '\"WEDGE CLASS\"', '\"I\"', '\" \"', '\" \"', '\"15\"', '\"700\"', '\"0\"', '\"0.0000\"', '\"0.0100\"', '\"7.0000\"', '\"0.0100\"', '\"0.0000\"', '\"0\"', '\"0\"', '\"0\"', '\"0\"', '\"0.0000\"', '\"0.0000\"', '\"0\"', '\"0\"', '\"9\"', '\"0.00000000\"', '\"700\"', '\"0\"', '\"0\"', '\"0.0000\"', '\"0\"', '\"0\"', '', '\"0\"', '\"0\"', '\"0\"', '\"0\"', '', '\"0\"', 'NULL', '\"0\"', 'NULL', '', '\"0\"', '\"40117\"', '\"1\"', '\"0\"', '\"0\"', '\"1\"']\n",
      "File 'transArchive_201101_201103.csv' has header: True\n",
      "First line: ['\"datetime\"', '\"register_no\"', '\"emp_no\"', '\"trans_no\"', '\"upc\"', '\"description\"', '\"trans_type\"', '\"trans_subtype\"', '\"trans_status\"', '\"department\"', '\"quantity\"', '\"Scale\"', '\"cost\"', '\"unitPrice\"', '\"total\"', '\"regPrice\"', '\"altPrice\"', '\"tax\"', '\"taxexempt\"', '\"foodstamp\"', '\"wicable\"', '\"discount\"', '\"memDiscount\"', '\"discountable\"', '\"discounttype\"', '\"voided\"', '\"percentDiscount\"', '\"ItemQtty\"', '\"volDiscType\"', '\"volume\"', '\"VolSpecial\"', '\"mixMatch\"', '\"matched\"', '\"memType\"', '\"staff\"', '\"numflag\"', '\"itemstatus\"', '\"tenderstatus\"', '\"charflag\"', '\"varflag\"', '\"batchHeaderID\"', '\"local\"', '\"organic\"', '\"display\"', '\"receipt\"', '\"card_no\"', '\"store\"', '\"branch\"', '\"match_id\"', '\"trans_id\"']\n",
      "Second line: ['\"2011-01-01 09:02:22\"', '\"16\"', '\"54\"', '\"4\"', '\"0000000040400\"', '\"Coffee Hot Organic 12oz\"', '\"I\"', '\" \"', '\" \"', '\"14\"', '\"1\"', '\"0\"', '\"0.3026\"', '\"1.4900\"', '\"1.4900\"', '\"1.4900\"', '\"0.0000\"', '\"1\"', '\"0\"', '\"0\"', '\"0\"', '\"0.0000\"', '\"0.0000\"', '\"1\"', '\"44\"', '\"0\"', '\"0.00000000\"', '\"1\"', '\"0\"', '\"0\"', '\"0.0000\"', '\"0\"', '\"0\"', '', 'NULL', '\"261\"', '\"0\"', '\"0\"', '', '\"0\"', 'NULL', '\"0\"', '\"1\"', '\" \"', '\"0\"', '\"3\"', '\"1\"', '\"0\"', '\"0\"', '\"1\"']\n",
      "File 'transArchive_201104.csv' has header: True\n",
      "First line: ['datetime', 'register_no', 'emp_no', 'trans_no', 'upc', 'description', 'trans_type', 'trans_subtype', 'trans_status', 'department', 'quantity', 'Scale', 'cost', 'unitPrice', 'total', 'regPrice', 'altPrice', 'tax', 'taxexempt', 'foodstamp', 'wicable', 'discount', 'memDiscount', 'discountable', 'discounttype', 'voided', 'percentDiscount', 'ItemQtty', 'volDiscType', 'volume', 'VolSpecial', 'mixMatch', 'matched', 'memType', 'staff', 'numflag', 'itemstatus', 'tenderstatus', 'charflag', 'varflag', 'batchHeaderID', 'local', 'organic', 'display', 'receipt', 'card_no', 'store', 'branch', 'match_id', 'trans_id']\n",
      "Second line: ['\"2011-04-01 08:59:56\"', '5', '46', '1', '0007234001184', '\"Whole Milk SR gallon Sch\"', 'I', '\" \"', '\" \"', '4', '1', '0', '3.5800', '4.3900', '4.3900', '4.3900', '0.0000', '0', '0', '1', '0', '0.0000', '0.0000', '1', '0', '0', '0.00000000', '1', '0', '0', '0.0000', '0', '0', '', 'NULL', '1', '0', '0', '', '0', 'NULL', '0', '0', '\" \"', '0', '3', '1', '0', '0', '1']\n",
      "File 'transArchive_201105.csv' has header: True\n",
      "First line: ['datetime', 'register_no', 'emp_no', 'trans_no', 'upc', 'description', 'trans_type', 'trans_subtype', 'trans_status', 'department', 'quantity', 'Scale', 'cost', 'unitPrice', 'total', 'regPrice', 'altPrice', 'tax', 'taxexempt', 'foodstamp', 'wicable', 'discount', 'memDiscount', 'discountable', 'discounttype', 'voided', 'percentDiscount', 'ItemQtty', 'volDiscType', 'volume', 'VolSpecial', 'mixMatch', 'matched', 'memType', 'staff', 'numflag', 'itemstatus', 'tenderstatus', 'charflag', 'varflag', 'batchHeaderID', 'local', 'organic', 'display', 'receipt', 'card_no', 'store', 'branch', 'match_id', 'trans_id']\n",
      "Second line: ['\"2011-05-01 08:59:40\"', '5', '36', '2', '0071833422113', '\"Tea Tree Mouthwash 16oz DE\"', 'I', '\" \"', '\" \"', '11', '1', '0', '3.8700', '7.6900', '7.6900', '7.6900', '0.0000', '1', '0', '0', '0', '0.0000', '0.0000', '1', '0', '0', '0.00000000', '1', '0', '0', '0.0000', '0', '0', '', 'NULL', '0', '0', '0', '', '0', 'NULL', '0', '0', '\" \"', '0', '3', '1', '0', '0', '1']\n",
      "File 'transArchive_201106.csv' has header: True\n",
      "First line: ['datetime', 'register_no', 'emp_no', 'trans_no', 'upc', 'description', 'trans_type', 'trans_subtype', 'trans_status', 'department', 'quantity', 'Scale', 'cost', 'unitPrice', 'total', 'regPrice', 'altPrice', 'tax', 'taxexempt', 'foodstamp', 'wicable', 'discount', 'memDiscount', 'discountable', 'discounttype', 'voided', 'percentDiscount', 'ItemQtty', 'volDiscType', 'volume', 'VolSpecial', 'mixMatch', 'matched', 'memType', 'staff', 'numflag', 'itemstatus', 'tenderstatus', 'charflag', 'varflag', 'batchHeaderID', 'local', 'organic', 'display', 'receipt', 'card_no', 'store', 'branch', 'match_id', 'trans_id']\n",
      "Second line: ['\"2011-06-01 08:57:00\"', '4', '32', '1', '0020123100000', '\"Tuna & Peas Pasta Salad\"', 'I', '\" \"', '\" \"', '8', '0.490701', '0', '1.2600', '6.9900', '3.4300', '6.9900', '0.0000', '1', '0', '1', '0', '0.0000', '0.0000', '1', '0', '0', '0.00000000', '1', '0', '0', '0.0000', '0', '0', '', 'NULL', '1', '0', '0', '', '0', 'NULL', '0', '0', '\" \"', '0', '3', '1', '0', '0', '1']\n",
      "File 'transArchive_201107_201109.csv' has header: True\n",
      "First line: ['\"datetime\"', '\"register_no\"', '\"emp_no\"', '\"trans_no\"', '\"upc\"', '\"description\"', '\"trans_type\"', '\"trans_subtype\"', '\"trans_status\"', '\"department\"', '\"quantity\"', '\"Scale\"', '\"cost\"', '\"unitPrice\"', '\"total\"', '\"regPrice\"', '\"altPrice\"', '\"tax\"', '\"taxexempt\"', '\"foodstamp\"', '\"wicable\"', '\"discount\"', '\"memDiscount\"', '\"discountable\"', '\"discounttype\"', '\"voided\"', '\"percentDiscount\"', '\"ItemQtty\"', '\"volDiscType\"', '\"volume\"', '\"VolSpecial\"', '\"mixMatch\"', '\"matched\"', '\"memType\"', '\"staff\"', '\"numflag\"', '\"itemstatus\"', '\"tenderstatus\"', '\"charflag\"', '\"varflag\"', '\"batchHeaderID\"', '\"local\"', '\"organic\"', '\"display\"', '\"receipt\"', '\"card_no\"', '\"store\"', '\"branch\"', '\"match_id\"', '\"trans_id\"']\n",
      "Second line: ['\"2011-07-01 09:03:01\"', '\"5\"', '\"71\"', '\"2\"', '\"1.19DP9\"', '\"GEN MERCH\"', '\"D\"', '\" \"', '\" \"', '\"9\"', '\"1\"', '\"0\"', '\"0.0000\"', '\"1.1900\"', '\"1.1900\"', '\"1.1900\"', '\"0.0000\"', '\"1\"', '\"0\"', '\"0\"', '\"0\"', '\"0.0000\"', '\"0.0000\"', '\"3\"', '\"0\"', '\"0\"', '\"0.00000000\"', '\"1\"', '\"0\"', '\"0\"', '\"0.0000\"', '\"0\"', '\"0\"', '', 'NULL', '\"0\"', '\"0\"', '\"0\"', '', '\"0\"', 'NULL', '\"0\"', 'NULL', '\" \"', '\"0\"', '\"3\"', '\"1\"', '\"0\"', '\"0\"', '\"1\"']\n",
      "File 'transArchive_201110_201112.csv' has header: True\n",
      "First line: ['\"datetime\"', '\"register_no\"', '\"emp_no\"', '\"trans_no\"', '\"upc\"', '\"description\"', '\"trans_type\"', '\"trans_subtype\"', '\"trans_status\"', '\"department\"', '\"quantity\"', '\"Scale\"', '\"cost\"', '\"unitPrice\"', '\"total\"', '\"regPrice\"', '\"altPrice\"', '\"tax\"', '\"taxexempt\"', '\"foodstamp\"', '\"wicable\"', '\"discount\"', '\"memDiscount\"', '\"discountable\"', '\"discounttype\"', '\"voided\"', '\"percentDiscount\"', '\"ItemQtty\"', '\"volDiscType\"', '\"volume\"', '\"VolSpecial\"', '\"mixMatch\"', '\"matched\"', '\"memType\"', '\"staff\"', '\"numflag\"', '\"itemstatus\"', '\"tenderstatus\"', '\"charflag\"', '\"varflag\"', '\"batchHeaderID\"', '\"local\"', '\"organic\"', '\"display\"', '\"receipt\"', '\"card_no\"', '\"store\"', '\"branch\"', '\"match_id\"', '\"trans_id\"']\n",
      "Second line: ['\"2011-10-01 08:57:23\"', '\"16\"', '\"54\"', '\"6\"', '\"0000000040423\"', '\"CC Chai 12oz\"', '\"I\"', '\" \"', '\" \"', '\"14\"', '\"1\"', '\"0\"', '\"0.6407\"', '\"2.9900\"', '\"2.9900\"', '\"2.9900\"', '\"0.0000\"', '\"1\"', '\"0\"', '\"0\"', '\"0\"', '\"0.0000\"', '\"0.0000\"', '\"1\"', '\"0\"', '\"0\"', '\"0.00000000\"', '\"1\"', '\"0\"', '\"0\"', '\"0.0000\"', '\"0\"', '\"0\"', '', 'NULL', '\"5\"', '\"0\"', '\"0\"', '', '\"0\"', 'NULL', '\"0\"', '\"0\"', '\" \"', '\"0\"', '\"13381\"', '\"1\"', '\"0\"', '\"0\"', '\"1\"']\n",
      "File 'transArchive_201201_201203.csv' has header: True\n",
      "First line: ['\"datetime\"', '\"register_no\"', '\"emp_no\"', '\"trans_no\"', '\"upc\"', '\"description\"', '\"trans_type\"', '\"trans_subtype\"', '\"trans_status\"', '\"department\"', '\"quantity\"', '\"Scale\"', '\"cost\"', '\"unitPrice\"', '\"total\"', '\"regPrice\"', '\"altPrice\"', '\"tax\"', '\"taxexempt\"', '\"foodstamp\"', '\"wicable\"', '\"discount\"', '\"memDiscount\"', '\"discountable\"', '\"discounttype\"', '\"voided\"', '\"percentDiscount\"', '\"ItemQtty\"', '\"volDiscType\"', '\"volume\"', '\"VolSpecial\"', '\"mixMatch\"', '\"matched\"', '\"memType\"', '\"staff\"', '\"numflag\"', '\"itemstatus\"', '\"tenderstatus\"', '\"charflag\"', '\"varflag\"', '\"batchHeaderID\"', '\"local\"', '\"organic\"', '\"display\"', '\"receipt\"', '\"card_no\"', '\"store\"', '\"branch\"', '\"match_id\"', '\"trans_id\"']\n",
      "Second line: ['\"2012-01-01 08:26:21\"', '\"16\"', '\"54\"', '\"1\"', '\"0000000009506\"', '\"Offsite: Plain Croissant\"', '\"I\"', '\" \"', '\" \"', '\"17\"', '\"5\"', '\"0\"', '\"0.2100\"', '\"1.4900\"', '\"7.4500\"', '\"1.4900\"', '\"0.0000\"', '\"0\"', '\"0\"', '\"1\"', '\"0\"', '\"0.0000\"', '\"0.0000\"', '\"1\"', '\"0\"', '\"0\"', 'NULL', '\"5\"', '\"0\"', '\"0\"', '\"0.0000\"', '\"0\"', '\"0\"', '', 'NULL', '\"1\"', '\"0\"', '\"0\"', '', '\"0\"', 'NULL', '\"0\"', '\"0\"', '\" \"', '\"0\"', '\"50052\"', '\"8\"', '\"0\"', '\"0\"', '\"4\"']\n",
      "File 'transArchive_201201_201203_inactive.csv' has header: True\n",
      "First line: ['\"datetime\"', '\"register_no\"', '\"emp_no\"', '\"trans_no\"', '\"upc\"', '\"description\"', '\"trans_type\"', '\"trans_subtype\"', '\"trans_status\"', '\"department\"', '\"quantity\"', '\"Scale\"', '\"cost\"', '\"unitPrice\"', '\"total\"', '\"regPrice\"', '\"altPrice\"', '\"tax\"', '\"taxexempt\"', '\"foodstamp\"', '\"wicable\"', '\"discount\"', '\"memDiscount\"', '\"discountable\"', '\"discounttype\"', '\"voided\"', '\"percentDiscount\"', '\"ItemQtty\"', '\"volDiscType\"', '\"volume\"', '\"VolSpecial\"', '\"mixMatch\"', '\"matched\"', '\"memType\"', '\"staff\"', '\"numflag\"', '\"itemstatus\"', '\"tenderstatus\"', '\"charflag\"', '\"varflag\"', '\"batchHeaderID\"', '\"local\"', '\"organic\"', '\"display\"', '\"receipt\"', '\"card_no\"', '\"store\"', '\"branch\"', '\"match_id\"', '\"trans_id\"']\n",
      "Second line: ['\"2012-01-01 09:20:27\"', '\"16\"', '\"54\"', '\"12\"', '\"0000000040429\"', '\"MFL Mocha/Flavored Latte 16oz\"', '\"I\"', '\" \"', '\" \"', '\"14\"', '\"1\"', '\"0\"', '\"0.8391\"', '\"3.9900\"', '\"3.9900\"', '\"3.9900\"', '\"0.0000\"', '\"1\"', '\"0\"', '\"0\"', '\"0\"', '\"0.0000\"', '\"0.0000\"', '\"1\"', '\"0\"', '\"0\"', '\"0.00000000\"', '\"1\"', '\"0\"', '\"0\"', '\"0.0000\"', '\"0\"', '\"0\"', '', 'NULL', '\"5\"', '\"0\"', '\"0\"', '', '\"0\"', 'NULL', '\"0\"', '\"0\"', '\" \"', '\"0\"', '\"38519\"', '\"1\"', '\"0\"', '\"0\"', '\"1\"']\n",
      "File 'transArchive_201204_201206.csv' has header: True\n",
      "First line: ['\"datetime\"', '\"register_no\"', '\"emp_no\"', '\"trans_no\"', '\"upc\"', '\"description\"', '\"trans_type\"', '\"trans_subtype\"', '\"trans_status\"', '\"department\"', '\"quantity\"', '\"Scale\"', '\"cost\"', '\"unitPrice\"', '\"total\"', '\"regPrice\"', '\"altPrice\"', '\"tax\"', '\"taxexempt\"', '\"foodstamp\"', '\"wicable\"', '\"discount\"', '\"memDiscount\"', '\"discountable\"', '\"discounttype\"', '\"voided\"', '\"percentDiscount\"', '\"ItemQtty\"', '\"volDiscType\"', '\"volume\"', '\"VolSpecial\"', '\"mixMatch\"', '\"matched\"', '\"memType\"', '\"staff\"', '\"numflag\"', '\"itemstatus\"', '\"tenderstatus\"', '\"charflag\"', '\"varflag\"', '\"batchHeaderID\"', '\"local\"', '\"organic\"', '\"display\"', '\"receipt\"', '\"card_no\"', '\"store\"', '\"branch\"', '\"match_id\"', '\"trans_id\"']\n",
      "Second line: ['\"2012-04-01 08:19:37\"', '\"16\"', '\"54\"', '\"1\"', '\"0000000009506\"', '\"Offsite: Plain Croissant\"', '\"I\"', '\" \"', '\" \"', '\"17\"', '\"7\"', '\"0\"', '\"0.2100\"', '\"1.3900\"', '\"9.7300\"', '\"1.3900\"', '\"0.0000\"', '\"0\"', '\"0\"', '\"1\"', '\"0\"', '\"0.0000\"', '\"0.0000\"', '\"1\"', '\"0\"', '\"0\"', 'NULL', '\"7\"', '\"0\"', '\"0\"', '\"0.0000\"', '\"0\"', '\"0\"', '', 'NULL', '\"1\"', '\"0\"', '\"0\"', '', '\"0\"', 'NULL', '\"0\"', '\"0\"', '\" \"', '\"0\"', '\"50054\"', '\"16\"', '\"0\"', '\"0\"', '\"4\"']\n",
      "File 'transArchive_201204_201206_inactive.csv' has header: True\n",
      "First line: ['\"datetime\"', '\"register_no\"', '\"emp_no\"', '\"trans_no\"', '\"upc\"', '\"description\"', '\"trans_type\"', '\"trans_subtype\"', '\"trans_status\"', '\"department\"', '\"quantity\"', '\"Scale\"', '\"cost\"', '\"unitPrice\"', '\"total\"', '\"regPrice\"', '\"altPrice\"', '\"tax\"', '\"taxexempt\"', '\"foodstamp\"', '\"wicable\"', '\"discount\"', '\"memDiscount\"', '\"discountable\"', '\"discounttype\"', '\"voided\"', '\"percentDiscount\"', '\"ItemQtty\"', '\"volDiscType\"', '\"volume\"', '\"VolSpecial\"', '\"mixMatch\"', '\"matched\"', '\"memType\"', '\"staff\"', '\"numflag\"', '\"itemstatus\"', '\"tenderstatus\"', '\"charflag\"', '\"varflag\"', '\"batchHeaderID\"', '\"local\"', '\"organic\"', '\"display\"', '\"receipt\"', '\"card_no\"', '\"store\"', '\"branch\"', '\"match_id\"', '\"trans_id\"']\n",
      "Second line: ['\"2012-04-01 09:18:09\"', '\"5\"', '\"34\"', '\"8\"', '\"0007234000126\"', '\"1% Milk SR 64oz Sch\"', '\"I\"', '\" \"', '\" \"', '\"4\"', '\"1\"', '\"0\"', '\"1.6800\"', '\"2.0900\"', '\"2.0900\"', '\"2.0900\"', '\"0.0000\"', '\"0\"', '\"0\"', '\"1\"', '\"0\"', '\"0.0000\"', '\"0.0000\"', '\"1\"', '\"0\"', '\"0\"', '\"10.00000000\"', '\"1\"', '\"0\"', '\"0\"', '\"0.0000\"', '\"0\"', '\"0\"', '', 'NULL', '\"1\"', '\"0\"', '\"0\"', '', '\"0\"', 'NULL', '\"0\"', '\"0\"', '\" \"', '\"0\"', '\"44966\"', '\"1\"', '\"0\"', '\"0\"', '\"1\"']\n",
      "File 'transArchive_201207_201209.csv' has header: True\n",
      "First line: ['\"datetime\"', '\"register_no\"', '\"emp_no\"', '\"trans_no\"', '\"upc\"', '\"description\"', '\"trans_type\"', '\"trans_subtype\"', '\"trans_status\"', '\"department\"', '\"quantity\"', '\"Scale\"', '\"cost\"', '\"unitPrice\"', '\"total\"', '\"regPrice\"', '\"altPrice\"', '\"tax\"', '\"taxexempt\"', '\"foodstamp\"', '\"wicable\"', '\"discount\"', '\"memDiscount\"', '\"discountable\"', '\"discounttype\"', '\"voided\"', '\"percentDiscount\"', '\"ItemQtty\"', '\"volDiscType\"', '\"volume\"', '\"VolSpecial\"', '\"mixMatch\"', '\"matched\"', '\"memType\"', '\"staff\"', '\"numflag\"', '\"itemstatus\"', '\"tenderstatus\"', '\"charflag\"', '\"varflag\"', '\"batchHeaderID\"', '\"local\"', '\"organic\"', '\"display\"', '\"receipt\"', '\"card_no\"', '\"store\"', '\"branch\"', '\"match_id\"', '\"trans_id\"']\n",
      "Second line: ['\"2012-07-01 08:20:15\"', '\"16\"', '\"54\"', '\"1\"', '\"0000000009506\"', '\"Offsite: Plain Croissant\"', '\"I\"', '\" \"', '\" \"', '\"17\"', '\"7\"', '\"0\"', '\"0.2100\"', '\"1.3900\"', '\"9.7300\"', '\"1.3900\"', '\"0.0000\"', '\"0\"', '\"0\"', '\"1\"', '\"0\"', '\"0.0000\"', '\"0.0000\"', '\"1\"', '\"0\"', '\"0\"', 'NULL', '\"7\"', '\"0\"', '\"0\"', '\"0.0000\"', '\"0\"', '\"0\"', '', 'NULL', '\"1\"', '\"0\"', '\"0\"', '', '\"0\"', 'NULL', '\"0\"', '\"0\"', '\" \"', '\"0\"', '\"50054\"', '\"16\"', '\"0\"', '\"0\"', '\"4\"']\n",
      "File 'transArchive_201207_201209_inactive.csv' has header: True\n",
      "First line: ['\"datetime\"', '\"register_no\"', '\"emp_no\"', '\"trans_no\"', '\"upc\"', '\"description\"', '\"trans_type\"', '\"trans_subtype\"', '\"trans_status\"', '\"department\"', '\"quantity\"', '\"Scale\"', '\"cost\"', '\"unitPrice\"', '\"total\"', '\"regPrice\"', '\"altPrice\"', '\"tax\"', '\"taxexempt\"', '\"foodstamp\"', '\"wicable\"', '\"discount\"', '\"memDiscount\"', '\"discountable\"', '\"discounttype\"', '\"voided\"', '\"percentDiscount\"', '\"ItemQtty\"', '\"volDiscType\"', '\"volume\"', '\"VolSpecial\"', '\"mixMatch\"', '\"matched\"', '\"memType\"', '\"staff\"', '\"numflag\"', '\"itemstatus\"', '\"tenderstatus\"', '\"charflag\"', '\"varflag\"', '\"batchHeaderID\"', '\"local\"', '\"organic\"', '\"display\"', '\"receipt\"', '\"card_no\"', '\"store\"', '\"branch\"', '\"match_id\"', '\"trans_id\"']\n",
      "Second line: ['\"2012-07-01 09:08:20\"', '\"8\"', '\"98\"', '\"3\"', '\"0000000008034\"', '\"RETURN Crystal Ball Bottle\"', '\"I\"', '\" \"', '\" \"', '\"4\"', '\"1\"', '\"0\"', '\"0.0000\"', '\"-1.5000\"', '\"-1.5000\"', '\"-1.5000\"', '\"0.0000\"', '\"0\"', '\"0\"', '\"0\"', '\"0\"', '\"0.0000\"', '\"0.0000\"', '\"0\"', '\"0\"', '\"0\"', '\"10.00000000\"', '\"1\"', '\"0\"', '\"0\"', '\"0.0000\"', '\"0\"', '\"0\"', '', 'NULL', '\"5\"', '\"0\"', '\"0\"', '', '\"0\"', 'NULL', '\"0\"', '\"0\"', '\" \"', '\"0\"', '\"43130\"', '\"1\"', '\"0\"', '\"0\"', '\"1\"']\n",
      "File 'transArchive_201210_201212.csv' has header: True\n",
      "First line: ['\"datetime\"', '\"register_no\"', '\"emp_no\"', '\"trans_no\"', '\"upc\"', '\"description\"', '\"trans_type\"', '\"trans_subtype\"', '\"trans_status\"', '\"department\"', '\"quantity\"', '\"Scale\"', '\"cost\"', '\"unitPrice\"', '\"total\"', '\"regPrice\"', '\"altPrice\"', '\"tax\"', '\"taxexempt\"', '\"foodstamp\"', '\"wicable\"', '\"discount\"', '\"memDiscount\"', '\"discountable\"', '\"discounttype\"', '\"voided\"', '\"percentDiscount\"', '\"ItemQtty\"', '\"volDiscType\"', '\"volume\"', '\"VolSpecial\"', '\"mixMatch\"', '\"matched\"', '\"memType\"', '\"staff\"', '\"numflag\"', '\"itemstatus\"', '\"tenderstatus\"', '\"charflag\"', '\"varflag\"', '\"batchHeaderID\"', '\"local\"', '\"organic\"', '\"display\"', '\"receipt\"', '\"card_no\"', '\"store\"', '\"branch\"', '\"match_id\"', '\"trans_id\"']\n",
      "Second line: ['\"2012-10-01 06:55:36\"', '\"16\"', '\"54\"', '\"1\"', '\"0000000009506\"', '\"Offsite: Plain Croissant\"', '\"I\"', '\" \"', '\" \"', '\"17\"', '\"6\"', '\"0\"', '\"0.2100\"', '\"1.3900\"', '\"8.3400\"', '\"1.3900\"', '\"0.0000\"', '\"0\"', '\"0\"', '\"1\"', '\"0\"', '\"0.0000\"', '\"0.0000\"', '\"1\"', '\"0\"', '\"0\"', 'NULL', '\"6\"', '\"0\"', '\"0\"', '\"0.0000\"', '\"0\"', '\"0\"', '', 'NULL', '\"1\"', '\"0\"', '\"0\"', '', '\"0\"', 'NULL', '\"0\"', '\"0\"', '\" \"', '\"0\"', '\"50054\"', '\"16\"', '\"0\"', '\"0\"', '\"4\"']\n",
      "File 'transArchive_201210_201212_inactive.csv' has header: True\n",
      "First line: ['\"datetime\"', '\"register_no\"', '\"emp_no\"', '\"trans_no\"', '\"upc\"', '\"description\"', '\"trans_type\"', '\"trans_subtype\"', '\"trans_status\"', '\"department\"', '\"quantity\"', '\"Scale\"', '\"cost\"', '\"unitPrice\"', '\"total\"', '\"regPrice\"', '\"altPrice\"', '\"tax\"', '\"taxexempt\"', '\"foodstamp\"', '\"wicable\"', '\"discount\"', '\"memDiscount\"', '\"discountable\"', '\"discounttype\"', '\"voided\"', '\"percentDiscount\"', '\"ItemQtty\"', '\"volDiscType\"', '\"volume\"', '\"VolSpecial\"', '\"mixMatch\"', '\"matched\"', '\"memType\"', '\"staff\"', '\"numflag\"', '\"itemstatus\"', '\"tenderstatus\"', '\"charflag\"', '\"varflag\"', '\"batchHeaderID\"', '\"local\"', '\"organic\"', '\"display\"', '\"receipt\"', '\"card_no\"', '\"store\"', '\"branch\"', '\"match_id\"', '\"trans_id\"']\n",
      "Second line: ['\"2012-10-01 09:01:40\"', '\"16\"', '\"54\"', '\"22\"', '\"0000000040400\"', '\"Coffee Hot Organic 12oz\"', '\"I\"', '\" \"', '\" \"', '\"14\"', '\"1\"', '\"0\"', '\"0.3760\"', '\"1.4900\"', '\"1.4900\"', '\"1.4900\"', '\"0.0000\"', '\"1\"', '\"0\"', '\"0\"', '\"0\"', '\"0.0000\"', '\"0.0000\"', '\"1\"', '\"44\"', '\"0\"', '\"0.00000000\"', '\"1\"', '\"0\"', '\"0\"', '\"0.0000\"', '\"0\"', '\"0\"', '', 'NULL', '\"261\"', '\"0\"', '\"0\"', '', '\"0\"', 'NULL', '\"0\"', '\"1\"', '\" \"', '\"0\"', '\"44228\"', '\"1\"', '\"0\"', '\"0\"', '\"1\"']\n",
      "File 'transArchive_201301_201303.csv' has header: True\n",
      "First line: ['\"datetime\"', '\"register_no\"', '\"emp_no\"', '\"trans_no\"', '\"upc\"', '\"description\"', '\"trans_type\"', '\"trans_subtype\"', '\"trans_status\"', '\"department\"', '\"quantity\"', '\"Scale\"', '\"cost\"', '\"unitPrice\"', '\"total\"', '\"regPrice\"', '\"altPrice\"', '\"tax\"', '\"taxexempt\"', '\"foodstamp\"', '\"wicable\"', '\"discount\"', '\"memDiscount\"', '\"discountable\"', '\"discounttype\"', '\"voided\"', '\"percentDiscount\"', '\"ItemQtty\"', '\"volDiscType\"', '\"volume\"', '\"VolSpecial\"', '\"mixMatch\"', '\"matched\"', '\"memType\"', '\"staff\"', '\"numflag\"', '\"itemstatus\"', '\"tenderstatus\"', '\"charflag\"', '\"varflag\"', '\"batchHeaderID\"', '\"local\"', '\"organic\"', '\"display\"', '\"receipt\"', '\"card_no\"', '\"store\"', '\"branch\"', '\"match_id\"', '\"trans_id\"']\n",
      "Second line: ['\"2013-01-01 07:17:09\"', '\"16\"', '\"54\"', '\"1\"', '\"0000000009506\"', '\"Offsite: Plain Croissant\"', '\"I\"', '\" \"', '\" \"', '\"17\"', '\"12\"', '\"0\"', '\"0.2100\"', '\"1.3900\"', '\"16.6800\"', '\"1.3900\"', '\"0.0000\"', '\"0\"', '\"0\"', '\"1\"', '\"0\"', '\"0.0000\"', '\"0.0000\"', '\"1\"', '\"0\"', '\"0\"', 'NULL', '\"12\"', '\"0\"', '\"0\"', '\"0.0000\"', '\"0\"', '\"0\"', '', 'NULL', '\"1\"', '\"0\"', '\"0\"', '', '\"0\"', 'NULL', '\"0\"', '\"0\"', '\" \"', '\"0\"', '\"50056\"', '\"32\"', '\"0\"', '\"0\"', '\"4\"']\n",
      "File 'transArchive_201301_201303_inactive.csv' has header: True\n",
      "First line: ['\"datetime\"', '\"register_no\"', '\"emp_no\"', '\"trans_no\"', '\"upc\"', '\"description\"', '\"trans_type\"', '\"trans_subtype\"', '\"trans_status\"', '\"department\"', '\"quantity\"', '\"Scale\"', '\"cost\"', '\"unitPrice\"', '\"total\"', '\"regPrice\"', '\"altPrice\"', '\"tax\"', '\"taxexempt\"', '\"foodstamp\"', '\"wicable\"', '\"discount\"', '\"memDiscount\"', '\"discountable\"', '\"discounttype\"', '\"voided\"', '\"percentDiscount\"', '\"ItemQtty\"', '\"volDiscType\"', '\"volume\"', '\"VolSpecial\"', '\"mixMatch\"', '\"matched\"', '\"memType\"', '\"staff\"', '\"numflag\"', '\"itemstatus\"', '\"tenderstatus\"', '\"charflag\"', '\"varflag\"', '\"batchHeaderID\"', '\"local\"', '\"organic\"', '\"display\"', '\"receipt\"', '\"card_no\"', '\"store\"', '\"branch\"', '\"match_id\"', '\"trans_id\"']\n",
      "Second line: ['\"2013-01-01 09:50:42\"', '\"5\"', '\"72\"', '\"17\"', '\"0000000017503\"', '\"COFFEE French Roast/EE\"', '\"I\"', '\" \"', '\" \"', '\"3\"', '\"1.12\"', '\"1\"', '\"7.8300\"', '\"8.9900\"', '\"10.0700\"', '\"11.7900\"', '\"0.0000\"', '\"0\"', '\"0\"', '\"1\"', '\"0\"', '\"3.1400\"', '\"0.0000\"', '\"1\"', '\"1\"', '\"0\"', '\"10.00000000\"', '\"1.12\"', '\"0\"', '\"0\"', '\"0.0000\"', '\"0\"', '\"0\"', '', 'NULL', '\"256\"', '\"0\"', '\"0\"', '', '\"0\"', 'NULL', '\"0\"', '\"1\"', '\" \"', '\"0\"', '\"40665\"', '\"1\"', '\"0\"', '\"0\"', '\"3\"']\n",
      "File 'transArchive_201304_201306.csv' has header: True\n",
      "First line: ['\"datetime\"', '\"register_no\"', '\"emp_no\"', '\"trans_no\"', '\"upc\"', '\"description\"', '\"trans_type\"', '\"trans_subtype\"', '\"trans_status\"', '\"department\"', '\"quantity\"', '\"Scale\"', '\"cost\"', '\"unitPrice\"', '\"total\"', '\"regPrice\"', '\"altPrice\"', '\"tax\"', '\"taxexempt\"', '\"foodstamp\"', '\"wicable\"', '\"discount\"', '\"memDiscount\"', '\"discountable\"', '\"discounttype\"', '\"voided\"', '\"percentDiscount\"', '\"ItemQtty\"', '\"volDiscType\"', '\"volume\"', '\"VolSpecial\"', '\"mixMatch\"', '\"matched\"', '\"memType\"', '\"staff\"', '\"numflag\"', '\"itemstatus\"', '\"tenderstatus\"', '\"charflag\"', '\"varflag\"', '\"batchHeaderID\"', '\"local\"', '\"organic\"', '\"display\"', '\"receipt\"', '\"card_no\"', '\"store\"', '\"branch\"', '\"match_id\"', '\"trans_id\"']\n",
      "Second line: ['\"2013-04-01 07:11:41\"', '\"16\"', '\"54\"', '\"1\"', '\"0000000009506\"', '\"Offsite: Plain Croissant\"', '\"I\"', '\" \"', '\" \"', '\"17\"', '\"5\"', '\"0\"', '\"0.2100\"', '\"1.3900\"', '\"6.9500\"', '\"1.3900\"', '\"0.0000\"', '\"0\"', '\"0\"', '\"1\"', '\"0\"', '\"0.0000\"', '\"0.0000\"', '\"1\"', '\"0\"', '\"0\"', '\"0.00000000\"', '\"5\"', '\"0\"', '\"0\"', '\"0.0000\"', '\"0\"', '\"0\"', '', 'NULL', '\"1\"', '\"0\"', '\"0\"', '', '\"0\"', 'NULL', '\"0\"', '\"0\"', '\" \"', '\"0\"', '\"50052\"', '\"8\"', '\"0\"', '\"0\"', '\"1\"']\n",
      "File 'transArchive_201304_201306_inactive.csv' has header: True\n",
      "First line: ['\"datetime\"', '\"register_no\"', '\"emp_no\"', '\"trans_no\"', '\"upc\"', '\"description\"', '\"trans_type\"', '\"trans_subtype\"', '\"trans_status\"', '\"department\"', '\"quantity\"', '\"Scale\"', '\"cost\"', '\"unitPrice\"', '\"total\"', '\"regPrice\"', '\"altPrice\"', '\"tax\"', '\"taxexempt\"', '\"foodstamp\"', '\"wicable\"', '\"discount\"', '\"memDiscount\"', '\"discountable\"', '\"discounttype\"', '\"voided\"', '\"percentDiscount\"', '\"ItemQtty\"', '\"volDiscType\"', '\"volume\"', '\"VolSpecial\"', '\"mixMatch\"', '\"matched\"', '\"memType\"', '\"staff\"', '\"numflag\"', '\"itemstatus\"', '\"tenderstatus\"', '\"charflag\"', '\"varflag\"', '\"batchHeaderID\"', '\"local\"', '\"organic\"', '\"display\"', '\"receipt\"', '\"card_no\"', '\"store\"', '\"branch\"', '\"match_id\"', '\"trans_id\"']\n",
      "Second line: ['\"2013-04-01 09:28:38\"', '\"2\"', '\"44\"', '\"2\"', '\"0076333201701\"', '\"Sport-Top Steel Bottle 12oz KK\"', '\"I\"', '\" \"', '\" \"', '\"9\"', '\"1\"', '\"0\"', '\"8.5000\"', '\"15.4900\"', '\"15.4900\"', '\"15.4900\"', '\"0.0000\"', '\"1\"', '\"0\"', '\"0\"', '\"0\"', '\"0.0000\"', '\"0.0000\"', '\"1\"', '\"0\"', '\"0\"', '\"10.00000000\"', '\"1\"', '\"0\"', '\"0\"', '\"0.0000\"', '\"0\"', '\"0\"', '', 'NULL', '\"0\"', '\"0\"', '\"0\"', '', '\"0\"', 'NULL', '\"0\"', '\"0\"', '\" \"', '\"0\"', '\"47885\"', '\"1\"', '\"0\"', '\"0\"', '\"1\"']\n",
      "File 'transArchive_201307_201309.csv' has header: True\n",
      "First line: ['\"datetime\"', '\"register_no\"', '\"emp_no\"', '\"trans_no\"', '\"upc\"', '\"description\"', '\"trans_type\"', '\"trans_subtype\"', '\"trans_status\"', '\"department\"', '\"quantity\"', '\"Scale\"', '\"cost\"', '\"unitPrice\"', '\"total\"', '\"regPrice\"', '\"altPrice\"', '\"tax\"', '\"taxexempt\"', '\"foodstamp\"', '\"wicable\"', '\"discount\"', '\"memDiscount\"', '\"discountable\"', '\"discounttype\"', '\"voided\"', '\"percentDiscount\"', '\"ItemQtty\"', '\"volDiscType\"', '\"volume\"', '\"VolSpecial\"', '\"mixMatch\"', '\"matched\"', '\"memType\"', '\"staff\"', '\"numflag\"', '\"itemstatus\"', '\"tenderstatus\"', '\"charflag\"', '\"varflag\"', '\"batchHeaderID\"', '\"local\"', '\"organic\"', '\"display\"', '\"receipt\"', '\"card_no\"', '\"store\"', '\"branch\"', '\"match_id\"', '\"trans_id\"']\n",
      "Second line: ['\"2013-07-01 07:18:31\"', '\"16\"', '\"54\"', '\"1\"', '\"0000000009506\"', '\"Offsite: Plain Croissant\"', '\"I\"', '\" \"', '\" \"', '\"17\"', '\"10\"', '\"0\"', '\"0.2100\"', '\"1.3900\"', '\"13.9000\"', '\"1.3900\"', '\"0.0000\"', '\"0\"', '\"0\"', '\"1\"', '\"0\"', '\"0.0000\"', '\"0.0000\"', '\"1\"', '\"0\"', '\"0\"', 'NULL', '\"10\"', '\"0\"', '\"0\"', '\"0.0000\"', '\"0\"', '\"0\"', '', 'NULL', '\"1\"', '\"0\"', '\"0\"', '', '\"0\"', 'NULL', '\"0\"', '\"0\"', '\" \"', '\"0\"', '\"50056\"', '\"32\"', '\"0\"', '\"0\"', '\"4\"']\n",
      "File 'transArchive_201307_201309_inactive.csv' has header: True\n",
      "First line: ['\"datetime\"', '\"register_no\"', '\"emp_no\"', '\"trans_no\"', '\"upc\"', '\"description\"', '\"trans_type\"', '\"trans_subtype\"', '\"trans_status\"', '\"department\"', '\"quantity\"', '\"Scale\"', '\"cost\"', '\"unitPrice\"', '\"total\"', '\"regPrice\"', '\"altPrice\"', '\"tax\"', '\"taxexempt\"', '\"foodstamp\"', '\"wicable\"', '\"discount\"', '\"memDiscount\"', '\"discountable\"', '\"discounttype\"', '\"voided\"', '\"percentDiscount\"', '\"ItemQtty\"', '\"volDiscType\"', '\"volume\"', '\"VolSpecial\"', '\"mixMatch\"', '\"matched\"', '\"memType\"', '\"staff\"', '\"numflag\"', '\"itemstatus\"', '\"tenderstatus\"', '\"charflag\"', '\"varflag\"', '\"batchHeaderID\"', '\"local\"', '\"organic\"', '\"display\"', '\"receipt\"', '\"card_no\"', '\"store\"', '\"branch\"', '\"match_id\"', '\"trans_id\"']\n",
      "Second line: ['\"2013-07-01 09:14:24\"', '\"5\"', '\"64\"', '\"8\"', '\"0004157010910\"', '\"Art.Multiseed Nut Thins 4.25oz\"', '\"I\"', '\" \"', '\" \"', '\"1\"', '\"1\"', '\"0\"', '\"1.9780\"', '\"3.2900\"', '\"3.2900\"', '\"3.2900\"', '\"0.0000\"', '\"0\"', '\"0\"', '\"1\"', '\"0\"', '\"0.0000\"', '\"1.3000\"', '\"1\"', '\"2\"', '\"0\"', '\"10.00000000\"', '\"1\"', '\"0\"', '\"0\"', '\"0.0000\"', '\"0\"', '\"0\"', '', 'NULL', '\"0\"', '\"0\"', '\"0\"', '', '\"0\"', 'NULL', '\"0\"', '\"0\"', '\" \"', '\"0\"', '\"44436\"', '\"1\"', '\"0\"', '\"0\"', '\"1\"']\n",
      "File 'transArchive_201310_201312.csv' has header: True\n",
      "First line: ['\"datetime\"', '\"register_no\"', '\"emp_no\"', '\"trans_no\"', '\"upc\"', '\"description\"', '\"trans_type\"', '\"trans_subtype\"', '\"trans_status\"', '\"department\"', '\"quantity\"', '\"Scale\"', '\"cost\"', '\"unitPrice\"', '\"total\"', '\"regPrice\"', '\"altPrice\"', '\"tax\"', '\"taxexempt\"', '\"foodstamp\"', '\"wicable\"', '\"discount\"', '\"memDiscount\"', '\"discountable\"', '\"discounttype\"', '\"voided\"', '\"percentDiscount\"', '\"ItemQtty\"', '\"volDiscType\"', '\"volume\"', '\"VolSpecial\"', '\"mixMatch\"', '\"matched\"', '\"memType\"', '\"staff\"', '\"numflag\"', '\"itemstatus\"', '\"tenderstatus\"', '\"charflag\"', '\"varflag\"', '\"batchHeaderID\"', '\"local\"', '\"organic\"', '\"display\"', '\"receipt\"', '\"card_no\"', '\"store\"', '\"branch\"', '\"match_id\"', '\"trans_id\"']\n",
      "Second line: ['\"2013-10-01 07:11:53\"', '\"700\"', '\"700\"', '\"829\"', '\"0000000009118\"', '\"KB:Tofu Creole/Br.Rice/Adult\"', '\"I\"', '\" \"', '\" \"', '\"8\"', '\"1\"', '\"0\"', '\"0.0000\"', '\"10.0000\"', '\"10.0000\"', '\"10.0000\"', '\"0.0000\"', '\"1\"', '\"0\"', '\"0\"', '\"0\"', '\"0.0000\"', '\"0.0000\"', '\"0\"', '\"0\"', '\"0\"', '\"0.00000000\"', '\"1\"', '\"0\"', '\"1\"', '\"0.0000\"', '\"0\"', '\"0\"', '\" \"', '\"0\"', '\"1\"', '\"0\"', '\"0\"', '', '\"0\"', 'NULL', '\"1\"', '\"0\"', '\" \"', '\"0\"', '\"3\"', '\"512\"', '\"0\"', '\"0\"', '\"1\"']\n",
      "File 'transArchive_201310_201312_inactive.csv' has header: True\n",
      "First line: ['\"datetime\"', '\"register_no\"', '\"emp_no\"', '\"trans_no\"', '\"upc\"', '\"description\"', '\"trans_type\"', '\"trans_subtype\"', '\"trans_status\"', '\"department\"', '\"quantity\"', '\"Scale\"', '\"cost\"', '\"unitPrice\"', '\"total\"', '\"regPrice\"', '\"altPrice\"', '\"tax\"', '\"taxexempt\"', '\"foodstamp\"', '\"wicable\"', '\"discount\"', '\"memDiscount\"', '\"discountable\"', '\"discounttype\"', '\"voided\"', '\"percentDiscount\"', '\"ItemQtty\"', '\"volDiscType\"', '\"volume\"', '\"VolSpecial\"', '\"mixMatch\"', '\"matched\"', '\"memType\"', '\"staff\"', '\"numflag\"', '\"itemstatus\"', '\"tenderstatus\"', '\"charflag\"', '\"varflag\"', '\"batchHeaderID\"', '\"local\"', '\"organic\"', '\"display\"', '\"receipt\"', '\"card_no\"', '\"store\"', '\"branch\"', '\"match_id\"', '\"trans_id\"']\n",
      "Second line: ['\"2013-10-01 09:43:40\"', '\"8\"', '\"37\"', '\"20\"', '\"0000000001032\"', '\"Water Less Than Gallon (Bulk)\"', '\"I\"', '\" \"', '\" \"', '\"1\"', '\"1\"', '\"0\"', '\"0.0000\"', '\"0.2000\"', '\"0.2000\"', '\"0.2000\"', '\"0.0000\"', '\"0\"', '\"0\"', '\"1\"', '\"0\"', '\"0.0000\"', '\"0.0000\"', '\"1\"', '\"0\"', '\"0\"', '\"0.00000000\"', '\"1\"', '\"0\"', '\"0\"', '\"0.0000\"', '\"0\"', '\"0\"', '', 'NULL', '\"5\"', '\"0\"', '\"0\"', '', '\"0\"', 'NULL', '\"0\"', '\"0\"', '\" \"', '\"0\"', '\"47959\"', '\"1\"', '\"0\"', '\"0\"', '\"1\"']\n",
      "File 'transArchive_201401_201403.csv' has header: True\n",
      "First line: ['\"datetime\"', '\"register_no\"', '\"emp_no\"', '\"trans_no\"', '\"upc\"', '\"description\"', '\"trans_type\"', '\"trans_subtype\"', '\"trans_status\"', '\"department\"', '\"quantity\"', '\"Scale\"', '\"cost\"', '\"unitPrice\"', '\"total\"', '\"regPrice\"', '\"altPrice\"', '\"tax\"', '\"taxexempt\"', '\"foodstamp\"', '\"wicable\"', '\"discount\"', '\"memDiscount\"', '\"discountable\"', '\"discounttype\"', '\"voided\"', '\"percentDiscount\"', '\"ItemQtty\"', '\"volDiscType\"', '\"volume\"', '\"VolSpecial\"', '\"mixMatch\"', '\"matched\"', '\"memType\"', '\"staff\"', '\"numflag\"', '\"itemstatus\"', '\"tenderstatus\"', '\"charflag\"', '\"varflag\"', '\"batchHeaderID\"', '\"local\"', '\"organic\"', '\"display\"', '\"receipt\"', '\"card_no\"', '\"store\"', '\"branch\"', '\"match_id\"', '\"trans_id\"']\n",
      "Second line: ['\"2014-03-01 00:00:00\"', '\"700\"', '\"700\"', '\"1448\"', '\"0000000009028\"', '\"W:Macaroni & Cheese/Hot Dogs\"', '\"I\"', '', '', '\"8\"', '\"1\"', '\"0\"', '\"0.0000\"', '\"5.0000\"', '\"5.0000\"', '\"5.0000\"', '\"0.0000\"', '\"1\"', '\"0\"', '\"0\"', '\"0\"', '\"0.0000\"', '\"0.0000\"', '\"0\"', '\"0\"', '\"0\"', '\"0.00000000\"', '\"1\"', '\"0\"', '\"1\"', '\"0.0000\"', '\"0\"', '\"0\"', '', '\"0\"', '\"1\"', '\"0\"', '\"0\"', '', '\"0\"', 'NULL', '\"1\"', '\"0\"', '', '\"0\"', '\"3\"', '\"512\"', '\"0\"', '\"0\"', '\"3\"']\n",
      "File 'transArchive_201401_201403_inactive.csv' has header: True\n",
      "First line: ['\"datetime\"', '\"register_no\"', '\"emp_no\"', '\"trans_no\"', '\"upc\"', '\"description\"', '\"trans_type\"', '\"trans_subtype\"', '\"trans_status\"', '\"department\"', '\"quantity\"', '\"Scale\"', '\"cost\"', '\"unitPrice\"', '\"total\"', '\"regPrice\"', '\"altPrice\"', '\"tax\"', '\"taxexempt\"', '\"foodstamp\"', '\"wicable\"', '\"discount\"', '\"memDiscount\"', '\"discountable\"', '\"discounttype\"', '\"voided\"', '\"percentDiscount\"', '\"ItemQtty\"', '\"volDiscType\"', '\"volume\"', '\"VolSpecial\"', '\"mixMatch\"', '\"matched\"', '\"memType\"', '\"staff\"', '\"numflag\"', '\"itemstatus\"', '\"tenderstatus\"', '\"charflag\"', '\"varflag\"', '\"batchHeaderID\"', '\"local\"', '\"organic\"', '\"display\"', '\"receipt\"', '\"card_no\"', '\"store\"', '\"branch\"', '\"match_id\"', '\"trans_id\"']\n",
      "Second line: ['\"2014-01-01 09:27:15\"', '\"16\"', '\"54\"', '\"24\"', '\"0000000040432\"', '\"Latte/Cappuccino 16oz\"', '\"I\"', '\" \"', '\" \"', '\"14\"', '\"1\"', '\"0\"', '\"0.5810\"', '\"3.4900\"', '\"3.4900\"', '\"3.4900\"', '\"0.0000\"', '\"1\"', '\"0\"', '\"0\"', '\"0\"', '\"0.0000\"', '\"0.0000\"', '\"1\"', '\"0\"', '\"0\"', '\"0.00000000\"', '\"1\"', '\"0\"', '\"0\"', '\"0.0000\"', '\"0\"', '\"0\"', '', 'NULL', '\"5\"', '\"0\"', '\"0\"', '', '\"0\"', 'NULL', '\"0\"', '\"0\"', '\" \"', '\"0\"', '\"47893\"', '\"1\"', '\"0\"', '\"0\"', '\"1\"']\n",
      "File 'transArchive_201404_201406.csv' has header: True\n",
      "First line: ['\"datetime\"', '\"register_no\"', '\"emp_no\"', '\"trans_no\"', '\"upc\"', '\"description\"', '\"trans_type\"', '\"trans_subtype\"', '\"trans_status\"', '\"department\"', '\"quantity\"', '\"Scale\"', '\"cost\"', '\"unitPrice\"', '\"total\"', '\"regPrice\"', '\"altPrice\"', '\"tax\"', '\"taxexempt\"', '\"foodstamp\"', '\"wicable\"', '\"discount\"', '\"memDiscount\"', '\"discountable\"', '\"discounttype\"', '\"voided\"', '\"percentDiscount\"', '\"ItemQtty\"', '\"volDiscType\"', '\"volume\"', '\"VolSpecial\"', '\"mixMatch\"', '\"matched\"', '\"memType\"', '\"staff\"', '\"numflag\"', '\"itemstatus\"', '\"tenderstatus\"', '\"charflag\"', '\"varflag\"', '\"batchHeaderID\"', '\"local\"', '\"organic\"', '\"display\"', '\"receipt\"', '\"card_no\"', '\"store\"', '\"branch\"', '\"match_id\"', '\"trans_id\"']\n",
      "Second line: ['\"2014-04-15 12:00:12\"', '\"5\"', '\"71\"', '\"89\"', '\"0000000000655\"', '\"Onions White\"', '\"I\"', '\" \"', '\" \"', '\"2\"', '\"0.58\"', '\"1\"', '\"0.0000\"', '\"1.2900\"', '\"0.7500\"', '\"1.2900\"', '\"0.0000\"', '\"0\"', '\"0\"', '\"1\"', '\"0\"', '\"0.0000\"', '\"0.0000\"', '\"1\"', '\"0\"', '\"0\"', '\"0.00000000\"', '\"0.58\"', '\"0\"', '\"0\"', '\"0.0000\"', '\"0\"', '\"0\"', 'NULL', 'NULL', '\"0\"', '\"0\"', '\"0\"', '', '\"0\"', 'NULL', '\"0\"', '\"0\"', '', '\"0\"', '\"15484\"', '\"1\"', '\"0\"', '\"0\"', '\"20\"']\n",
      "File 'transArchive_201404_201406_inactive.csv' has header: True\n",
      "First line: ['\"datetime\"', '\"register_no\"', '\"emp_no\"', '\"trans_no\"', '\"upc\"', '\"description\"', '\"trans_type\"', '\"trans_subtype\"', '\"trans_status\"', '\"department\"', '\"quantity\"', '\"Scale\"', '\"cost\"', '\"unitPrice\"', '\"total\"', '\"regPrice\"', '\"altPrice\"', '\"tax\"', '\"taxexempt\"', '\"foodstamp\"', '\"wicable\"', '\"discount\"', '\"memDiscount\"', '\"discountable\"', '\"discounttype\"', '\"voided\"', '\"percentDiscount\"', '\"ItemQtty\"', '\"volDiscType\"', '\"volume\"', '\"VolSpecial\"', '\"mixMatch\"', '\"matched\"', '\"memType\"', '\"staff\"', '\"numflag\"', '\"itemstatus\"', '\"tenderstatus\"', '\"charflag\"', '\"varflag\"', '\"batchHeaderID\"', '\"local\"', '\"organic\"', '\"display\"', '\"receipt\"', '\"card_no\"', '\"store\"', '\"branch\"', '\"match_id\"', '\"trans_id\"']\n",
      "Second line: ['\"2014-04-01 09:24:33\"', '\"7\"', '\"71\"', '\"31\"', '\"0000000000049\"', '\"Wedge Muffin\"', '\"I\"', '\" \"', '\" \"', '\"8\"', '\"2\"', '\"0\"', '\"0.5294\"', '\"2.3900\"', '\"4.7800\"', '\"2.3900\"', '\"0.0000\"', '\"0\"', '\"0\"', '\"1\"', '\"0\"', '\"0.0000\"', '\"0.0000\"', '\"1\"', '\"0\"', '\"0\"', '\"0.00000000\"', '\"2\"', '\"0\"', '\"0\"', '\"0.0000\"', '\"0\"', '\"0\"', 'NULL', 'NULL', '\"5\"', '\"0\"', '\"0\"', '', '\"0\"', 'NULL', '\"0\"', '\"0\"', '', '\"0\"', '\"48318\"', '\"1\"', '\"0\"', '\"0\"', '\"1\"']\n",
      "File 'transArchive_201407_201409.csv' has header: True\n",
      "First line: ['\"datetime\"', '\"register_no\"', '\"emp_no\"', '\"trans_no\"', '\"upc\"', '\"description\"', '\"trans_type\"', '\"trans_subtype\"', '\"trans_status\"', '\"department\"', '\"quantity\"', '\"Scale\"', '\"cost\"', '\"unitPrice\"', '\"total\"', '\"regPrice\"', '\"altPrice\"', '\"tax\"', '\"taxexempt\"', '\"foodstamp\"', '\"wicable\"', '\"discount\"', '\"memDiscount\"', '\"discountable\"', '\"discounttype\"', '\"voided\"', '\"percentDiscount\"', '\"ItemQtty\"', '\"volDiscType\"', '\"volume\"', '\"VolSpecial\"', '\"mixMatch\"', '\"matched\"', '\"memType\"', '\"staff\"', '\"numflag\"', '\"itemstatus\"', '\"tenderstatus\"', '\"charflag\"', '\"varflag\"', '\"batchHeaderID\"', '\"local\"', '\"organic\"', '\"display\"', '\"receipt\"', '\"card_no\"', '\"store\"', '\"branch\"', '\"match_id\"', '\"trans_id\"']\n",
      "Second line: ['\"2014-09-01 07:58:40\"', '\"7\"', '\"61\"', '\"1\"', '\"0009746745881\"', '\"Spirutein SimplyNat.0.82# NPl\"', '\"I\"', '\" \"', '\" \"', '\"10\"', '\"1\"', '\"0\"', '\"14.3700\"', '\"23.9900\"', '\"23.9900\"', '\"23.9900\"', '\"0.0000\"', '\"0\"', '\"0\"', '\"1\"', '\"0\"', '\"0.0000\"', '\"0.0000\"', '\"1\"', '\"0\"', '\"0\"', '\"0.00000000\"', '\"1\"', '\"0\"', '\"0\"', '\"0.0000\"', '\"0\"', '\"0\"', 'NULL', 'NULL', '\"0\"', '\"0\"', '\"0\"', '', '\"0\"', 'NULL', '\"0\"', '\"0\"', '', '\"0\"', '\"3\"', '\"1\"', '\"0\"', '\"0\"', '\"1\"']\n",
      "File 'transArchive_201407_201409_inactive.csv' has header: True\n",
      "First line: ['\"datetime\"', '\"register_no\"', '\"emp_no\"', '\"trans_no\"', '\"upc\"', '\"description\"', '\"trans_type\"', '\"trans_subtype\"', '\"trans_status\"', '\"department\"', '\"quantity\"', '\"Scale\"', '\"cost\"', '\"unitPrice\"', '\"total\"', '\"regPrice\"', '\"altPrice\"', '\"tax\"', '\"taxexempt\"', '\"foodstamp\"', '\"wicable\"', '\"discount\"', '\"memDiscount\"', '\"discountable\"', '\"discounttype\"', '\"voided\"', '\"percentDiscount\"', '\"ItemQtty\"', '\"volDiscType\"', '\"volume\"', '\"VolSpecial\"', '\"mixMatch\"', '\"matched\"', '\"memType\"', '\"staff\"', '\"numflag\"', '\"itemstatus\"', '\"tenderstatus\"', '\"charflag\"', '\"varflag\"', '\"batchHeaderID\"', '\"local\"', '\"organic\"', '\"display\"', '\"receipt\"', '\"card_no\"', '\"store\"', '\"branch\"', '\"match_id\"', '\"trans_id\"']\n",
      "Second line: ['\"2014-07-01 08:21:55\"', '\"16\"', '\"54\"', '\"13\"', '\"0000000000039\"', '\"Wedge Scone\"', '\"I\"', '\" \"', '\" \"', '\"8\"', '\"1\"', '\"0\"', '\"0.0000\"', '\"2.3900\"', '\"2.3900\"', '\"2.3900\"', '\"0.0000\"', '\"0\"', '\"0\"', '\"1\"', '\"0\"', '\"0.0000\"', '\"0.0000\"', '\"1\"', '\"0\"', '\"0\"', '\"0.00000000\"', '\"1\"', '\"0\"', '\"0\"', '\"0.0000\"', '\"0\"', '\"0\"', 'NULL', 'NULL', '\"5\"', '\"0\"', '\"0\"', '', '\"0\"', 'NULL', '\"0\"', '\"0\"', '', '\"0\"', '\"48016\"', '\"1\"', '\"0\"', '\"0\"', '\"1\"']\n",
      "File 'transArchive_201410_201412.csv' has header: True\n",
      "First line: ['\"datetime\"', '\"register_no\"', '\"emp_no\"', '\"trans_no\"', '\"upc\"', '\"description\"', '\"trans_type\"', '\"trans_subtype\"', '\"trans_status\"', '\"department\"', '\"quantity\"', '\"Scale\"', '\"cost\"', '\"unitPrice\"', '\"total\"', '\"regPrice\"', '\"altPrice\"', '\"tax\"', '\"taxexempt\"', '\"foodstamp\"', '\"wicable\"', '\"discount\"', '\"memDiscount\"', '\"discountable\"', '\"discounttype\"', '\"voided\"', '\"percentDiscount\"', '\"ItemQtty\"', '\"volDiscType\"', '\"volume\"', '\"VolSpecial\"', '\"mixMatch\"', '\"matched\"', '\"memType\"', '\"staff\"', '\"numflag\"', '\"itemstatus\"', '\"tenderstatus\"', '\"charflag\"', '\"varflag\"', '\"batchHeaderID\"', '\"local\"', '\"organic\"', '\"display\"', '\"receipt\"', '\"card_no\"', '\"store\"', '\"branch\"', '\"match_id\"', '\"trans_id\"']\n",
      "Second line: ['\"2014-12-01 08:01:47\"', '\"5\"', '\"37\"', '\"1\"', '\"0072628400001\"', '\"Pom.Pear Juice 16oz Nan\"', '\"I\"', '\" \"', '\" \"', '\"1\"', '\"1\"', '\"0\"', '\"1.0700\"', '\"1.5900\"', '\"1.5900\"', '\"1.5900\"', '\"0.0000\"', '\"1\"', '\"0\"', '\"1\"', '\"0\"', '\"0.0000\"', '\"0.0000\"', '\"1\"', '\"0\"', '\"0\"', '\"0.00000000\"', '\"1\"', '\"0\"', '\"0\"', '\"0.0000\"', '\"0\"', '\"0\"', 'NULL', 'NULL', '\"0\"', '\"0\"', '\"0\"', '', '\"0\"', 'NULL', '\"0\"', '\"0\"', '', '\"0\"', '\"3\"', '\"1\"', '\"0\"', '\"0\"', '\"1\"']\n",
      "File 'transArchive_201410_201412_inactive.csv' has header: True\n",
      "First line: ['\"datetime\"', '\"register_no\"', '\"emp_no\"', '\"trans_no\"', '\"upc\"', '\"description\"', '\"trans_type\"', '\"trans_subtype\"', '\"trans_status\"', '\"department\"', '\"quantity\"', '\"Scale\"', '\"cost\"', '\"unitPrice\"', '\"total\"', '\"regPrice\"', '\"altPrice\"', '\"tax\"', '\"taxexempt\"', '\"foodstamp\"', '\"wicable\"', '\"discount\"', '\"memDiscount\"', '\"discountable\"', '\"discounttype\"', '\"voided\"', '\"percentDiscount\"', '\"ItemQtty\"', '\"volDiscType\"', '\"volume\"', '\"VolSpecial\"', '\"mixMatch\"', '\"matched\"', '\"memType\"', '\"staff\"', '\"numflag\"', '\"itemstatus\"', '\"tenderstatus\"', '\"charflag\"', '\"varflag\"', '\"batchHeaderID\"', '\"local\"', '\"organic\"', '\"display\"', '\"receipt\"', '\"card_no\"', '\"store\"', '\"branch\"', '\"match_id\"', '\"trans_id\"']\n",
      "Second line: ['\"2014-10-01 09:50:43\"', '\"4\"', '\"71\"', '\"46\"', '\"0085198100200\"', '\"Thai Chicken Bowl 9.25oz ArtB\"', '\"I\"', '\" \"', '\" \"', '\"6\"', '\"1\"', '\"0\"', '\"2.8850\"', '\"3.9900\"', '\"3.9900\"', '\"5.3900\"', '\"0.0000\"', '\"0\"', '\"0\"', '\"1\"', '\"0\"', '\"1.4000\"', '\"0.0000\"', '\"1\"', '\"1\"', '\"0\"', '\"10.00000000\"', '\"1\"', '\"0\"', '\"0\"', '\"0.0000\"', '\"0\"', '\"0\"', 'NULL', 'NULL', '\"0\"', '\"0\"', '\"0\"', '', '\"0\"', 'NULL', '\"0\"', '\"3\"', '', '\"0\"', '\"48303\"', '\"1\"', '\"0\"', '\"0\"', '\"1\"']\n",
      "File 'transArchive_201501_201503.csv' has header: True\n",
      "First line: ['\"datetime\"', '\"register_no\"', '\"emp_no\"', '\"trans_no\"', '\"upc\"', '\"description\"', '\"trans_type\"', '\"trans_subtype\"', '\"trans_status\"', '\"department\"', '\"quantity\"', '\"Scale\"', '\"cost\"', '\"unitPrice\"', '\"total\"', '\"regPrice\"', '\"altPrice\"', '\"tax\"', '\"taxexempt\"', '\"foodstamp\"', '\"wicable\"', '\"discount\"', '\"memDiscount\"', '\"discountable\"', '\"discounttype\"', '\"voided\"', '\"percentDiscount\"', '\"ItemQtty\"', '\"volDiscType\"', '\"volume\"', '\"VolSpecial\"', '\"mixMatch\"', '\"matched\"', '\"memType\"', '\"staff\"', '\"numflag\"', '\"itemstatus\"', '\"tenderstatus\"', '\"charflag\"', '\"varflag\"', '\"batchHeaderID\"', '\"local\"', '\"organic\"', '\"display\"', '\"receipt\"', '\"card_no\"', '\"store\"', '\"branch\"', '\"match_id\"', '\"trans_id\"']\n",
      "Second line: ['\"2015-01-01 08:05:59\"', '\"4\"', '\"71\"', '\"1\"', '\"0000000000083\"', '\"EGGS Bulk Each\"', '\"I\"', '\" \"', '\" \"', '\"4\"', '\"6\"', '\"0\"', '\"0.2500\"', '\"0.3200\"', '\"1.9200\"', '\"0.3200\"', 'NULL', '\"0\"', '\"0\"', '\"1\"', 'NULL', '\"0.0000\"', '\"0.0000\"', '\"1\"', '\"0\"', '\"0\"', '\"0.00000000\"', '\"6\"', '\"2\"', '\"12\"', '\"3.8400\"', '\"0\"', '\"0\"', '\"0\"', 'NULL', '\"4\"', '\"0\"', '\"0\"', '', 'NULL', 'NULL', '\"0\"', '\"-1\"', '', '\"0\"', '\"15077\"', '\"1\"', '\"0\"', '\"0\"', '\"1\"']\n",
      "File 'transArchive_201504_201506.csv' has header: True\n",
      "First line: ['\"datetime\"', '\"register_no\"', '\"emp_no\"', '\"trans_no\"', '\"upc\"', '\"description\"', '\"trans_type\"', '\"trans_subtype\"', '\"trans_status\"', '\"department\"', '\"quantity\"', '\"Scale\"', '\"cost\"', '\"unitPrice\"', '\"total\"', '\"regPrice\"', '\"altPrice\"', '\"tax\"', '\"taxexempt\"', '\"foodstamp\"', '\"wicable\"', '\"discount\"', '\"memDiscount\"', '\"discountable\"', '\"discounttype\"', '\"voided\"', '\"percentDiscount\"', '\"ItemQtty\"', '\"volDiscType\"', '\"volume\"', '\"VolSpecial\"', '\"mixMatch\"', '\"matched\"', '\"memType\"', '\"staff\"', '\"numflag\"', '\"itemstatus\"', '\"tenderstatus\"', '\"charflag\"', '\"varflag\"', '\"batchHeaderID\"', '\"local\"', '\"organic\"', '\"display\"', '\"receipt\"', '\"card_no\"', '\"store\"', '\"branch\"', '\"match_id\"', '\"trans_id\"']\n",
      "Second line: ['\"2015-04-01 07:10:51\"', '\"51\"', '\"94\"', '\"4\"', '\"0000000004345\"', '\"BURRITOS Breakfast\"', '\"I\"', '\" \"', '\" \"', '\"8\"', '\"1\"', '\"0\"', '\"0.0000\"', '\"6.0000\"', '\"6.0000\"', '\"6.0000\"', 'NULL', '\"1\"', '\"0\"', '\"0\"', 'NULL', '\"0.0000\"', '\"0.0000\"', '\"1\"', '\"0\"', '\"0\"', '\"0.00000000\"', '\"1\"', '\"0\"', '\"0\"', '\"0.0000\"', '\"0\"', '\"0\"', '\"0\"', 'NULL', '\"1\"', '\"0\"', '\"0\"', '', 'NULL', 'NULL', '\"0\"', '\"0\"', '', '\"0\"', '\"3\"', '\"1\"', '\"3\"', '\"0\"', '\"1\"']\n",
      "File 'transArchive_201507_201509.csv' has header: True\n",
      "First line: ['\"datetime\"', '\"register_no\"', '\"emp_no\"', '\"trans_no\"', '\"upc\"', '\"description\"', '\"trans_type\"', '\"trans_subtype\"', '\"trans_status\"', '\"department\"', '\"quantity\"', '\"Scale\"', '\"cost\"', '\"unitPrice\"', '\"total\"', '\"regPrice\"', '\"altPrice\"', '\"tax\"', '\"taxexempt\"', '\"foodstamp\"', '\"wicable\"', '\"discount\"', '\"memDiscount\"', '\"discountable\"', '\"discounttype\"', '\"voided\"', '\"percentDiscount\"', '\"ItemQtty\"', '\"volDiscType\"', '\"volume\"', '\"VolSpecial\"', '\"mixMatch\"', '\"matched\"', '\"memType\"', '\"staff\"', '\"numflag\"', '\"itemstatus\"', '\"tenderstatus\"', '\"charflag\"', '\"varflag\"', '\"batchHeaderID\"', '\"local\"', '\"organic\"', '\"display\"', '\"receipt\"', '\"card_no\"', '\"store\"', '\"branch\"', '\"match_id\"', '\"trans_id\"']\n",
      "Second line: ['\"2015-07-01 07:01:36\"', '\"51\"', '\"94\"', '\"2\"', '\"0020128000000\"', '\"Co-op Curried Couscous\"', '\"I\"', '\" \"', '\" \"', '\"8\"', '\"0.380476\"', '\"0\"', '\"5.0000\"', '\"7.9900\"', '\"3.0400\"', '\"7.9900\"', 'NULL', '\"0\"', '\"0\"', '\"1\"', 'NULL', '\"0.0000\"', '\"0.0000\"', '\"1\"', '\"0\"', '\"0\"', '\"10.00000000\"', '\"1\"', '\"0\"', '\"0\"', '\"0.0000\"', '\"0\"', '\"0\"', '\"0\"', 'NULL', '\"1\"', '\"0\"', '\"0\"', '', 'NULL', 'NULL', '\"0\"', '\"0\"', '', '\"0\"', '\"17105\"', '\"1\"', '\"3\"', '\"0\"', '\"2\"']\n",
      "File 'transArchive_201510.csv' has header: True\n",
      "First line: ['\"datetime\"', '\"register_no\"', '\"emp_no\"', '\"trans_no\"', '\"upc\"', '\"description\"', '\"trans_type\"', '\"trans_subtype\"', '\"trans_status\"', '\"department\"', '\"quantity\"', '\"Scale\"', '\"cost\"', '\"unitPrice\"', '\"total\"', '\"regPrice\"', '\"altPrice\"', '\"tax\"', '\"taxexempt\"', '\"foodstamp\"', '\"wicable\"', '\"discount\"', '\"memDiscount\"', '\"discountable\"', '\"discounttype\"', '\"voided\"', '\"percentDiscount\"', '\"ItemQtty\"', '\"volDiscType\"', '\"volume\"', '\"VolSpecial\"', '\"mixMatch\"', '\"matched\"', '\"memType\"', '\"staff\"', '\"numflag\"', '\"itemstatus\"', '\"tenderstatus\"', '\"charflag\"', '\"varflag\"', '\"batchHeaderID\"', '\"local\"', '\"organic\"', '\"display\"', '\"receipt\"', '\"card_no\"', '\"store\"', '\"branch\"', '\"match_id\"', '\"trans_id\"']\n",
      "Second line: ['\"2015-10-01 06:26:37\"', '\"51\"', '\"94\"', '\"1\"', '\"0\"', '\"Cash\"', '\"T\"', '\"CA\"', '', '\"0\"', '\"0\"', '\"0\"', '\"0.0000\"', '\"0.0000\"', '\"0.0000\"', '\"0.0000\"', 'NULL', '\"0\"', '\"0\"', '\"0\"', 'NULL', '\"0.0000\"', '\"0.0000\"', '\"0\"', '\"0\"', '\"0\"', 'NULL', '\"0\"', '\"0\"', '\"0\"', '\"0.0000\"', '\"0\"', '\"0\"', '\"0\"', 'NULL', '\"0\"', '\"0\"', '\"0\"', '', 'NULL', 'NULL', '\"0\"', 'NULL', '', '\"0\"', '\"3\"', '\"1\"', '\"3\"', '\"0\"', '\"4\"']\n",
      "File 'transArchive_201511.csv' has header: False\n",
      "First line: ['2015-11-01 07:21:50', '51', '94', '4', 'TAX', 'Tax', 'A', '', '', '0', '0', '0', '0.0000', '0.0000', '0.4800', '0.0000', '\\\\N', '0', '0', '0', '\\\\N', '0.0000', '0.0000', '0', '0', '0', '\\\\N', '0', '0', '0', '0.0000', '0', '0', '0', '\\\\N', '0', '0', '0', '', '\\\\N', '\\\\N', '0', '\\\\N', '', '0', '52595', '1', '3', '0', '12']\n",
      "Second line: ['2015-11-01 07:32:50', '51', '94', '6', '0005844941016', 'O.Frosted Maple Pastry 6ct NP', 'I', ' ', ' ', '1', '1', '0', '2.6830', '4.4900', '4.4900', '4.4900', '\\\\N', '0', '0', '1', '\\\\N', '0.0000', '0.0000', '1', '0', '0', '0.00000000', '1', '0', '0', '0.0000', '0', '0', '0', '\\\\N', '0', '0', '0', '', '\\\\N', '\\\\N', '0', '1', '', '0', '3', '1', '3', '0', '3']\n",
      "File 'transArchive_201512.csv' has header: False\n",
      "First line: ['2015-12-01 07:03:06', '51', '94', '2', 'TAX', 'Tax', 'A', '', '', '0', '0', '0', '0.0000', '0.0000', '0.0000', '0.0000', '', '0', '0', '0', '', '0.0000', '0.0000', '0', '0', '0', '', '0', '0', '0', '0.0000', '0', '0', '0', '', '0', '0', '0', '', '', '', '0', '', '', '0', '3', '1', '3', '0', '7']\n",
      "Second line: ['2015-12-01 07:23:16', '51', '94', '12', 'DISCOUNT', 'Discount', 'I', '', '', '0', '1', '0', '0.0000', '-1.9000', '-1.9000', '0.0000', '', '0', '0', '0', '', '0.0000', '0.0000', '0', '0', '0', '', '1', '0', '0', '0.0000', '0', '0', '0', '', '0', '0', '0', '', '', '', '0', '', '', '0', '49297', '1', '3', '0', '25']\n",
      "File 'transArchive_201601.csv' has header: False\n",
      "First line: ['2016-01-01 09:12:14', '51', '94', '3', '0000000000039', 'Wedge Scone', 'I', ' ', ' ', '8', '3', '0', '0.5160', '2.4900', '7.4700', '2.4900', '\\\\N', '0', '0', '1', '\\\\N', '0.0000', '0.0000', '1', '0', '0', '\\\\N', '3', '0', '0', '0.0000', '0', '0', '0', '\\\\N', '5', '0', '0', '', '\\\\N', '\\\\N', '0', '0', '', '0', '3', '1', '3', '0', '10']\n",
      "Second line: ['2016-01-01 09:13:25', '51', '94', '3', '0000000000049', 'Wedge Muffin', 'I', ' ', 'V', '8', '-2', '0', '0.6350', '2.4900', '-4.9800', '2.4900', '\\\\N', '0', '0', '1', '\\\\N', '0.0000', '0.0000', '1', '0', '1', '\\\\N', '-2', '0', '0', '0.0000', '0', '0', '0', '\\\\N', '5', '0', '0', '', '\\\\N', '\\\\N', '0', '0', '', '0', '3', '1', '3', '0', '17']\n",
      "File 'transArchive_201602.csv' has header: False\n",
      "First line: ['2016-02-01 07:16:56', '51', '94', '3', 'TAX', 'Tax', 'A', '', '', '0', '0', '0', '0.0000', '0.0000', '0.2700', '0.0000', '\\\\N', '0', '0', '0', '\\\\N', '0.0000', '0.0000', '0', '0', '0', '\\\\N', '0', '0', '0', '0.0000', '0', '0', '0', '\\\\N', '0', '0', '0', '', '\\\\N', '\\\\N', '0', '\\\\N', '', '0', '3', '1', '3', '0', '10']\n",
      "Second line: ['2016-02-01 08:00:10', '51', '94', '27', '0000000040400', 'Coffee Hot Organic 12oz', 'I', ' ', ' ', '14', '1', '0', '0.3970', '1.9900', '1.9900', '1.9900', '\\\\N', '1', '0', '0', '\\\\N', '0.0000', '0.0000', '1', '44', '0', '0.00000000', '1', '0', '0', '0.0000', '0', '0', '0', '\\\\N', '261', '0', '0', '', '\\\\N', '\\\\N', '0', '1', '', '0', '3', '1', '3', '0', '1']\n",
      "File 'transArchive_201603.csv' has header: False\n",
      "First line: ['2016-03-01 07:04:38', '51', '94', '2', 'TAX', 'Tax', 'A', '', '', '0', '0', '0', '0.0000', '0.0000', '0.0000', '0.0000', '\\\\N', '0', '0', '0', '\\\\N', '0.0000', '0.0000', '0', '0', '0', '\\\\N', '0', '0', '0', '0.0000', '0', '0', '0', '\\\\N', '0', '0', '0', '', '\\\\N', '\\\\N', '0', '\\\\N', '', '0', '3', '1', '3', '0', '10']\n",
      "Second line: ['2016-03-01 07:05:19', '51', '94', '3', '0081076600003', 'O.Jumbo Eggs 12ct Larry', 'I', ' ', ' ', '4', '1', '0', '3.4500', '4.2900', '4.2900', '4.2900', '\\\\N', '0', '0', '1', '\\\\N', '0.0000', '0.0000', '1', '0', '0', '0.00000000', '1', '0', '0', '0.0000', '0', '0', '0', '\\\\N', '1', '0', '0', '', '\\\\N', '\\\\N', '0', '1', '', '0', '3', '1', '3', '0', '3']\n",
      "File 'transArchive_201604.csv' has header: False\n",
      "First line: ['2016-04-01 07:34:35', '51', '94', '18', '0', 'Cash', 'T', 'CA', '', '0', '0', '0', '0.0000', '0.0000', '-5.0000', '0.0000', '\\\\N', '0', '0', '0', '\\\\N', '0.0000', '0.0000', '0', '0', '0', '\\\\N', '0', '0', '0', '0.0000', '0', '0', '0', '\\\\N', '0', '0', '0', '', '\\\\N', '\\\\N', '0', '\\\\N', '', '0', '49019', '1', '3', '0', '9']\n",
      "Second line: ['2016-04-01 08:16:31', '51', '94', '45', '0', 'Change', 'T', 'CA', '', '0', '0', '0', '0.0000', '0.0000', '0.0000', '0.0000', '\\\\N', '0', '0', '0', '\\\\N', '0.0000', '0.0000', '0', '0', '8', '\\\\N', '0', '0', '0', '0.0000', '0', '0', '0', '\\\\N', '0', '0', '0', '', '\\\\N', '\\\\N', '0', '\\\\N', '', '0', '3', '1', '3', '0', '10']\n",
      "File 'transArchive_201605.csv' has header: False\n",
      "First line: ['2016-05-01 11:23:35', '51', '94', '113', '0000000004365', 'BBOWL SuperSoba Chicken/Seitan', 'I', ' ', ' ', '8', '1', '0', '0.0000', '10.0000', '10.0000', '10.0000', '\\\\N', '1', '0', '0', '0', '0.0000', '0.0000', '7', '0', '0', '0.00000000', '1', '0', '0', '0.0000', '0', '0', '0', '\\\\N', '1', '0', '0', '', '\\\\N', '\\\\N', '0', '0', '', '0', '12539', '1', '3', '0', '4']\n",
      "Second line: ['2016-05-01 12:36:20', '51', '94', '169', '0', 'Change', 'T', 'CA', '', '0', '0', '0', '0.0000', '0.0000', '0.0000', '0.0000', '\\\\N', '0', '0', '0', '0', '0.0000', '0.0000', '0', '0', '8', '\\\\N', '0', '0', '0', '0.0000', '0', '0', '0', '\\\\N', '0', '0', '0', '', '\\\\N', '\\\\N', '0', '\\\\N', '', '0', '3', '1', '3', '0', '8']\n",
      "File 'transArchive_201606.csv' has header: False\n",
      "First line: ['2016-06-01 08:04:44', '51', '94', '41', '0000000000151', 'Banana Organic', 'I', ' ', ' ', '2', '1.45', '1', '0.8900', '1.1900', '1.7300', '1.1900', '\\\\N', '0', '0', '1', '1', '0.0000', '0.0000', '1', '0', '0', '10.00000000', '1.45', '0', '0', '0.0000', '0', '0', '0', '\\\\N', '0', '0', '0', '', '\\\\N', '\\\\N', '0', '1', '', '0', '12367', '1', '3', '0', '2']\n",
      "Second line: ['2016-06-01 07:04:54', '51', '94', '1', 'DISCOUNT', 'Discount', 'I', '', '', '0', '1', '0', '0.0000', '-1.5500', '-1.5500', '0.0000', '\\\\N', '0', '0', '0', '0', '0.0000', '0.0000', '0', '0', '0', '\\\\N', '1', '0', '0', '0.0000', '0', '0', '0', '\\\\N', '0', '0', '0', '', '\\\\N', '\\\\N', '0', '\\\\N', '', '0', '18046', '1', '3', '0', '16']\n",
      "File 'transArchive_201607.csv' has header: False\n",
      "First line: ['2016-07-01 07:06:15', '51', '94', '1', '0065722700050', 'Electrolyte Water 1.5L Essenti', 'I', ' ', ' ', '1', '3', '0', '1.5800', '2.6900', '8.0700', '2.6900', '\\\\N', '0', '0', '1', '0', '0.0000', '0.0000', '1', '0', '0', '0.00000000', '3', '0', '0', '0.0000', '0', '0', '0', '\\\\N', '0', '0', '0', '', '\\\\N', '\\\\N', '0', '0', '', '0', '3', '1', '3', '0', '1']\n",
      "Second line: ['2016-07-01 08:39:21', '51', '94', '38', 'DISCOUNT', 'Discount', 'I', '', '', '0', '1', '0', '0.0000', '0.0000', '0.0000', '0.0000', '\\\\N', '0', '0', '0', '0', '0.0000', '0.0000', '0', '0', '0', '\\\\N', '1', '0', '0', '0.0000', '0', '0', '0', '\\\\N', '0', '0', '0', '', '\\\\N', '\\\\N', '0', '\\\\N', '', '0', '3', '1', '3', '0', '9']\n",
      "File 'transArchive_201608.csv' has header: False\n",
      "First line: ['2016-08-01 07:34:16', '51', '94', '7', '0000000000151', 'Banana Organic', 'I', ' ', ' ', '2', '0.52', '1', '0.8900', '1.1900', '0.6200', '1.1900', '\\\\N', '0', '0', '1', '1', '0.0000', '0.0000', '1', '0', '0', '0.00000000', '0.52', '0', '0', '0.0000', '0', '0', '0', '\\\\N', '0', '0', '0', '', '\\\\N', '\\\\N', '0', '1', '', '0', '21998', '1', '3', '0', '2']\n",
      "Second line: ['2016-08-01 07:46:02', '51', '94', '14', 'TAX', 'Tax', 'A', '', '', '0', '0', '0', '0.0000', '0.0000', '0.6400', '0.0000', '\\\\N', '0', '0', '0', '0', '0.0000', '0.0000', '0', '0', '0', '\\\\N', '0', '0', '0', '0.0000', '0', '0', '0', '\\\\N', '0', '0', '0', '', '\\\\N', '\\\\N', '0', '\\\\N', '', '0', '12539', '1', '3', '0', '21']\n",
      "File 'transArchive_201609.csv' has header: False\n",
      "First line: ['2016-09-01 07:13:09', '51', '94', '6', '0', 'Change', 'T', 'CA', '', '0', '0', '0', '0.0000', '0.0000', '0.0000', '0.0000', '\\\\N', '0', '0', '0', '0', '0.0000', '0.0000', '0', '0', '8', '\\\\N', '0', '0', '0', '0.0000', '0', '0', '0', '\\\\N', '0', '0', '0', '', '\\\\N', '\\\\N', '0', '\\\\N', '', '0', '20074', '1', '3', '0', '7']\n",
      "Second line: ['2016-09-01 08:28:43', '51', '94', '37', '0', 'Credit Card', 'T', 'CC', '', '0', '0', '0', '0.0000', '0.0000', '-9.1400', '0.0000', '\\\\N', '0', '0', '0', '0', '0.0000', '0.0000', '0', '0', '0', '\\\\N', '0', '0', '0', '0.0000', '0', '0', '0', '\\\\N', '0', '0', '0', 'M', '\\\\N', '\\\\N', '0', '\\\\N', '', '0', '3', '1', '3', '0', '7']\n",
      "File 'transArchive_201610.csv' has header: False\n",
      "First line: ['2016-10-01 07:04:40', '51', '94', '1', 'DISCOUNT', 'Discount', 'I', '', '', '0', '1', '0', '0.0000', '0.0000', '0.0000', '0.0000', '\\\\N', '0', '0', '0', '0', '0.0000', '0.0000', '0', '0', '0', '\\\\N', '1', '0', '0', '0.0000', '0', '0', '0', '\\\\N', '0', '0', '0', '', '\\\\N', '\\\\N', '0', '\\\\N', '', '0', '49355', '1', '3', '0', '10']\n",
      "Second line: ['2016-10-01 07:46:09', '51', '94', '8', '0', 'Cash', 'T', 'CA', '', '0', '0', '0', '0.0000', '0.0000', '-20.0000', '0.0000', '\\\\N', '0', '0', '0', '0', '0.0000', '0.0000', '0', '0', '0', '\\\\N', '0', '0', '0', '0.0000', '0', '0', '0', '\\\\N', '0', '0', '0', '', '\\\\N', '\\\\N', '0', '\\\\N', '', '0', '11351', '1', '3', '0', '8']\n",
      "File 'transArchive_201611.csv' has header: False\n",
      "First line: ['2016-11-01 07:18:44', '51', '94', '11', '0000000001014', 'Green Patch Redemption', 'I', ' ', ' ', '1', '1', '0', '0.0000', '-0.1000', '-0.1000', '-0.1000', '\\\\N', '0', '0', '0', '0', '0.0000', '0.0000', '0', '0', '0', '10.00000000', '1', '0', '0', '0.0000', '0', '0', '0', '\\\\N', '4', '0', '0', '', '\\\\N', '\\\\N', '0', '-1', '', '0', '16646', '1', '3', '0', '13']\n",
      "Second line: ['2016-11-01 08:04:59', '51', '94', '27', 'DISCOUNT', 'Discount', 'I', '', '', '0', '1', '0', '0.0000', '0.0000', '0.0000', '0.0000', '\\\\N', '0', '0', '0', '0', '0.0000', '0.0000', '0', '0', '0', '\\\\N', '1', '0', '0', '0.0000', '0', '0', '0', '\\\\N', '0', '0', '0', '', '\\\\N', '\\\\N', '0', '\\\\N', '', '0', '3', '1', '3', '0', '7']\n",
      "File 'transArchive_201612.csv' has header: False\n",
      "First line: ['2016-12-01 07:43:01', '51', '94', '23', '0000000000049', 'Wedge Muffin', 'I', ' ', ' ', '8', '1', '0', '0.6350', '2.4900', '2.4900', '2.4900', '\\\\N', '0', '0', '1', '0', '0.0000', '0.0000', '7', '0', '0', '10.00000000', '1', '0', '0', '0.0000', '0', '0', '0', '\\\\N', '5', '0', '0', '', '\\\\N', '\\\\N', '0', '0', '', '0', '13863', '1', '3', '0', '2']\n",
      "Second line: ['2016-12-01 07:12:35', '51', '94', '11', 'DISCOUNT', 'Discount', 'I', '', '', '0', '1', '0', '0.0000', '0.0000', '0.0000', '0.0000', '\\\\N', '0', '0', '0', '0', '0.0000', '0.0000', '0', '0', '0', '\\\\N', '1', '0', '0', '0.0000', '0', '0', '0', '\\\\N', '0', '0', '0', '', '\\\\N', '\\\\N', '0', '\\\\N', '', '0', '52639', '1', '3', '0', '7']\n",
      "File 'transArchive_201701.csv' has header: False\n",
      "First line: ['2017-01-01 09:00:31', '51', '94', '12', '0', 'Change', 'T', 'CA', '', '0', '0', '0', '0.0000', '0.0000', '0.0000', '0.0000', '\\\\N', '0', '0', '0', '0', '0.0000', '0.0000', '0', '0', '8', '\\\\N', '0', '0', '0', '0.0000', '0', '0', '0', '\\\\N', '0', '0', '0', '', '\\\\N', '\\\\N', '0', '\\\\N', '', '0', '24528', '1', '3', '0', '12']\n",
      "Second line: ['2017-01-01 09:24:18', '51', '94', '14', 'DISCOUNT', 'Discount', 'I', '', '', '0', '1', '0', '0.0000', '0.0000', '0.0000', '0.0000', '\\\\N', '0', '0', '0', '0', '0.0000', '0.0000', '0', '0', '0', '\\\\N', '1', '0', '0', '0.0000', '0', '0', '0', '\\\\N', '0', '0', '0', '', '\\\\N', '\\\\N', '0', '\\\\N', '', '0', '14140', '1', '3', '0', '16']\n"
     ]
    }
   ],
   "source": [
    "headers = dict()\n",
    "\n",
    "def is_header_row(first_row, second_row):\n",
    "\n",
    "    # Check if most elements in the first row contain non-numeric characters\n",
    "    if all(any(c.isalpha() for c in value) for value in first_row):\n",
    "        return True\n",
    "    \n",
    "    # Optionally: Check if types of first and second rows differ\n",
    "    if set(map(type, first_row)) != set(map(type, second_row)):\n",
    "        return True\n",
    "    \n",
    "    return False\n",
    "\n",
    "\n",
    "#current_zf = zip_files[0]\n",
    "for current_zf in zip_files :\n",
    "# Open the current zf\n",
    "    with ZipFile(data_directory + current_zf,'r') as zf :\n",
    "        zipped_files = zf.namelist()\n",
    "        \n",
    "        # Loop through each file in the zip\n",
    "        for file_name in zipped_files:\n",
    "            with zf.open(file_name, 'r') as input_file:\n",
    "                input_file = io.TextIOWrapper(input_file, encoding=\"utf-8\")\n",
    "\n",
    "                this_delimiter = delimiters.get(file_name, ',')  # Use delimiter or default to ','\n",
    "\n",
    "                # Read the first two lines\n",
    "                first_line = input_file.readline().strip().split(this_delimiter)\n",
    "                second_line = input_file.readline().strip().split(this_delimiter)\n",
    "\n",
    "                # Check for header presence using improved logic\n",
    "                has_header = is_header_row(first_line, second_line)\n",
    "                print(f\"File '{file_name}' has header: {has_header}\")\n",
    "\n",
    "                # Print first two lines for verification\n",
    "                print(\"First line:\", first_line)\n",
    "                print(\"Second line:\", second_line)\n",
    "\n",
    "\n",
    "                headers[file_name] = has_header\n",
    "\n",
    "\n",
    "                input_file.close()  # Close the file properly\n",
    "    "
   ]
  },
  {
   "cell_type": "code",
   "execution_count": 6,
   "metadata": {},
   "outputs": [
    {
     "name": "stdout",
     "output_type": "stream",
     "text": [
      "The 'headers' dictionary contains:\n",
      "{'transArchive_201001_201003.csv': True, 'transArchive_201004_201006.csv': True, 'transArchive_201007_201009.csv': True, 'transArchive_201010_201012.csv': True, 'transArchive_201101_201103.csv': True, 'transArchive_201104.csv': True, 'transArchive_201105.csv': True, 'transArchive_201106.csv': True, 'transArchive_201107_201109.csv': True, 'transArchive_201110_201112.csv': True, 'transArchive_201201_201203.csv': True, 'transArchive_201201_201203_inactive.csv': True, 'transArchive_201204_201206.csv': True, 'transArchive_201204_201206_inactive.csv': True, 'transArchive_201207_201209.csv': True, 'transArchive_201207_201209_inactive.csv': True, 'transArchive_201210_201212.csv': True, 'transArchive_201210_201212_inactive.csv': True, 'transArchive_201301_201303.csv': True, 'transArchive_201301_201303_inactive.csv': True, 'transArchive_201304_201306.csv': True, 'transArchive_201304_201306_inactive.csv': True, 'transArchive_201307_201309.csv': True, 'transArchive_201307_201309_inactive.csv': True, 'transArchive_201310_201312.csv': True, 'transArchive_201310_201312_inactive.csv': True, 'transArchive_201401_201403.csv': True, 'transArchive_201401_201403_inactive.csv': True, 'transArchive_201404_201406.csv': True, 'transArchive_201404_201406_inactive.csv': True, 'transArchive_201407_201409.csv': True, 'transArchive_201407_201409_inactive.csv': True, 'transArchive_201410_201412.csv': True, 'transArchive_201410_201412_inactive.csv': True, 'transArchive_201501_201503.csv': True, 'transArchive_201504_201506.csv': True, 'transArchive_201507_201509.csv': True, 'transArchive_201510.csv': True, 'transArchive_201511.csv': False, 'transArchive_201512.csv': False, 'transArchive_201601.csv': False, 'transArchive_201602.csv': False, 'transArchive_201603.csv': False, 'transArchive_201604.csv': False, 'transArchive_201605.csv': False, 'transArchive_201606.csv': False, 'transArchive_201607.csv': False, 'transArchive_201608.csv': False, 'transArchive_201609.csv': False, 'transArchive_201610.csv': False, 'transArchive_201611.csv': False, 'transArchive_201612.csv': False, 'transArchive_201701.csv': False}\n"
     ]
    }
   ],
   "source": [
    "# testing the dictionary\n",
    "if not headers:\n",
    "    print(\"The 'headers' dictionary is empty.\")\n",
    "else:\n",
    "    print(\"The 'headers' dictionary contains:\")\n",
    "    print(headers)"
   ]
  },
  {
   "cell_type": "markdown",
   "metadata": {},
   "source": [
    "### Removing Duplicates"
   ]
  },
  {
   "cell_type": "code",
   "execution_count": null,
   "metadata": {},
   "outputs": [],
   "source": [
    "\n",
    "for current_zf in zip_files:\n",
    "    with ZipFile(data_directory + current_zf, 'r') as zf:\n",
    "        zipped_files = zf.namelist()\n",
    "\n",
    "        # Iterate over each file in the zip\n",
    "        for file_name in zipped_files:\n",
    "            # Assuming the file is a CSV, we will load it into a DataFrame\n",
    "            with zf.open(file_name) as file:\n",
    "                # Read file as CSV\n",
    "                try:\n",
    "                    df = pd.read_csv(file, quotechar='\"') \n",
    "                    print(f\"Loaded {file_name} into DataFrame.\")\n",
    "                   # print(df.head())  # Check the first few rows of the DataFrame\n",
    "                except Exception as e:\n",
    "                    print(f\"Error reading {file_name}: {e}\")\n",
    "                    \n",
    "            initial_row_count = len(df)\n",
    "\n",
    "            # Remove duplicates\n",
    "            df_cleaned = df.drop_duplicates()\n",
    "\n",
    "            # Get the number of rows after removing duplicates\n",
    "            final_row_count = len(df_cleaned)\n",
    "\n",
    "            # Calculate the number of duplicates removed\n",
    "            duplicates_removed = initial_row_count - final_row_count\n",
    "\n",
    "            print(f\"Number of duplicates removed: {duplicates_removed}\")"
   ]
  },
  {
   "cell_type": "markdown",
   "metadata": {},
   "source": [
    "### Handle Missing Data"
   ]
  },
  {
   "cell_type": "code",
   "execution_count": null,
   "metadata": {},
   "outputs": [],
   "source": []
  },
  {
   "cell_type": "markdown",
   "metadata": {},
   "source": [
    "### Code to Align to Schema"
   ]
  },
  {
   "cell_type": "code",
   "execution_count": null,
   "metadata": {},
   "outputs": [],
   "source": [
    "# Ensure datetime column is properly formatted\n",
    "df['datetime'] = pd.to_datetime(df['datetime'], errors='coerce')\n",
    "\n",
    "# Convert integer columns to float where needed\n",
    "float_columns = [\n",
    "    'register_no', 'emp_no', 'trans_no', 'department', 'Scale', 'tax', \n",
    "    'taxexempt', 'foodstamp', 'wicable', 'discountable', 'discounttype', \n",
    "    'voided', 'local', 'receipt', 'card_no', 'store', 'branch', 'match_id', \n",
    "    'trans_id'\n",
    "]\n",
    "df[float_columns] = df[float_columns].astype(float)\n",
    "\n",
    "# Convert specific columns to boolean\n",
    "bool_columns = ['memType', 'staff', 'batchHeaderID', 'display']\n",
    "df[bool_columns] = df[bool_columns].astype(bool)\n",
    "\n",
    "# Convert columns to string if needed\n",
    "df['volDiscType'] = df['volDiscType'].astype(str)\n",
    "\n",
    "# Verify the new schema\n",
    "print(df.dtypes)"
   ]
  },
  {
   "cell_type": "code",
   "execution_count": null,
   "metadata": {},
   "outputs": [],
   "source": [
    "# Here's a function to transform the date column in a dataframe to \n",
    "# the YYYYMM01 format we'd like to use for subsetting.\n",
    "\n",
    "def reformat_date(date_string) :\n",
    "    date_string = datetime.datetime.strptime(date_string,\"%Y-%m-%d\")\n",
    "    return(datetime.date.strftime(date_string,\"%Y%m\")+\"01\")\n",
    "\n",
    "assert(reformat_date(\"2022-09-20\")==\"20220901\")\n",
    "assert(reformat_date(\"2000-10-20\")==\"20001001\")"
   ]
  },
  {
   "cell_type": "code",
   "execution_count": null,
   "metadata": {},
   "outputs": [],
   "source": []
  },
  {
   "cell_type": "code",
   "execution_count": null,
   "metadata": {},
   "outputs": [],
   "source": []
  },
  {
   "cell_type": "markdown",
   "metadata": {},
   "source": [
    "#### Cleaning and Processing\n",
    "-- same loop as above but with processing."
   ]
  },
  {
   "cell_type": "code",
   "execution_count": 63,
   "metadata": {},
   "outputs": [],
   "source": [
    "def missing_values(df, schema):\n",
    "    for field in schema:\n",
    "        field_name = field.name\n",
    "        field_type = field.field_type\n",
    "        \n",
    "        # Handle missing values based on field type\n",
    "        if field_type == \"FLOAT\":\n",
    "            df[field_name] = df[field_name].fillna(0.0)\n",
    "        elif field_type == \"STRING\":\n",
    "            df[field_name] = df[field_name].fillna('')\n",
    "        elif field_type == \"TIMESTAMP\":\n",
    "            df[field_name] = pd.to_datetime(df[field_name], errors='coerce')\n",
    "        elif field_type == \"BOOLEAN\":\n",
    "            df[field_name] = df[field_name].fillna(False)\n",
    "    \n",
    "    return df"
   ]
  },
  {
   "cell_type": "markdown",
   "metadata": {},
   "source": [
    "### Processing Files\n",
    "This sections iterates over all the zip files in the raw data directory. It then processes them and saves them in a new processed files directory as csv files. \n",
    "\n",
    "1. Check for delimiter\n",
    "1. Check for header\n",
    "1. Add header column if missing\n",
    "1. Handle Missing Values\n",
    "1. Correct datatypes"
   ]
  },
  {
   "cell_type": "markdown",
   "metadata": {},
   "source": [
    "process data one file at time to test"
   ]
  },
  {
   "cell_type": "code",
   "execution_count": 8,
   "metadata": {},
   "outputs": [
    {
     "name": "stdout",
     "output_type": "stream",
     "text": [
      "Loaded transArchive_201001_201003.csv successfully!\n",
      "Processed and saved transArchive_201001_201003.csv.\n",
      "Completed processing ZIP file: transArchive_201001_201003.zip\n",
      "\n",
      "Loaded transArchive_201004_201006.csv successfully!\n",
      "Processed and saved transArchive_201004_201006.csv.\n",
      "Completed processing ZIP file: transArchive_201004_201006.zip\n",
      "\n",
      "Loaded transArchive_201007_201009.csv successfully!\n",
      "Processed and saved transArchive_201007_201009.csv.\n",
      "Completed processing ZIP file: transArchive_201007_201009.zip\n",
      "\n"
     ]
    },
    {
     "name": "stderr",
     "output_type": "stream",
     "text": [
      "C:\\Users\\npleg\\AppData\\Local\\Temp\\ipykernel_2968\\1349468181.py:27: DtypeWarning: Columns (43) have mixed types. Specify dtype option on import or set low_memory=False.\n",
      "  df = pd.read_csv(working_file, delimiter=delimiter, header=header)\n"
     ]
    },
    {
     "name": "stdout",
     "output_type": "stream",
     "text": [
      "Loaded transArchive_201010_201012.csv successfully!\n",
      "Processed and saved transArchive_201010_201012.csv.\n",
      "Completed processing ZIP file: transArchive_201010_201012.zip\n",
      "\n",
      "Loaded transArchive_201101_201103.csv successfully!\n",
      "Processed and saved transArchive_201101_201103.csv.\n",
      "Completed processing ZIP file: transArchive_201101_201103.zip\n",
      "\n",
      "Loaded transArchive_201104.csv successfully!\n",
      "Processed and saved transArchive_201104.csv.\n",
      "Completed processing ZIP file: transArchive_201104.zip\n",
      "\n",
      "Loaded transArchive_201105.csv successfully!\n",
      "Processed and saved transArchive_201105.csv.\n",
      "Completed processing ZIP file: transArchive_201105.zip\n",
      "\n",
      "Loaded transArchive_201106.csv successfully!\n",
      "Processed and saved transArchive_201106.csv.\n",
      "Completed processing ZIP file: transArchive_201106.zip\n",
      "\n",
      "Loaded transArchive_201107_201109.csv successfully!\n",
      "Processed and saved transArchive_201107_201109.csv.\n",
      "Completed processing ZIP file: transArchive_201107_201109.zip\n",
      "\n",
      "Loaded transArchive_201110_201112.csv successfully!\n",
      "Processed and saved transArchive_201110_201112.csv.\n",
      "Completed processing ZIP file: transArchive_201110_201112.zip\n",
      "\n",
      "Loaded transArchive_201201_201203.csv successfully!\n",
      "Processed and saved transArchive_201201_201203.csv.\n",
      "Completed processing ZIP file: transArchive_201201_201203.zip\n",
      "\n"
     ]
    },
    {
     "name": "stderr",
     "output_type": "stream",
     "text": [
      "C:\\Users\\npleg\\AppData\\Local\\Temp\\ipykernel_2968\\1349468181.py:27: DtypeWarning: Columns (42) have mixed types. Specify dtype option on import or set low_memory=False.\n",
      "  df = pd.read_csv(working_file, delimiter=delimiter, header=header)\n"
     ]
    },
    {
     "name": "stdout",
     "output_type": "stream",
     "text": [
      "Loaded transArchive_201201_201203_inactive.csv successfully!\n",
      "Processed and saved transArchive_201201_201203_inactive.csv.\n",
      "Completed processing ZIP file: transArchive_201201_201203_inactive.zip\n",
      "\n"
     ]
    },
    {
     "name": "stderr",
     "output_type": "stream",
     "text": [
      "C:\\Users\\npleg\\AppData\\Local\\Temp\\ipykernel_2968\\1349468181.py:27: DtypeWarning: Columns (33) have mixed types. Specify dtype option on import or set low_memory=False.\n",
      "  df = pd.read_csv(working_file, delimiter=delimiter, header=header)\n"
     ]
    },
    {
     "name": "stdout",
     "output_type": "stream",
     "text": [
      "Loaded transArchive_201204_201206.csv successfully!\n",
      "Processed and saved transArchive_201204_201206.csv.\n",
      "Completed processing ZIP file: transArchive_201204_201206.zip\n",
      "\n"
     ]
    },
    {
     "name": "stderr",
     "output_type": "stream",
     "text": [
      "C:\\Users\\npleg\\AppData\\Local\\Temp\\ipykernel_2968\\1349468181.py:27: DtypeWarning: Columns (42) have mixed types. Specify dtype option on import or set low_memory=False.\n",
      "  df = pd.read_csv(working_file, delimiter=delimiter, header=header)\n"
     ]
    },
    {
     "name": "stdout",
     "output_type": "stream",
     "text": [
      "Loaded transArchive_201204_201206_inactive.csv successfully!\n",
      "Processed and saved transArchive_201204_201206_inactive.csv.\n",
      "Completed processing ZIP file: transArchive_201204_201206_inactive.zip\n",
      "\n"
     ]
    },
    {
     "name": "stderr",
     "output_type": "stream",
     "text": [
      "C:\\Users\\npleg\\AppData\\Local\\Temp\\ipykernel_2968\\1349468181.py:27: DtypeWarning: Columns (33) have mixed types. Specify dtype option on import or set low_memory=False.\n",
      "  df = pd.read_csv(working_file, delimiter=delimiter, header=header)\n"
     ]
    },
    {
     "name": "stdout",
     "output_type": "stream",
     "text": [
      "Loaded transArchive_201207_201209.csv successfully!\n",
      "Processed and saved transArchive_201207_201209.csv.\n",
      "Completed processing ZIP file: transArchive_201207_201209.zip\n",
      "\n"
     ]
    },
    {
     "name": "stderr",
     "output_type": "stream",
     "text": [
      "C:\\Users\\npleg\\AppData\\Local\\Temp\\ipykernel_2968\\1349468181.py:27: DtypeWarning: Columns (33,42) have mixed types. Specify dtype option on import or set low_memory=False.\n",
      "  df = pd.read_csv(working_file, delimiter=delimiter, header=header)\n"
     ]
    },
    {
     "name": "stdout",
     "output_type": "stream",
     "text": [
      "Loaded transArchive_201207_201209_inactive.csv successfully!\n",
      "Processed and saved transArchive_201207_201209_inactive.csv.\n",
      "Completed processing ZIP file: transArchive_201207_201209_inactive.zip\n",
      "\n"
     ]
    },
    {
     "name": "stderr",
     "output_type": "stream",
     "text": [
      "C:\\Users\\npleg\\AppData\\Local\\Temp\\ipykernel_2968\\1349468181.py:27: DtypeWarning: Columns (33) have mixed types. Specify dtype option on import or set low_memory=False.\n",
      "  df = pd.read_csv(working_file, delimiter=delimiter, header=header)\n"
     ]
    },
    {
     "name": "stdout",
     "output_type": "stream",
     "text": [
      "Loaded transArchive_201210_201212.csv successfully!\n",
      "Processed and saved transArchive_201210_201212.csv.\n",
      "Completed processing ZIP file: transArchive_201210_201212.zip\n",
      "\n"
     ]
    },
    {
     "name": "stderr",
     "output_type": "stream",
     "text": [
      "C:\\Users\\npleg\\AppData\\Local\\Temp\\ipykernel_2968\\1349468181.py:27: DtypeWarning: Columns (33,42) have mixed types. Specify dtype option on import or set low_memory=False.\n",
      "  df = pd.read_csv(working_file, delimiter=delimiter, header=header)\n"
     ]
    },
    {
     "name": "stdout",
     "output_type": "stream",
     "text": [
      "Loaded transArchive_201210_201212_inactive.csv successfully!\n",
      "Processed and saved transArchive_201210_201212_inactive.csv.\n",
      "Completed processing ZIP file: transArchive_201210_201212_inactive.zip\n",
      "\n"
     ]
    },
    {
     "name": "stderr",
     "output_type": "stream",
     "text": [
      "C:\\Users\\npleg\\AppData\\Local\\Temp\\ipykernel_2968\\1349468181.py:27: DtypeWarning: Columns (33) have mixed types. Specify dtype option on import or set low_memory=False.\n",
      "  df = pd.read_csv(working_file, delimiter=delimiter, header=header)\n"
     ]
    },
    {
     "name": "stdout",
     "output_type": "stream",
     "text": [
      "Loaded transArchive_201301_201303.csv successfully!\n",
      "Processed and saved transArchive_201301_201303.csv.\n",
      "Completed processing ZIP file: transArchive_201301_201303.zip\n",
      "\n"
     ]
    },
    {
     "name": "stderr",
     "output_type": "stream",
     "text": [
      "C:\\Users\\npleg\\AppData\\Local\\Temp\\ipykernel_2968\\1349468181.py:27: DtypeWarning: Columns (33,42) have mixed types. Specify dtype option on import or set low_memory=False.\n",
      "  df = pd.read_csv(working_file, delimiter=delimiter, header=header)\n"
     ]
    },
    {
     "name": "stdout",
     "output_type": "stream",
     "text": [
      "Loaded transArchive_201301_201303_inactive.csv successfully!\n",
      "Processed and saved transArchive_201301_201303_inactive.csv.\n",
      "Completed processing ZIP file: transArchive_201301_201303_inactive.zip\n",
      "\n"
     ]
    },
    {
     "name": "stderr",
     "output_type": "stream",
     "text": [
      "C:\\Users\\npleg\\AppData\\Local\\Temp\\ipykernel_2968\\1349468181.py:27: DtypeWarning: Columns (33) have mixed types. Specify dtype option on import or set low_memory=False.\n",
      "  df = pd.read_csv(working_file, delimiter=delimiter, header=header)\n"
     ]
    },
    {
     "name": "stdout",
     "output_type": "stream",
     "text": [
      "Loaded transArchive_201304_201306.csv successfully!\n",
      "Processed and saved transArchive_201304_201306.csv.\n",
      "Completed processing ZIP file: transArchive_201304_201306.zip\n",
      "\n"
     ]
    },
    {
     "name": "stderr",
     "output_type": "stream",
     "text": [
      "C:\\Users\\npleg\\AppData\\Local\\Temp\\ipykernel_2968\\1349468181.py:27: DtypeWarning: Columns (33,42) have mixed types. Specify dtype option on import or set low_memory=False.\n",
      "  df = pd.read_csv(working_file, delimiter=delimiter, header=header)\n"
     ]
    },
    {
     "name": "stdout",
     "output_type": "stream",
     "text": [
      "Loaded transArchive_201304_201306_inactive.csv successfully!\n",
      "Processed and saved transArchive_201304_201306_inactive.csv.\n",
      "Completed processing ZIP file: transArchive_201304_201306_inactive.zip\n",
      "\n"
     ]
    },
    {
     "name": "stderr",
     "output_type": "stream",
     "text": [
      "C:\\Users\\npleg\\AppData\\Local\\Temp\\ipykernel_2968\\1349468181.py:27: DtypeWarning: Columns (33) have mixed types. Specify dtype option on import or set low_memory=False.\n",
      "  df = pd.read_csv(working_file, delimiter=delimiter, header=header)\n"
     ]
    },
    {
     "name": "stdout",
     "output_type": "stream",
     "text": [
      "Loaded transArchive_201307_201309.csv successfully!\n",
      "Processed and saved transArchive_201307_201309.csv.\n",
      "Completed processing ZIP file: transArchive_201307_201309.zip\n",
      "\n"
     ]
    },
    {
     "name": "stderr",
     "output_type": "stream",
     "text": [
      "C:\\Users\\npleg\\AppData\\Local\\Temp\\ipykernel_2968\\1349468181.py:27: DtypeWarning: Columns (42) have mixed types. Specify dtype option on import or set low_memory=False.\n",
      "  df = pd.read_csv(working_file, delimiter=delimiter, header=header)\n"
     ]
    },
    {
     "name": "stdout",
     "output_type": "stream",
     "text": [
      "Loaded transArchive_201307_201309_inactive.csv successfully!\n",
      "Processed and saved transArchive_201307_201309_inactive.csv.\n",
      "Completed processing ZIP file: transArchive_201307_201309_inactive.zip\n",
      "\n"
     ]
    },
    {
     "name": "stderr",
     "output_type": "stream",
     "text": [
      "C:\\Users\\npleg\\AppData\\Local\\Temp\\ipykernel_2968\\1349468181.py:27: DtypeWarning: Columns (33,43) have mixed types. Specify dtype option on import or set low_memory=False.\n",
      "  df = pd.read_csv(working_file, delimiter=delimiter, header=header)\n"
     ]
    },
    {
     "name": "stdout",
     "output_type": "stream",
     "text": [
      "Loaded transArchive_201310_201312.csv successfully!\n",
      "Processed and saved transArchive_201310_201312.csv.\n",
      "Completed processing ZIP file: transArchive_201310_201312.zip\n",
      "\n",
      "Loaded transArchive_201310_201312_inactive.csv successfully!\n",
      "Processed and saved transArchive_201310_201312_inactive.csv.\n",
      "Completed processing ZIP file: transArchive_201310_201312_inactive.zip\n",
      "\n"
     ]
    },
    {
     "name": "stderr",
     "output_type": "stream",
     "text": [
      "C:\\Users\\npleg\\AppData\\Local\\Temp\\ipykernel_2968\\1349468181.py:27: DtypeWarning: Columns (33,43) have mixed types. Specify dtype option on import or set low_memory=False.\n",
      "  df = pd.read_csv(working_file, delimiter=delimiter, header=header)\n"
     ]
    },
    {
     "name": "stdout",
     "output_type": "stream",
     "text": [
      "Loaded transArchive_201401_201403.csv successfully!\n",
      "Processed and saved transArchive_201401_201403.csv.\n",
      "Completed processing ZIP file: transArchive_201401_201403.zip\n",
      "\n"
     ]
    },
    {
     "name": "stderr",
     "output_type": "stream",
     "text": [
      "C:\\Users\\npleg\\AppData\\Local\\Temp\\ipykernel_2968\\1349468181.py:27: DtypeWarning: Columns (43) have mixed types. Specify dtype option on import or set low_memory=False.\n",
      "  df = pd.read_csv(working_file, delimiter=delimiter, header=header)\n"
     ]
    },
    {
     "name": "stdout",
     "output_type": "stream",
     "text": [
      "Loaded transArchive_201401_201403_inactive.csv successfully!\n",
      "Processed and saved transArchive_201401_201403_inactive.csv.\n",
      "Completed processing ZIP file: transArchive_201401_201403_inactive.zip\n",
      "\n"
     ]
    },
    {
     "name": "stderr",
     "output_type": "stream",
     "text": [
      "C:\\Users\\npleg\\AppData\\Local\\Temp\\ipykernel_2968\\1349468181.py:27: DtypeWarning: Columns (33,43) have mixed types. Specify dtype option on import or set low_memory=False.\n",
      "  df = pd.read_csv(working_file, delimiter=delimiter, header=header)\n"
     ]
    },
    {
     "name": "stdout",
     "output_type": "stream",
     "text": [
      "Loaded transArchive_201404_201406.csv successfully!\n",
      "Processed and saved transArchive_201404_201406.csv.\n",
      "Completed processing ZIP file: transArchive_201404_201406.zip\n",
      "\n",
      "Loaded transArchive_201404_201406_inactive.csv successfully!\n",
      "Processed and saved transArchive_201404_201406_inactive.csv.\n",
      "Completed processing ZIP file: transArchive_201404_201406_inactive.zip\n",
      "\n",
      "Loaded transArchive_201407_201409.csv successfully!\n",
      "Processed and saved transArchive_201407_201409.csv.\n",
      "Completed processing ZIP file: transArchive_201407_201409.zip\n",
      "\n",
      "Loaded transArchive_201407_201409_inactive.csv successfully!\n",
      "Processed and saved transArchive_201407_201409_inactive.csv.\n",
      "Completed processing ZIP file: transArchive_201407_201409_inactive.zip\n",
      "\n",
      "Loaded transArchive_201410_201412.csv successfully!\n",
      "Processed and saved transArchive_201410_201412.csv.\n",
      "Completed processing ZIP file: transArchive_201410_201412.zip\n",
      "\n",
      "Loaded transArchive_201410_201412_inactive.csv successfully!\n",
      "Processed and saved transArchive_201410_201412_inactive.csv.\n",
      "Completed processing ZIP file: transArchive_201410_201412_inactive.zip\n",
      "\n",
      "Loaded transArchive_201501_201503.csv successfully!\n",
      "Processed and saved transArchive_201501_201503.csv.\n",
      "Completed processing ZIP file: transArchive_201501_201503.zip\n",
      "\n",
      "Loaded transArchive_201504_201506.csv successfully!\n",
      "Processed and saved transArchive_201504_201506.csv.\n",
      "Completed processing ZIP file: transArchive_201504_201506.zip\n",
      "\n",
      "Loaded transArchive_201507_201509.csv successfully!\n",
      "Processed and saved transArchive_201507_201509.csv.\n",
      "Completed processing ZIP file: transArchive_201507_201509.zip\n",
      "\n",
      "Loaded transArchive_201510.csv successfully!\n",
      "Processed and saved transArchive_201510.csv.\n",
      "Completed processing ZIP file: transArchive_201510.zip\n",
      "\n"
     ]
    },
    {
     "name": "stderr",
     "output_type": "stream",
     "text": [
      "C:\\Users\\npleg\\AppData\\Local\\Temp\\ipykernel_2968\\1349468181.py:27: DtypeWarning: Columns (18,36,37,41,43,44,48) have mixed types. Specify dtype option on import or set low_memory=False.\n",
      "  df = pd.read_csv(working_file, delimiter=delimiter, header=header)\n"
     ]
    },
    {
     "name": "stdout",
     "output_type": "stream",
     "text": [
      "Loaded transArchive_201511.csv successfully!\n",
      "Processed and saved transArchive_201511.csv.\n",
      "Completed processing ZIP file: transArchive_201511.zip\n",
      "\n",
      "Loaded transArchive_201512.csv successfully!\n",
      "Processed and saved transArchive_201512.csv.\n",
      "Completed processing ZIP file: transArchive_201512.zip\n",
      "\n",
      "Loaded transArchive_201601.csv successfully!\n",
      "Processed and saved transArchive_201601.csv.\n",
      "Completed processing ZIP file: transArchive_201601.zip\n",
      "\n",
      "Loaded transArchive_201602.csv successfully!\n",
      "Processed and saved transArchive_201602.csv.\n",
      "Completed processing ZIP file: transArchive_201602.zip\n",
      "\n",
      "Loaded transArchive_201603.csv successfully!\n",
      "Processed and saved transArchive_201603.csv.\n",
      "Completed processing ZIP file: transArchive_201603.zip\n",
      "\n",
      "Loaded transArchive_201604.csv successfully!\n",
      "Processed and saved transArchive_201604.csv.\n",
      "Completed processing ZIP file: transArchive_201604.zip\n",
      "\n"
     ]
    },
    {
     "name": "stderr",
     "output_type": "stream",
     "text": [
      "C:\\Users\\npleg\\AppData\\Local\\Temp\\ipykernel_2968\\1349468181.py:27: DtypeWarning: Columns (18,36,37,41,43,44,48) have mixed types. Specify dtype option on import or set low_memory=False.\n",
      "  df = pd.read_csv(working_file, delimiter=delimiter, header=header)\n"
     ]
    },
    {
     "name": "stdout",
     "output_type": "stream",
     "text": [
      "Loaded transArchive_201605.csv successfully!\n",
      "Processed and saved transArchive_201605.csv.\n",
      "Completed processing ZIP file: transArchive_201605.zip\n",
      "\n",
      "Loaded transArchive_201606.csv successfully!\n",
      "Processed and saved transArchive_201606.csv.\n",
      "Completed processing ZIP file: transArchive_201606.zip\n",
      "\n"
     ]
    },
    {
     "name": "stderr",
     "output_type": "stream",
     "text": [
      "C:\\Users\\npleg\\AppData\\Local\\Temp\\ipykernel_2968\\1349468181.py:27: DtypeWarning: Columns (18,36,37,41,43,44,48) have mixed types. Specify dtype option on import or set low_memory=False.\n",
      "  df = pd.read_csv(working_file, delimiter=delimiter, header=header)\n"
     ]
    },
    {
     "name": "stdout",
     "output_type": "stream",
     "text": [
      "Loaded transArchive_201607.csv successfully!\n",
      "Processed and saved transArchive_201607.csv.\n",
      "Completed processing ZIP file: transArchive_201607.zip\n",
      "\n"
     ]
    },
    {
     "name": "stderr",
     "output_type": "stream",
     "text": [
      "C:\\Users\\npleg\\AppData\\Local\\Temp\\ipykernel_2968\\1349468181.py:27: DtypeWarning: Columns (18,36,37,41,43,44,48) have mixed types. Specify dtype option on import or set low_memory=False.\n",
      "  df = pd.read_csv(working_file, delimiter=delimiter, header=header)\n"
     ]
    },
    {
     "name": "stdout",
     "output_type": "stream",
     "text": [
      "Loaded transArchive_201608.csv successfully!\n",
      "Processed and saved transArchive_201608.csv.\n",
      "Completed processing ZIP file: transArchive_201608.zip\n",
      "\n"
     ]
    },
    {
     "name": "stderr",
     "output_type": "stream",
     "text": [
      "C:\\Users\\npleg\\AppData\\Local\\Temp\\ipykernel_2968\\1349468181.py:27: DtypeWarning: Columns (18,36,37,41,43,44,48) have mixed types. Specify dtype option on import or set low_memory=False.\n",
      "  df = pd.read_csv(working_file, delimiter=delimiter, header=header)\n"
     ]
    },
    {
     "name": "stdout",
     "output_type": "stream",
     "text": [
      "Loaded transArchive_201609.csv successfully!\n",
      "Processed and saved transArchive_201609.csv.\n",
      "Completed processing ZIP file: transArchive_201609.zip\n",
      "\n"
     ]
    },
    {
     "name": "stderr",
     "output_type": "stream",
     "text": [
      "C:\\Users\\npleg\\AppData\\Local\\Temp\\ipykernel_2968\\1349468181.py:27: DtypeWarning: Columns (18,36,37,41,43,44,48) have mixed types. Specify dtype option on import or set low_memory=False.\n",
      "  df = pd.read_csv(working_file, delimiter=delimiter, header=header)\n"
     ]
    },
    {
     "name": "stdout",
     "output_type": "stream",
     "text": [
      "Loaded transArchive_201610.csv successfully!\n",
      "Processed and saved transArchive_201610.csv.\n",
      "Completed processing ZIP file: transArchive_201610.zip\n",
      "\n",
      "Loaded transArchive_201611.csv successfully!\n",
      "Processed and saved transArchive_201611.csv.\n",
      "Completed processing ZIP file: transArchive_201611.zip\n",
      "\n"
     ]
    },
    {
     "name": "stderr",
     "output_type": "stream",
     "text": [
      "C:\\Users\\npleg\\AppData\\Local\\Temp\\ipykernel_2968\\1349468181.py:27: DtypeWarning: Columns (18,36,37,41,43,44,48) have mixed types. Specify dtype option on import or set low_memory=False.\n",
      "  df = pd.read_csv(working_file, delimiter=delimiter, header=header)\n"
     ]
    },
    {
     "name": "stdout",
     "output_type": "stream",
     "text": [
      "Loaded transArchive_201612.csv successfully!\n",
      "Processed and saved transArchive_201612.csv.\n",
      "Completed processing ZIP file: transArchive_201612.zip\n",
      "\n"
     ]
    },
    {
     "name": "stderr",
     "output_type": "stream",
     "text": [
      "C:\\Users\\npleg\\AppData\\Local\\Temp\\ipykernel_2968\\1349468181.py:27: DtypeWarning: Columns (18,36,37,41,43,44,48) have mixed types. Specify dtype option on import or set low_memory=False.\n",
      "  df = pd.read_csv(working_file, delimiter=delimiter, header=header)\n"
     ]
    },
    {
     "name": "stdout",
     "output_type": "stream",
     "text": [
      "Loaded transArchive_201701.csv successfully!\n",
      "Processed and saved transArchive_201701.csv.\n",
      "Completed processing ZIP file: transArchive_201701.zip\n",
      "\n"
     ]
    }
   ],
   "source": [
    "processed_files_directory = \"data/processed_files/\"\n",
    "\n",
    "# Define common headers for files without headers\n",
    "common_headers = [\n",
    "    'datetime', 'register_no', 'emp_no', 'trans_no', 'upc', 'description', \n",
    "    'trans_type', 'trans_subtype', 'trans_status', 'department', 'quantity', \n",
    "    'Scale', 'cost', 'unitPrice', 'total', 'regPrice', 'altPrice', 'tax', \n",
    "    'taxexempt', 'foodstamp', 'wicable', 'discount', 'memDiscount', \n",
    "    'discountable', 'discounttype', 'voided', 'percentDiscount', 'ItemQtty', \n",
    "    'volDiscType', 'volume', 'VolSpecial', 'mixMatch', 'matched', 'memType', \n",
    "    'staff', 'numflag', 'itemstatus', 'tenderstatus', 'charflag', 'varflag', \n",
    "    'batchHeaderID', 'local', 'organic', 'display', 'receipt', 'card_no', \n",
    "    'store', 'branch', 'match_id', 'trans_id'\n",
    "]\n",
    "\n",
    "if not os.path.exists(processed_files_directory):\n",
    "    os.makedirs(processed_files_directory)\n",
    "\n",
    "# Function to load a file with its metadata\n",
    "def load_file(file_name, working_file):\n",
    "    delimiter = delimiters.get(file_name, ',')  # Default to ','\n",
    "    has_header = headers.get(file_name, True)  # Check if the file has a header\n",
    "    header = 0 if has_header else None  # 0 for header row, None if no header\n",
    "\n",
    "    try:\n",
    "        # Load the CSV with the appropriate delimiter and header handling\n",
    "        df = pd.read_csv(working_file, delimiter=delimiter, header=header)\n",
    "\n",
    "        # Assign common headers if the file has no header\n",
    "        if not has_header:\n",
    "            df.columns = common_headers\n",
    "\n",
    "        print(f\"Loaded {file_name} successfully!\")\n",
    "        return df\n",
    "    except Exception as e:\n",
    "        print(f\"Error loading {file_name}: {e}\")\n",
    "        return None\n",
    "\n",
    "# Process ZIP files\n",
    "zip_files = os.listdir(data_directory)\n",
    "\n",
    "for current_zf in zip_files:\n",
    "    with ZipFile(os.path.join(data_directory, current_zf), 'r') as zf:\n",
    "        zipped_files = zf.namelist()\n",
    "\n",
    "        for file_name in zipped_files:\n",
    "            with zf.open(file_name) as working_file:\n",
    "                df = load_file(file_name, working_file)\n",
    "\n",
    "                if df is not None:\n",
    "                    try:\n",
    "                        # Clean and process the DataFrame\n",
    "                        df.columns = df.columns.str.strip()\n",
    "\n",
    "                        # Safely handle 'register_no' and 'quantity' columns if they exist\n",
    "                        if 'register_no' in df.columns:\n",
    "                            df['register_no'] = df['register_no'].fillna(0)\n",
    "                        if 'quantity' in df.columns:\n",
    "                            df['quantity'] = df['quantity'].fillna(0)\n",
    "\n",
    "                        # Convert datetime if the column exists\n",
    "                        if 'datetime' in df.columns:\n",
    "                            df['datetime'] = pd.to_datetime(df['datetime'], errors='coerce')\n",
    "\n",
    "\n",
    "                        # Convert columns to appropriate data types\n",
    "                        float_columns = [\n",
    "                            'register_no', 'emp_no', 'trans_no', 'department',\n",
    "                            'Scale', 'tax', 'taxexempt', 'foodstamp', 'wicable',\n",
    "                            'discountable', 'discounttype', 'voided', 'local',\n",
    "                            'receipt', 'card_no', 'store', 'branch', 'match_id',\n",
    "                            'trans_id'\n",
    "                        ]\n",
    "                        df[float_columns] = df[float_columns].astype(float, errors='ignore')\n",
    "\n",
    "                        bool_columns = ['memType', 'staff', 'batchHeaderID', 'display']\n",
    "                        df[bool_columns] = df[bool_columns].astype(bool, errors='ignore')\n",
    "\n",
    "                        df['volDiscType'] = df.get('volDiscType', \"\").astype(str)\n",
    "\n",
    "                        # Extract the base name without extensions before adding _processed.csv\n",
    "                        file_name_no_ext = os.path.splitext(file_name)[0]\n",
    "\n",
    "                        # Save the processed file\n",
    "                        processed_filename = os.path.join(\n",
    "                            processed_files_directory, f\"{file_name_no_ext}_processed.csv\"\n",
    "                        )\n",
    "                        df.to_csv(processed_filename, index=False)\n",
    "\n",
    "                        print(f\"Processed and saved {file_name}.\")\n",
    "                    except KeyError as e:\n",
    "                        print(f\"Missing expected column: {e}\")\n",
    "                    except Exception as e:\n",
    "                        print(f\"Error processing {file_name}: {e}\")\n",
    "\n",
    "        print(f\"Completed processing ZIP file: {current_zf}\\n\")\n",
    "    \n",
    "    "
   ]
  },
  {
   "cell_type": "markdown",
   "metadata": {},
   "source": [
    "#### DOUBLE CHECK CSV headers "
   ]
  },
  {
   "cell_type": "code",
   "execution_count": null,
   "metadata": {},
   "outputs": [],
   "source": [
    "# Loop through all files in the directory\n",
    "csv_files = [f for f in os.listdir(processed_files_directory) if f.endswith('.csv')]\n",
    "\n",
    "# Function to print headers of each CSV\n",
    "def print_csv_headers(file_name, file_path):\n",
    "    try:\n",
    "        # Read only the first 5 rows to print headers\n",
    "        df = pd.read_csv(file_path, nrows=5)\n",
    "        print(f\"Headers for {file_name}: {list(df.columns)}\")\n",
    "    except Exception as e:\n",
    "        print(f\"Error reading {file_name}: {e}\")\n",
    "\n",
    "# Loop through and print headers for each CSV file\n",
    "for csv_file in csv_files:\n",
    "    file_path = os.path.join(processed_files_directory, csv_file)\n",
    "    print_csv_headers(csv_file, file_path)"
   ]
  },
  {
   "cell_type": "markdown",
   "metadata": {},
   "source": []
  },
  {
   "cell_type": "code",
   "execution_count": null,
   "metadata": {},
   "outputs": [],
   "source": [
    "print(df.columns.tolist()) "
   ]
  },
  {
   "cell_type": "code",
   "execution_count": null,
   "metadata": {},
   "outputs": [],
   "source": [
    "job.result()"
   ]
  }
 ],
 "metadata": {
  "kernelspec": {
   "display_name": "Python 3",
   "language": "python",
   "name": "python3"
  },
  "language_info": {
   "codemirror_mode": {
    "name": "ipython",
    "version": 3
   },
   "file_extension": ".py",
   "mimetype": "text/x-python",
   "name": "python",
   "nbconvert_exporter": "python",
   "pygments_lexer": "ipython3",
   "version": "3.12.2"
  }
 },
 "nbformat": 4,
 "nbformat_minor": 2
}
