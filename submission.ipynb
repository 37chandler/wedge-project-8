{
 "cells": [
  {
   "cell_type": "markdown",
   "metadata": {},
   "source": [
    "## Total Rows"
   ]
  },
  {
   "cell_type": "code",
   "execution_count": null,
   "metadata": {},
   "outputs": [],
   "source": [
    "SELECT count(*) as cnt\n",
    "FROM `umt-msba.wedge_transactions.transArchive_*`\n",
    "--FROM `your_project.your_dataset.your_table_prefix_*`\n",
    "-- January/Oct 2012 Rows\n",
    "SELECT EXTRACT(Year from datetime) as Yr,\n",
    "EXTRACT(Month from datetime) as Mo,\n",
    "count(*)\n",
    "FROM `umt-msba.wedge_transactions.transArchive_*`\n",
    "--FROM `your_project.your_dataset.your_table_prefix_*`\n",
    "GROUP BY Yr, Mo\n",
    "HAVING Yr = 2012\n",
    "ORDER BY Yr, Mo\n",
    "-- January = ?\n",
    "-- October ="
   ]
  },
  {
   "cell_type": "code",
   "execution_count": null,
   "metadata": {},
   "outputs": [],
   "source": [
    "- Rows by Month\n",
    "SELECT EXTRACT(Month from datetime) as Mo,\n",
    "count(*) as cnt\n",
    "FROM `umt-msba.wedge_transactions.transArchive_*`\n",
    "--FROM `your_project.your_dataset.your_table_prefix_*`\n",
    "WHERE EXTRACT(Year from datetime) <= 2016\n",
    "GROUP BY Mo\n",
    "ORDER BY cnt\n",
    "-- January = ?\n",
    "-- October = "
   ]
  },
  {
   "cell_type": "code",
   "execution_count": null,
   "metadata": {},
   "outputs": [],
   "source": [
    "- Null Counts\n",
    "SELECT COUNTIF(trans_subtype is NULL) as Null_TS,\n",
    "COUNTIF(datetime is NULL) as Null_DT,\n",
    "COUNTIF(local IS NULL) as Null_Local,\n",
    "COUNTIF(card_no IS NULL) as Null_CN\n",
    "FROM `umt-msba.wedge_transactions.transArchive_*`\n",
    "--FROM `your_project.your_dataset.your_table_prefix_*`\n",
    "-- Each value"
   ]
  },
  {
   "cell_type": "code",
   "execution_count": null,
   "metadata": {},
   "outputs": [],
   "source": [
    "-- High volume cards\n",
    "SELECT card_no,\n",
    "COUNT(*) as cnt\n",
    "FROM `umt-msba.wedge_transactions.transArchive_*`\n",
    "--FROM `your_project.your_dataset.your_table_prefix_*`\n",
    "WHERE card_no != 3\n",
    "GROUP BY card_no\n",
    "ORDER BY cnt desc\n",
    "LIMIT 10\n",
    "-- What card is #5 on the list and how many rows does it have?\n",
    "-- 18736 Rows\n",
    "SELECT card_no,\n",
    "COUNT(*) as cnt\n",
    "FROM `umt-msba.wedge_transactions.transArchive_*`\n",
    "--FROM `your_project.your_dataset.your_table_prefix_*`\n",
    "WHERE card_no = 18736\n",
    "GROUP BY card_no\n",
    "-- How many rows do I hav"
   ]
  },
  {
   "cell_type": "code",
   "execution_count": null,
   "metadata": {},
   "outputs": [],
   "source": [
    "-- Popular Products\n",
    "SELECT LOWER(Description),\n",
    "COUNT(*) as cnt\n",
    "FROM `umt-msba.wedge_transactions.transArchive_*`\n",
    "--FROM `your_project.your_dataset.your_table_prefix_*`\n",
    "WHERE trans_type = \"I\" AND\n",
    "Description != \"Discount\"\n",
    "GROUP BY LOWER(Description)\n",
    "ORDER BY cnt desc\n",
    "LIMIT 10\n",
    "-- Which product is #1? How many rows does it have?\n",
    "-- Which product is #4? How many rows does it have?"
   ]
  },
  {
   "cell_type": "code",
   "execution_count": null,
   "metadata": {},
   "outputs": [],
   "source": [
    "Single-record items\n",
    "SELECT\n",
    "COUNT(DISTINCT Description) as SingleRecordItems\n",
    "FROM (\n",
    "SELECT LOWER(Description) as Description,\n",
    "COUNT(*) as cnt\n",
    "FROM `umt-msba.wedge_transactions.transArchive_*`\n",
    "--FROM `your_project.your_dataset.your_table_prefix_*`\n",
    "WHERE trans_type = \"I\" AND Description != \"Discount\"\n",
    "GROUP BY Description\n",
    "HAVING cnt = 1\n",
    ")"
   ]
  },
  {
   "cell_type": "code",
   "execution_count": null,
   "metadata": {},
   "outputs": [],
   "source": [
    "Owner Fractions by Year\n",
    "SELECT\n",
    "Y,\n",
    "OwnerRows,\n",
    "NonOwnerRows,\n",
    "ROUND(OwnerRows/(OwnerRows+NonOwnerRows),4) AS OwnerFrac\n",
    "FROM (\n",
    "SELECT\n",
    "EXTRACT(Year\n",
    "FROM\n",
    "datetime) AS Y,\n",
    "COUNTIF(card_no != 3) AS OwnerRows,\n",
    "COUNTIF(card_no = 3) AS NonOwnerRows\n",
    "FROM\n",
    "`umt-msba.wedge_transactions.transArchive_*`\n",
    "--`your_project.your_dataset.your_table_prefix_*`\n",
    "GROUP BY\n",
    "Y)\n",
    "ORDER BY\n",
    "Y\n",
    "-- Which year has the highest portion of owner rows? What year? What fraction?\n",
    "-- Which year has the lowest portion of owner rows? What year? What fraction?\n"
   ]
  }
 ],
 "metadata": {
  "language_info": {
   "name": "python"
  }
 },
 "nbformat": 4,
 "nbformat_minor": 2
}
